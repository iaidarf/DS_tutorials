{
 "cells": [
  {
   "cell_type": "code",
   "execution_count": 106,
   "id": "be65f41b",
   "metadata": {},
   "outputs": [],
   "source": [
    "import numpy as np\n",
    "import seaborn as sns\n",
    "import matplotlib.pyplot as plt"
   ]
  },
  {
   "cell_type": "code",
   "execution_count": 133,
   "id": "749c45d2",
   "metadata": {},
   "outputs": [
    {
     "data": {
      "text/plain": [
       "array([ 0.97905322, -0.31680742,  1.60860415, ...,  1.18762049,\n",
       "       -1.1552853 ,  0.92218684])"
      ]
     },
     "execution_count": 133,
     "metadata": {},
     "output_type": "execute_result"
    }
   ],
   "source": [
    "# массив случайных значение нормального распределения\n",
    "population = np.random.normal(size=5000)\n",
    "population"
   ]
  },
  {
   "cell_type": "code",
   "execution_count": 127,
   "id": "4bb3eb7b",
   "metadata": {
    "scrolled": true
   },
   "outputs": [
    {
     "data": {
      "text/plain": [
       "<AxesSubplot:ylabel='Count'>"
      ]
     },
     "execution_count": 127,
     "metadata": {},
     "output_type": "execute_result"
    },
    {
     "data": {
      "image/png": "[encoded data removed]",
      "text/plain": [
       "<Figure size 432x288 with 1 Axes>"
      ]
     },
     "metadata": {
      "needs_background": "light"
     },
     "output_type": "display_data"
    }
   ],
   "source": [
    "# гистограмма\n",
    "sns.histplot(data=population)"
   ]
  },
  {
   "cell_type": "markdown",
   "id": "6e6852c4",
   "metadata": {},
   "source": [
    "**Выборка** - это подмножество данных из **генеральной совокупности** (или популяции).\\\n",
    "\n",
    "**Выборочная статистика** - показатель статистики, вычисленный для для выборки из популяции. \\\n",
    "\n",
    "**Выборочное распределение** - распределение выборочной статистики на большом числе выборок, вынимаемой из одной и той же популяции.\\\n",
    "\n",
    "**Центральная предельная теорема** - тенденция выборочного распределения принимать нормальную форму по мере увеличения размера выборки, даже если исходная популяция не является нормально распределенной.\n",
    "\n",
    "**Стандартная ошибка** (standart error, se) - стандартное отклонение выборочной статистки на многочисленных выборках. По другому: мера изменчивости оценки между выборками. Стандартную ошибку можно оценить с использованием статистики, опираясь на стандартное отклонение s значений выборки и размер выборки n:\\\n",
    "$se=\\frac{s}{\\sqrt{n}}$"
   ]
  },
  {
   "cell_type": "markdown",
   "id": "1e692a06",
   "metadata": {},
   "source": [
    "Один из простых и эффективных способов оценки выборочного распределения статистики состоит в том, чтобы вынимать дополнительные выборки с возвратом из самой выборки и повторно вычислять статистику для каждой повторной выборки. Данная процедура называется бутстрапом (от англ. **bootstrap** — раскрутка, самонастройка),"
   ]
  },
  {
   "cell_type": "markdown",
   "id": "400ab8b0",
   "metadata": {},
   "source": [
    "Алгоритм бутстрапа для среднего значения для выборки размером n:\n",
    "1. извлечь выборку n элементов с возвратом данных\n",
    "2. записать целевую статистику для этой выборки\n",
    "3. повторить шаги 1 и 2 много (R раз)\n",
    "4. использовать результаты:\n",
    "    - вычисления их стандартного отколонения = стандартная ошибка выборочного среднего\n",
    "    - постороения гистограммы\n",
    "    - нахождения довретильного интервала\n",
    "    \n",
    "Число итераций R устанавливается произвольно. Чем больше R, тем точнее оценка стандартной ошибки или доверительного интервала.    "
   ]
  },
  {
   "cell_type": "code",
   "execution_count": 130,
   "id": "1a1ab585",
   "metadata": {},
   "outputs": [
    {
     "data": {
      "text/plain": [
       "<AxesSubplot:ylabel='Count'>"
      ]
     },
     "execution_count": 130,
     "metadata": {},
     "output_type": "execute_result"
    },
    {
     "data": {
      "image/png": "[encoded data removed]",
      "text/plain": [
       "<Figure size 432x288 with 1 Axes>"
      ]
     },
     "metadata": {
      "needs_background": "light"
     },
     "output_type": "display_data"
    }
   ],
   "source": [
    "# бустраповская выборка\n",
    "# отберем n случайных элементов r раз\n",
    "# сохраним все эти выборки\n",
    "n = 10\n",
    "r = 1000\n",
    "samples = []\n",
    "for _ in range(r):\n",
    "    sample = []\n",
    "    for __ in range(n):\n",
    "        z = population[np.random.randint(0, len(population))]\n",
    "        sample.append(z)\n",
    "    samples.append(sample)\n",
    "# посчитаем среднюю для каждой выборки, сохраним в виде списка и посторим по нему гистограмму, \n",
    "# и убедимся что средние по всем выборкам (это называется выборочное распределение средних ?) имеют нормальное распределение\n",
    "m = []\n",
    "for sample in samples:\n",
    "    m.append(np.array(sample).mean())\n",
    "    \n",
    "sns.histplot(data=m)    "
   ]
  },
  {
   "cell_type": "code",
   "execution_count": 132,
   "id": "f595d1d1",
   "metadata": {},
   "outputs": [
    {
     "data": {
      "text/plain": [
       "<AxesSubplot:ylabel='Count'>"
      ]
     },
     "execution_count": 132,
     "metadata": {},
     "output_type": "execute_result"
    },
    {
     "data": {
      "image/png": "[encoded data removed]",
      "text/plain": [
       "<Figure size 432x288 with 1 Axes>"
      ]
     },
     "metadata": {
      "needs_background": "light"
     },
     "output_type": "display_data"
    }
   ],
   "source": [
    "# бустраповская выборка\n",
    "# отберем n случайных элементов r раз\n",
    "# сохраним все эти выборки\n",
    "n = 100\n",
    "r = 1000\n",
    "samples = []\n",
    "for _ in range(r):\n",
    "    sample = []\n",
    "    for __ in range(n):\n",
    "        z = population[np.random.randint(0, len(population))]\n",
    "        sample.append(z)\n",
    "    samples.append(sample)\n",
    "# посчитаем среднюю для каждой выборки, сохраним в виде списка и посторим по нему гистограмму, \n",
    "# и убедимся что средние по всем выборкам (это называется выборочное распределение средних ?) имеют нормальное распределение\n",
    "m = []\n",
    "for sample in samples:\n",
    "    m.append(np.array(sample).mean())\n",
    "    \n",
    "sns.histplot(data=m)   "
   ]
  },
  {
   "cell_type": "code",
   "execution_count": 123,
   "id": "3e3dd32c",
   "metadata": {},
   "outputs": [
    {
     "data": {
      "text/plain": [
       "<AxesSubplot:ylabel='Count'>"
      ]
     },
     "execution_count": 123,
     "metadata": {},
     "output_type": "execute_result"
    },
    {
     "data": {
      "image/png": "[encoded data removed]",
      "text/plain": [
       "<Figure size 432x288 with 1 Axes>"
      ]
     },
     "metadata": {
      "needs_background": "light"
     },
     "output_type": "display_data"
    }
   ],
   "source": [
    "# бустраповская выборка\n",
    "# отберем n случайных элементов r раз\n",
    "# сохраним все эти выборки\n",
    "n = 100\n",
    "r = 1000\n",
    "samples = []\n",
    "for _ in range(r):\n",
    "    sample = []\n",
    "    for __ in range(n):\n",
    "        z = population[np.random.randint(0, len(population))]\n",
    "        sample.append(z)\n",
    "    samples.append(sample)\n",
    "# посчитаем среднюю для каждой выборки, сохраним в виде списка и посторим по нему гистограмму, \n",
    "# и убедимся что средние по всем выборкам (это называется выборочное распределение средних ?) имеют нормальное распределение\n",
    "m = []\n",
    "for sample in samples:\n",
    "    m.append(np.array(sample).mean())\n",
    "    \n",
    "sns.histplot(data=m)   "
   ]
  },
  {
   "cell_type": "code",
   "execution_count": null,
   "id": "d260c72f",
   "metadata": {},
   "outputs": [],
   "source": []
  }
 ],
 "metadata": {
  "kernelspec": {
   "display_name": "Python 3 (ipykernel)",
   "language": "python",
   "name": "python3"
  },
  "language_info": {
   "codemirror_mode": {
    "name": "ipython",
    "version": 3
   },
   "file_extension": ".py",
   "mimetype": "text/x-python",
   "name": "python",
   "nbconvert_exporter": "python",
   "pygments_lexer": "ipython3",
   "version": "3.9.7"
  }
 },
 "nbformat": 4,
 "nbformat_minor": 5
}
