{
 "cells": [
  {
   "cell_type": "code",
   "execution_count": 2,
   "metadata": {
    "executionInfo": {
     "elapsed": 621,
     "status": "ok",
     "timestamp": 1665140534862,
     "user": {
      "displayName": "Айдар И",
      "userId": "17862391114143174856"
     },
     "user_tz": -300
    },
    "id": "Lo1ntkTJ1_GH",
    "scrolled": true
   },
   "outputs": [],
   "source": [
    "import numpy as np  \n",
    "import pandas as pd  # для работы с таблицами\n",
    "from scipy import stats # При работе со статистикой\n",
    "import scipy as spy\n",
    "import matplotlib.pyplot as plt  # Библиотека для визуализации результатов \n",
    "import seaborn as sns # Более продвинутая библиотека для визуализации"
   ]
  },
  {
   "cell_type": "code",
   "execution_count": null,
   "metadata": {
    "id": "hF8VEs3P1_GR"
   },
   "outputs": [],
   "source": [
    "#Вспомогательная функция для подсчета доверительного интервала\n",
    "# https://stackoverflow.com/questions/15033511/compute-a-confidence-interval-from-sample-data\n",
    "\n",
    "def mean_confidence_interval(data, confidence=0.95): #Сложный пример реализации. Проще смотри в лекци. \n",
    "    n = len(data)\n",
    "    m, se = np.mean(data), stats.sem(data)\n",
    "    h = se * stats.t.ppf((1 + confidence)/2, n)  #  функция ppf из scipy возвращает нам перцентиль\n",
    "    return m-h, m, m+h "
   ]
  },
  {
   "cell_type": "markdown",
   "metadata": {},
   "source": [
    "**Статистическая гипотеза** - это предположение о каких-либо характеристиках случайной величины.\\\n",
    "Для проверки статистических гипотез зачастую применяются **статистические тесты**.\\\n",
    "В обобщенном виде алгоритм проверки статистической гипотезы выглядит таким образом:\n",
    "* Формулировка основной (H0) и альтернативной (H1) гипотез\n",
    "* Выбор уровня значимости\n",
    "* Выбор статистического критерия\n",
    "* Определения правила принятия решения\n",
    "* Итоговое принятие решения на основе исходной выборки данных\\\n",
    "Данные шаги являются унифицированными и схему можно использовать почти во всех случаях."
   ]
  },
  {
   "cell_type": "markdown",
   "metadata": {
    "executionInfo": {
     "elapsed": 4,
     "status": "ok",
     "timestamp": 1665140623480,
     "user": {
      "displayName": "Айдар И",
      "userId": "17862391114143174856"
     },
     "user_tz": -300
    },
    "id": "5enpGI7mG6YQ"
   },
   "source": [
    "# Статистическая проверка гипотез"
   ]
  },
  {
   "cell_type": "markdown",
   "metadata": {},
   "source": [
    "Большинство тестов работает с нормально распределенными данными, поэтому первым делом нужно проверить данные на нормальность."
   ]
  },
  {
   "cell_type": "markdown",
   "metadata": {
    "id": "lQyPXe2CGVPJ"
   },
   "source": [
    "## Критерий Шапиро-Уилка\n",
    "Проверка на принадлежность выборки нормальной генеральной совокупности\\\n",
    "H0: распределение выборки нормально\\\n",
    "H1: распределение выборки не нормально"
   ]
  },
  {
   "cell_type": "code",
   "execution_count": 39,
   "metadata": {
    "colab": {
     "base_uri": "https://localhost:8080/"
    },
    "executionInfo": {
     "elapsed": 264,
     "status": "ok",
     "timestamp": 1665141027895,
     "user": {
      "displayName": "Айдар И",
      "userId": "17862391114143174856"
     },
     "user_tz": -300
    },
    "id": "RN_HeRPaGTty",
    "outputId": "67dcf631-eb95-462b-8fac-8e081e2c1031"
   },
   "outputs": [
    {
     "name": "stdout",
     "output_type": "stream",
     "text": [
      "Statistics=0.990, p=0.655\n",
      "Normal distribution (fail to reject H0)\n"
     ]
    }
   ],
   "source": [
    "# Генерируем случайное множество с нормальным распределением, где среднее = loc, а стандартное отклонение = scale\n",
    "np.random.seed(42)\n",
    "data = stats.norm.rvs(scale = 30, loc = 250, size = 100)\n",
    "\n",
    "stat, p = stats.shapiro(data)\n",
    "print('Statistics=%.3f, p=%.3f' % (stat, p))\n",
    "alpha = 0.05\n",
    "if p > alpha:\n",
    "    print('Normal distribution (fail to reject H0)')\n",
    "else:\n",
    "    print('Not Normal distribution (reject H0)')"
   ]
  },
  {
   "cell_type": "markdown",
   "metadata": {},
   "source": [
    "**p_value > 0.05, значит не можем отклонить нулевую гипотезу, значит распределение нормальное**"
   ]
  },
  {
   "cell_type": "markdown",
   "metadata": {
    "id": "3IoS57Ot1_G5"
   },
   "source": [
    "## t-критерий Стьюдента \n",
    "Тест на равенство средних. \\\n",
    "Критерий Стьюдента имеет несколько разновидностей"
   ]
  },
  {
   "cell_type": "markdown",
   "metadata": {},
   "source": [
    "### 1. Одновыборочный (выборка + ГС)\n",
    "Тест покажет нам, отличаются ли средние значения выборки и генеральной совокупности (сравниваем с генеральной!).\\\n",
    "H0:  μ =  μ0 \\\n",
    "H1:  μ !=  μ0"
   ]
  },
  {
   "cell_type": "code",
   "execution_count": null,
   "metadata": {},
   "outputs": [],
   "source": []
  },
  {
   "cell_type": "code",
   "execution_count": null,
   "metadata": {},
   "outputs": [],
   "source": []
  },
  {
   "cell_type": "code",
   "execution_count": null,
   "metadata": {},
   "outputs": [],
   "source": []
  },
  {
   "cell_type": "code",
   "execution_count": null,
   "metadata": {},
   "outputs": [],
   "source": []
  },
  {
   "cell_type": "markdown",
   "metadata": {},
   "source": [
    "### 2. Двухвыборочный (независимые выборки)\n",
    "H0:  μ1 =  μ2 \\\n",
    "H1:  μ1 !=  μ2"
   ]
  },
  {
   "cell_type": "code",
   "execution_count": 38,
   "metadata": {
    "colab": {
     "base_uri": "https://localhost:8080/"
    },
    "executionInfo": {
     "elapsed": 266,
     "status": "ok",
     "timestamp": 1665141033297,
     "user": {
      "displayName": "Айдар И",
      "userId": "17862391114143174856"
     },
     "user_tz": -300
    },
    "id": "xDEaK4G8IQIo",
    "outputId": "8a72b9cc-8edb-44c1-fafa-6e0cb94e7750"
   },
   "outputs": [
    {
     "name": "stdout",
     "output_type": "stream",
     "text": [
      "Statistics=2.465, p=0.014\n",
      "Different distribution (reject H0)\n"
     ]
    }
   ],
   "source": [
    "# Генерируем случайное множество с нормальным распределением, где среднее = loc, а стандартное отклонение = scale\n",
    "np.random.seed(42)\n",
    "A = stats.norm.rvs(loc=50, scale=10, size=1100)  \n",
    "B = stats.norm.rvs(loc=49, scale=10, size=1500) \n",
    "\n",
    "stat, p = stats.ttest_ind(A, B) #Критерий Стьюдента (t-test)\n",
    "print('Statistics=%.3f, p=%.3f' % (stat, p))\n",
    "\n",
    "alpha = 0.05\n",
    "if p > alpha:\n",
    "\tprint('Same distribution (fail to reject H0)')\n",
    "else:\n",
    "\tprint('Different distribution (reject H0)')"
   ]
  },
  {
   "cell_type": "markdown",
   "metadata": {},
   "source": [
    "**p_value меньше уровня значимости: 0.014 < 0.05, значит отклоняем нулевую гипотезу о равенстве средних, значит различие между выборками статистически значимо**"
   ]
  },
  {
   "cell_type": "markdown",
   "metadata": {
    "id": "WETRAeut1_G8"
   },
   "source": [
    "Можно посмотреть и убедиться в этом визуально:"
   ]
  },
  {
   "cell_type": "code",
   "execution_count": 33,
   "metadata": {
    "id": "tU6TNULW1_G8",
    "outputId": "0aa2d114-8efc-45f2-b6d5-4e0fb6668c02"
   },
   "outputs": [
    {
     "data": {
      "image/png": "[encoded data removed]",
      "text/plain": [
       "<Figure size 432x288 with 1 Axes>"
      ]
     },
     "metadata": {
      "needs_background": "light"
     },
     "output_type": "display_data"
    }
   ],
   "source": [
    "plt.hist(B, bins=25); \n",
    "plt.hist(A, bins=25); "
   ]
  },
  {
   "cell_type": "code",
   "execution_count": 34,
   "metadata": {
    "colab": {
     "base_uri": "https://localhost:8080/",
     "height": 265
    },
    "executionInfo": {
     "elapsed": 372,
     "status": "ok",
     "timestamp": 1665053672889,
     "user": {
      "displayName": "Айдар И",
      "userId": "17862391114143174856"
     },
     "user_tz": -300
    },
    "id": "PWpTT7WK1_G8",
    "outputId": "28fc107e-b476-4a31-f0cd-fa54a68b0744"
   },
   "outputs": [
    {
     "data": {
      "image/png": "[encoded data removed]",
      "text/plain": [
       "<Figure size 432x288 with 1 Axes>"
      ]
     },
     "metadata": {
      "needs_background": "light"
     },
     "output_type": "display_data"
    }
   ],
   "source": [
    "plt.boxplot(A);\n",
    "plt.boxplot(B);"
   ]
  },
  {
   "cell_type": "markdown",
   "metadata": {
    "id": "biyr19TN1_HG"
   },
   "source": [
    "### 3. Двухвыборочный (зависимые выборки)\n",
    "H0:  μ1 =  μ2 \\\n",
    "H1:  μ1 !=  μ2 \\\n",
    "По другому называется t-критерий парной выборки. Представляет собой статистическую процедуру, используемую для определения того, равна ли нулю средняя разница между двумя наборами наблюдений. Каждый субъект или объект измеряется дважды, в результате чего получаются пары наблюдений. "
   ]
  },
  {
   "cell_type": "markdown",
   "metadata": {},
   "source": [
    "Предположим, нас интересует оценка эффективности программы обучения компании. Один из подходов, который можно рассмотреть - это измерение производительности выборки сотрудников до и после завершения программы и анализ различий с использованием парного выборочного t-критерия. \\\n",
    "H0: Уровень производительности сотрудников не изменился."
   ]
  },
  {
   "cell_type": "code",
   "execution_count": 26,
   "metadata": {
    "id": "8Rk7cS6Y1_HI",
    "outputId": "b1aff031-a261-464e-a5c6-9a691fa43078"
   },
   "outputs": [
    {
     "data": {
      "text/html": [
       "<div>\n",
       "<style scoped>\n",
       "    .dataframe tbody tr th:only-of-type {\n",
       "        vertical-align: middle;\n",
       "    }\n",
       "\n",
       "    .dataframe tbody tr th {\n",
       "        vertical-align: top;\n",
       "    }\n",
       "\n",
       "    .dataframe thead th {\n",
       "        text-align: right;\n",
       "    }\n",
       "</style>\n",
       "<table border=\"1\" class=\"dataframe\">\n",
       "  <thead>\n",
       "    <tr style=\"text-align: right;\">\n",
       "      <th></th>\n",
       "      <th>before</th>\n",
       "      <th>after</th>\n",
       "      <th>change</th>\n",
       "    </tr>\n",
       "  </thead>\n",
       "  <tbody>\n",
       "    <tr>\n",
       "      <th>count</th>\n",
       "      <td>100.000000</td>\n",
       "      <td>100.000000</td>\n",
       "      <td>100.000000</td>\n",
       "    </tr>\n",
       "    <tr>\n",
       "      <th>mean</th>\n",
       "      <td>246.884604</td>\n",
       "      <td>246.723127</td>\n",
       "      <td>-0.161477</td>\n",
       "    </tr>\n",
       "    <tr>\n",
       "      <th>std</th>\n",
       "      <td>27.245053</td>\n",
       "      <td>27.010808</td>\n",
       "      <td>4.768345</td>\n",
       "    </tr>\n",
       "    <tr>\n",
       "      <th>min</th>\n",
       "      <td>171.407647</td>\n",
       "      <td>172.518101</td>\n",
       "      <td>-9.866856</td>\n",
       "    </tr>\n",
       "    <tr>\n",
       "      <th>25%</th>\n",
       "      <td>231.972830</td>\n",
       "      <td>229.732678</td>\n",
       "      <td>-4.301303</td>\n",
       "    </tr>\n",
       "    <tr>\n",
       "      <th>50%</th>\n",
       "      <td>246.191311</td>\n",
       "      <td>247.144815</td>\n",
       "      <td>0.147536</td>\n",
       "    </tr>\n",
       "    <tr>\n",
       "      <th>75%</th>\n",
       "      <td>262.178562</td>\n",
       "      <td>261.714136</td>\n",
       "      <td>2.417852</td>\n",
       "    </tr>\n",
       "    <tr>\n",
       "      <th>max</th>\n",
       "      <td>305.568346</td>\n",
       "      <td>306.534314</td>\n",
       "      <td>13.327846</td>\n",
       "    </tr>\n",
       "  </tbody>\n",
       "</table>\n",
       "</div>"
      ],
      "text/plain": [
       "           before       after      change\n",
       "count  100.000000  100.000000  100.000000\n",
       "mean   246.884604  246.723127   -0.161477\n",
       "std     27.245053   27.010808    4.768345\n",
       "min    171.407647  172.518101   -9.866856\n",
       "25%    231.972830  229.732678   -4.301303\n",
       "50%    246.191311  247.144815    0.147536\n",
       "75%    262.178562  261.714136    2.417852\n",
       "max    305.568346  306.534314   13.327846"
      ]
     },
     "execution_count": 26,
     "metadata": {},
     "output_type": "execute_result"
    }
   ],
   "source": [
    "np.random.seed(42)\n",
    "before = stats.norm.rvs(scale = 30, loc = 250, size = 100)\n",
    "after = before + stats.norm.rvs(scale = 5, loc = -.273, size = 100)\n",
    "df = pd.DataFrame( {\"before\":before,\n",
    "                    \"after\":after,\n",
    "                    \"change\":after-before})\n",
    "df.describe()"
   ]
  },
  {
   "cell_type": "code",
   "execution_count": 40,
   "metadata": {
    "id": "zc-PauZ21_HJ",
    "outputId": "4cf95546-d821-4670-d994-dc6ca301b9f2"
   },
   "outputs": [
    {
     "name": "stdout",
     "output_type": "stream",
     "text": [
      "Statistics=0.339, p=0.736\n",
      "Same distribution (fail to reject H0)\n"
     ]
    }
   ],
   "source": [
    "stat, p = stats.ttest_rel(a=before, b=after)\n",
    "print('Statistics=%.3f, p=%.3f' % (stat, p))\n",
    "\n",
    "alpha = 0.05\n",
    "if p > alpha:\n",
    "    print('Same distribution (fail to reject H0)')\n",
    "else:\n",
    "    print('Different distribution (reject H0)')"
   ]
  },
  {
   "cell_type": "markdown",
   "metadata": {
    "id": "Jf1u_Diy1_HL"
   },
   "source": [
    "**p_value > 0.05. Нулевую гипотезку не можем отклонить, производительность сотрудников не изменилась.**"
   ]
  },
  {
   "cell_type": "markdown",
   "metadata": {
    "id": "EsPI8NgF1_HR"
   },
   "source": [
    "## Точный критерий Фишера\n",
    "Точный критерий Фишера используется для определения того, существует ли значительная связь между двумя категориальными переменными. Используется в анализе таблиц сопряжённости **для выборок маленьких размеров.** \\\n",
    "H0 : Две переменные независимы (носят случайный характер)\\\n",
    "H1 : Две переменные не являются независимыми."
   ]
  },
  {
   "cell_type": "markdown",
   "metadata": {},
   "source": [
    "Представьте, что вы хотите разоблачить \"волшебника\" который считает, что умеет предсказывать погоду на завтра, отвечая просто: дождь или солнце. Вы пронаблюдали за ответами \"волшебника\" в течении какого-то периода времени и получили некие результаты \n",
    "Можно ли сказать, что маг действительно умеет предсказывать погоду? Уровень значимости принять за `0.05` ($\\alpha=0.05$)."
   ]
  },
  {
   "cell_type": "code",
   "execution_count": 42,
   "metadata": {},
   "outputs": [
    {
     "data": {
      "text/html": [
       "<div>\n",
       "<style scoped>\n",
       "    .dataframe tbody tr th:only-of-type {\n",
       "        vertical-align: middle;\n",
       "    }\n",
       "\n",
       "    .dataframe tbody tr th {\n",
       "        vertical-align: top;\n",
       "    }\n",
       "\n",
       "    .dataframe thead th {\n",
       "        text-align: right;\n",
       "    }\n",
       "</style>\n",
       "<table border=\"1\" class=\"dataframe\">\n",
       "  <thead>\n",
       "    <tr style=\"text-align: right;\">\n",
       "      <th></th>\n",
       "      <th>Верные ответы волшебника</th>\n",
       "      <th>Неверные ответы</th>\n",
       "    </tr>\n",
       "  </thead>\n",
       "  <tbody>\n",
       "    <tr>\n",
       "      <th>Дождь</th>\n",
       "      <td>10</td>\n",
       "      <td>15</td>\n",
       "    </tr>\n",
       "    <tr>\n",
       "      <th>Солнце</th>\n",
       "      <td>39</td>\n",
       "      <td>34</td>\n",
       "    </tr>\n",
       "  </tbody>\n",
       "</table>\n",
       "</div>"
      ],
      "text/plain": [
       "        Верные ответы волшебника  Неверные ответы\n",
       "Дождь                         10               15\n",
       "Солнце                        39               34"
      ]
     },
     "execution_count": 42,
     "metadata": {},
     "output_type": "execute_result"
    }
   ],
   "source": [
    "observations = pd.DataFrame([[10, 15],[39, 34]],\n",
    "                            index=['Дождь','Солнце'],\n",
    "                            columns=['Верные ответы волшебника','Неверные ответы'])\n",
    "observations"
   ]
  },
  {
   "cell_type": "markdown",
   "metadata": {},
   "source": [
    "H0: предсказания носят случайный характер, нет взаимосвязи между предсказаниями и реальной погодой."
   ]
  },
  {
   "cell_type": "code",
   "execution_count": 45,
   "metadata": {},
   "outputs": [
    {
     "name": "stdout",
     "output_type": "stream",
     "text": [
      "Statistics=0.581, p=0.736\n",
      "переменные независимы (НЕ отвергаем H0)\n"
     ]
    }
   ],
   "source": [
    "stat, pvalue = stats.fisher_exact(observations)\n",
    "\n",
    "print('Statistics=%.3f, p=%.3f' % (stat, p))\n",
    "\n",
    "alpha = 0.05\n",
    "if p > alpha:\n",
    "\tprint('переменные независимы (НЕ отвергаем H0)')\n",
    "else:\n",
    "\tprint('переменные не являются независимыми (отвергаем H0)')"
   ]
  },
  {
   "cell_type": "markdown",
   "metadata": {},
   "source": [
    "## Критерий Пирсона ($\\chi^{2}$)\n",
    "Одна из его задач сказать, насколько случайно распределены значения между группами. Позволяет проверить гипотезу, есть ли значимый перевес между группами.\\\n",
    "\n",
    "H0: между распределениями нет различий\\\n",
    "H1: между распределениями есть различия"
   ]
  },
  {
   "cell_type": "markdown",
   "metadata": {},
   "source": [
    "Используя критерий «хи-квадрат» при уровне значимости α = 0,05, проверить,\n",
    "существует ли зависимость уровня интеллектуального развития учеников от типа школы\n",
    "по результатам обследования 100 сельских и 100 городских школьников: "
   ]
  },
  {
   "cell_type": "code",
   "execution_count": 19,
   "metadata": {},
   "outputs": [
    {
     "name": "stdout",
     "output_type": "stream",
     "text": [
      "Уровень интеллектуального развития\n",
      "           Низкий  Нормальный  Высокий\n",
      "Городская      25          50       25\n",
      "Сельская       52          41        7\n"
     ]
    }
   ],
   "source": [
    "# Сгенерируем табличку \n",
    "contingency_table = pd.DataFrame(\n",
    "    [  \n",
    "[25, 50, 25],\n",
    "[52, 41, 7]\n",
    "    ],\n",
    "    columns = ['Низкий', 'Нормальный', 'Высокий'],\n",
    "    index = ['Городская', 'Сельская'])\n",
    "print('Уровень интеллектуального развития')\n",
    "print(contingency_table)"
   ]
  },
  {
   "cell_type": "code",
   "execution_count": 23,
   "metadata": {},
   "outputs": [
    {
     "name": "stdout",
     "output_type": "stream",
     "text": [
      "p-value=0.000036\n",
      "Отвергаем нулевую гипотезу и принимаем H1 (между распределениями есть различия)\n",
      "Существует зависимость уровня интеллектуального развития учеников от типа школы\n"
     ]
    }
   ],
   "source": [
    "chi, pval, dof, exp = stats.chi2_contingency(contingency_table.values) #Критерий Пирсона (хи квадрат)\n",
    "alpha = 0.05\n",
    "print('p-value=%.6f' % (pval))\n",
    "\n",
    "if pval < alpha:\n",
    "    print('Отвергаем нулевую гипотезу и принимаем H1 (между распределениями есть различия)')\n",
    "    print('Существует зависимость уровня интеллектуального развития учеников от типа школы')\n",
    "else:\n",
    "    print('Принимаем нулевую гипотезы (между распределениями нет различий)')\n",
    "    print('Нет зависимости уровня интеллектуального развития учеников от типа школы ')    \n",
    "    \n",
    "# Возвращает:\n",
    "# chi2 : Посчитанную статистику теста.\n",
    "# p :  p-value теста\n",
    "# dof : Степени свободы\n",
    "# expected : Ожидаемые частоты, основанные на предельных суммах таблицы."
   ]
  },
  {
   "cell_type": "markdown",
   "metadata": {},
   "source": [
    "### Критерий Пирсона  ($\\chi^{2}$) \n",
    "для проверки гипотезы о принадлежности некоторой выборки теоретическому закону распределения "
   ]
  },
  {
   "cell_type": "code",
   "execution_count": 3,
   "metadata": {},
   "outputs": [
    {
     "name": "stdout",
     "output_type": "stream",
     "text": [
      "Statistics=6.579, p=0.037\n",
      "Not Normal distribution (reject H0)\n"
     ]
    }
   ],
   "source": [
    "# Пример проверки гипотезы о принадлежности данных нормальному распрделению\n",
    "A = [4,5,8,9,6,7,5,6,7,6,8,5,6,7,8,4,\n",
    "    6,7,9,8,6,5,7,8,6,7,5,6,8,6,7,5,\n",
    "    4,5,8,9,6,7,5,6,7,6,8,5,6,7,8,4,\n",
    "    6,7,9,8,6,5,7,8,6,7,5,6,8,6,7,5,\n",
    "    4,5,8,9,6,7,5,6,7,6,8,5,6,7,8,4,\n",
    "    6,7,9,8,6,5,7,8,6,7,5,6,8,6,7,5,\n",
    "    4,5,8,9,6,7,5,6,7,6,8,5,6,7,8,4]\n",
    "\n",
    "stat, p = stats.normaltest(A) \n",
    "print('Statistics=%.3f, p=%.3f' % (stat, p))\n",
    "alpha = 0.05\n",
    "if p > alpha:\n",
    "\tprint('Normal distribution (fail to reject H0)')\n",
    "else:\n",
    "\tprint('Not Normal distribution (reject H0)')"
   ]
  },
  {
   "cell_type": "markdown",
   "metadata": {
    "id": "1GMLVqTAi8Hn"
   },
   "source": [
    "# F-тест Фишера\n",
    "Используется для проверки равенства двух дисперсий, для нормальных распределений.\\\n",
    "H0: обе выборки имеют одинаковые дисперсии \\\n",
    "Не нашел готовой библиотечной функции, но на просторах интернета нашел такую функцию:"
   ]
  },
  {
   "cell_type": "code",
   "execution_count": 62,
   "metadata": {
    "colab": {
     "base_uri": "https://localhost:8080/"
    },
    "executionInfo": {
     "elapsed": 258,
     "status": "ok",
     "timestamp": 1665136146362,
     "user": {
      "displayName": "Айдар И",
      "userId": "17862391114143174856"
     },
     "user_tz": -300
    },
    "id": "qVWVAJAqnm0F",
    "outputId": "b762fc78-3bfe-4bb0-c75f-10cef1971be5"
   },
   "outputs": [],
   "source": [
    "def f_test(x, y):\n",
    "  \"\"\" F-test \"\"\"\n",
    "  f = np.var(x, ddof=1)/np.var(y, ddof=1) #calculate F test statistic \n",
    "  dfn = x.size-1 #define degrees of freedom numerator \n",
    "  dfd = y.size-1 #define degrees of freedom denominator \n",
    "  p = 1-stats.f.cdf(f, dfn, dfd) #find p-value of F test statistic \n",
    "  return f, p"
   ]
  },
  {
   "cell_type": "code",
   "execution_count": 64,
   "metadata": {},
   "outputs": [
    {
     "name": "stdout",
     "output_type": "stream",
     "text": [
      "Statistics=0.965, p=0.735\n",
      "Same distribution (fail to reject H0)\n"
     ]
    }
   ],
   "source": [
    "# Генерируем случайное множество с нормальным распределением, где среднее = loc, а стандартное отклонение = scale\n",
    "np.random.seed(42)\n",
    "A = stats.norm.rvs(loc=50, scale=10, size=1100)  \n",
    "B = stats.norm.rvs(loc=49, scale=10, size=1500) \n",
    "\n",
    "# Тест\n",
    "stat, p = f_test(A, B)\n",
    "print('Statistics=%.3f, p=%.3f' % (stat, p))\n",
    "\n",
    "alpha = 0.05\n",
    "if p > alpha:\n",
    "\tprint('Same distribution (fail to reject H0)')\n",
    "else:\n",
    "\tprint('Different distribution (reject H0)')"
   ]
  },
  {
   "cell_type": "markdown",
   "metadata": {},
   "source": [
    "# Критерий Флигнера-Килина\n",
    "Используется для проверки равенства двух дисперсий. Не требует предположений о нормальности сравниваемых выборок.\n",
    "H0: обе выборки имеют одинаковые дисперсии"
   ]
  },
  {
   "cell_type": "code",
   "execution_count": 8,
   "metadata": {
    "colab": {
     "base_uri": "https://localhost:8080/"
    },
    "executionInfo": {
     "elapsed": 311,
     "status": "ok",
     "timestamp": 1665135976738,
     "user": {
      "displayName": "Айдар И",
      "userId": "17862391114143174856"
     },
     "user_tz": -300
    },
    "id": "u2gz8r7QzrRh",
    "outputId": "952a5e67-a698-4654-f973-ae4081bcc237"
   },
   "outputs": [
    {
     "name": "stdout",
     "output_type": "stream",
     "text": [
      "Statistics=0.339, p=0.560\n",
      "Same distribution (fail to reject H0)\n"
     ]
    }
   ],
   "source": [
    "# Генерируем случайное множество с нормальным распределением, где среднее = loc, а стандартное отклонение = scale\n",
    "np.random.seed(42)\n",
    "A = stats.norm.rvs(loc=50, scale=10, size=1100)  \n",
    "B = stats.norm.rvs(loc=49, scale=10, size=1500) \n",
    "\n",
    "stat, p = stats.fligner(A, B)\n",
    "print('Statistics=%.3f, p=%.3f' % (stat, p))\n",
    "\n",
    "alpha = 0.05\n",
    "if p > alpha:\n",
    "\tprint('Same distribution (fail to reject H0)')\n",
    "else:\n",
    "\tprint('Different distribution (reject H0)')"
   ]
  },
  {
   "cell_type": "markdown",
   "metadata": {},
   "source": [
    "# U-Критерий Манна-Уитни\n",
    "Критерий Манна-Уитни представляет непараметрическую альтернативу t-критерия для независимых выборок. Преимущество его состоит в том, что мы отказываемся от предположения нормальности распределения и одинаковых дисперсий. Необходимо, чтобы данные были измерены как минимум в порядковой шкале.\\\n",
    "H0: нет различий между распределениями выборок данных"
   ]
  },
  {
   "cell_type": "code",
   "execution_count": 10,
   "metadata": {
    "colab": {
     "base_uri": "https://localhost:8080/"
    },
    "executionInfo": {
     "elapsed": 256,
     "status": "ok",
     "timestamp": 1665135884376,
     "user": {
      "displayName": "Айдар И",
      "userId": "17862391114143174856"
     },
     "user_tz": -300
    },
    "id": "B7VxaaW_zwYd",
    "outputId": "53ceff0e-08c8-46ce-ea71-b6588f3d0bb2"
   },
   "outputs": [
    {
     "name": "stdout",
     "output_type": "stream",
     "text": [
      "Statistics=781301.000, p=0.010\n",
      "Different distribution (reject H0)\n"
     ]
    }
   ],
   "source": [
    "# Генерируем случайное множество с нормальным распределением, где среднее = loc, а стандартное отклонение = scale\n",
    "np.random.seed(42)\n",
    "A = stats.norm.rvs(loc=50, scale=10, size=1100)  \n",
    "B = stats.norm.rvs(loc=49, scale=10, size=1500) \n",
    "\n",
    "stat, p = stats.mannwhitneyu(A, B)\n",
    "print('Statistics=%.3f, p=%.3f' % (stat, p))\n",
    "\n",
    "alpha = 0.05\n",
    "if p > alpha:\n",
    "\tprint('Same distribution (fail to reject H0)')\n",
    "else:\n",
    "\tprint('Different distribution (reject H0)')"
   ]
  },
  {
   "cell_type": "markdown",
   "metadata": {},
   "source": [
    "# Дисперсионный анализ\n",
    "\n",
    "Рассмотренный выше **t-критерий Стьюдента** (равно как и его непараметрические аналоги) предназначен для сравнения исключительно **двух совокупностей**. В таком случае мы можем применять однофакторный дисперсионный анализ.  Та переменная, которая будет разделять наших испытуемых или наблюдения на группы (номинативная переменная с нескольким градациями) называется **независимой переменной**. А та количественная переменная, по степени выраженности которой мы сравниваем группы, называется **зависимая переменная**. \n",
    "\n",
    "\n",
    "$$ SS_{total} = \\sum_{j=1}^{p}{\\sum_{i=1}^{n_j}{(x_{ij} - \\bar{x})^2}} = SS_{between} + SS_{within} $$\n",
    "$$ SS_{between} = \\sum_{j=1}^{p}{n_j{(\\bar{x}_j - \\bar{x})^2}} $$\n",
    "$$ SS_{within} = \\sum_{j=1}^{p}{\\sum_{i=1}^{n_j}{(x_{ij} - \\bar{x}_j)^2}} $$\n"
   ]
  },
  {
   "cell_type": "code",
   "execution_count": 16,
   "metadata": {},
   "outputs": [
    {
     "name": "stdout",
     "output_type": "stream",
     "text": [
      "Нулевая гипотеза: a=b=c\n",
      "Альтернативная гипотеза: !(a=b=c)\n",
      "30.0=24.0+6.0\n",
      "F-значение=12.0\n",
      "p-value=0.008000000000000002\n",
      "Результат:\n",
      "отклоняем нулевую гипотезу\n"
     ]
    },
    {
     "data": {
      "image/png": "[encoded data removed]",
      "text/plain": [
       "<Figure size 432x288 with 1 Axes>"
      ]
     },
     "metadata": {
      "needs_background": "light"
     },
     "output_type": "display_data"
    }
   ],
   "source": [
    "# Выборки которые надо сравнить\n",
    "data = pd.DataFrame({\n",
    "        'a': [3, 1, 2],\n",
    "        'b': [5, 3, 4],\n",
    "        'c': [7, 6, 5]\n",
    "    })\n",
    "data.boxplot()\n",
    "print('Нулевая гипотеза:', '='.join(data))\n",
    "print('Альтернативная гипотеза:', f'!({\"=\".join(data)})')\n",
    "\n",
    "# общая средняя\n",
    "grand_mean = data.values.mean()\n",
    "\n",
    "# Общая сумма квадратов sst = ssb + ssw\n",
    "sst = ((data - grand_mean)**2).values.sum()\n",
    "\n",
    "# отклонение групповых средний от общей средней\n",
    "ssb = (data.count(axis=0) * (data.mean(axis=0) - grand_mean)**2).values.sum()\n",
    "\n",
    "# отклонения значений внутри группы от средней группы\n",
    "ssw = ((data - data.mean(axis=0))**2).values.sum()\n",
    "\n",
    "print(f'{sst}={ssb}+{ssw}')\n",
    "\n",
    "group_count = data.shape[1]\n",
    "\n",
    "# межгрупповой средний квадрат\n",
    "dfb = group_count - 1\n",
    "mssb = ssb/dfb\n",
    "\n",
    "# внутригрупповой средний квадрат\n",
    "dfw = data.size - group_count\n",
    "mssw = ssw/dfw\n",
    "\n",
    "f_value = mssb/mssw\n",
    "print(f\"F-значение={f_value}\")\n",
    "\n",
    "p = stats.f.sf(f_value, dfb, dfw)\n",
    "print(f'p-value={p}')\n",
    "\n",
    "alpha = 0.05\n",
    "print('Результат:')\n",
    "if p > alpha:\n",
    "    print('НЕ отклоняем нулевую гипотезу')\n",
    "else:\n",
    "    print('отклоняем нулевую гипотезу')\n"
   ]
  },
  {
   "cell_type": "code",
   "execution_count": 17,
   "metadata": {},
   "outputs": [
    {
     "name": "stdout",
     "output_type": "stream",
     "text": [
      "Statistics=12.000, p=0.008\n",
      "отклоняем нулевую гипотезу\n"
     ]
    }
   ],
   "source": [
    "# библиотечная функция для дисперсионного анализа\n",
    "\n",
    "stat, p = stats.f_oneway(*data.values.T)\n",
    "print('Statistics=%.3f, p=%.3f' % (stat, p))\n",
    "\n",
    "alpha = 0.05\n",
    "if p > alpha:\n",
    "    print('НЕ отклоняем нулевую гипотезу')\n",
    "else:\n",
    "    print('отклоняем нулевую гипотезу')"
   ]
  },
  {
   "cell_type": "code",
   "execution_count": null,
   "metadata": {},
   "outputs": [],
   "source": []
  }
 ],
 "metadata": {
  "colab": {
   "collapsed_sections": [
    "0IjCMbpd1_G9",
    "nrzn7A501_HV"
   ],
   "provenance": []
  },
  "kernelspec": {
   "display_name": "Python 3",
   "language": "python",
   "name": "python3"
  },
  "language_info": {
   "codemirror_mode": {
    "name": "ipython",
    "version": 3
   },
   "file_extension": ".py",
   "mimetype": "text/x-python",
   "name": "python",
   "nbconvert_exporter": "python",
   "pygments_lexer": "ipython3",
   "version": "3.8.5"
  },
  "toc": {
   "base_numbering": 1,
   "nav_menu": {},
   "number_sections": true,
   "sideBar": true,
   "skip_h1_title": false,
   "title_cell": "Table of Contents",
   "title_sidebar": "Contents",
   "toc_cell": false,
   "toc_position": {},
   "toc_section_display": true,
   "toc_window_display": false
  }
 },
 "nbformat": 4,
 "nbformat_minor": 1
}
