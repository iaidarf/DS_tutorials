{
 "cells": [
  {
   "cell_type": "markdown",
   "metadata": {},
   "source": [
    "# Исследуем загруженные данные"
   ]
  },
  {
   "cell_type": "markdown",
   "metadata": {},
   "source": [
    "Представим, что мы анализируем продажи американского интернет-магазина. У нас есть данные о заказах и клиентах. Загрузим файл с продажами интернет-магазина в переменную orders. Раз загружаем заказы, укажем, что колонка id пойдет в индекс:"
   ]
  },
  {
   "cell_type": "code",
   "execution_count": 177,
   "metadata": {},
   "outputs": [],
   "source": [
    "import pandas as pd"
   ]
  },
  {
   "cell_type": "code",
   "execution_count": 178,
   "metadata": {},
   "outputs": [],
   "source": [
    "url_csv = 'https://raw.githubusercontent.com/iaidarf/DS_tutorials/main/notebooks/data/orders.csv'\n",
    "orders = pd.read_csv(url_csv, index_col='id')"
   ]
  },
  {
   "cell_type": "markdown",
   "metadata": {},
   "source": [
    ".shape показывает, сколько в датафрейме строк и колонок. Он возвращает пару значений (n_rows, n_columns). Сначала идут строки, потом колонки."
   ]
  },
  {
   "cell_type": "code",
   "execution_count": 179,
   "metadata": {},
   "outputs": [
    {
     "data": {
      "text/plain": [
       "(5009, 4)"
      ]
     },
     "execution_count": 179,
     "metadata": {},
     "output_type": "execute_result"
    }
   ],
   "source": [
    "orders.shape"
   ]
  },
  {
   "cell_type": "markdown",
   "metadata": {},
   "source": [
    "В датафрейме 5009 строк и 5 колонок."
   ]
  },
  {
   "cell_type": "markdown",
   "metadata": {},
   "source": [
    "С помощью .columns узнаем названия колонок:"
   ]
  },
  {
   "cell_type": "code",
   "execution_count": 180,
   "metadata": {},
   "outputs": [
    {
     "data": {
      "text/plain": [
       "Index(['order_date', 'ship_mode', 'customer_id', 'sales'], dtype='object')"
      ]
     },
     "execution_count": 180,
     "metadata": {},
     "output_type": "execute_result"
    }
   ],
   "source": [
    "orders.columns"
   ]
  },
  {
   "cell_type": "markdown",
   "metadata": {},
   "source": [
    "Видим, что в таблице есть дата заказа, метод доставки, номер клиента и выручка.\n",
    "\n",
    "С помощью .dtypes узнаем типы данных, находящихся в каждой колонке и поймем, надо ли их обрабатывать. Бывает, что числа загружаются в виде текста. Если мы попробуем сложить две текстовых значения '1' + '1', то получим не число 2, а строку '11':"
   ]
  },
  {
   "cell_type": "code",
   "execution_count": 8,
   "metadata": {},
   "outputs": [
    {
     "data": {
      "text/plain": [
       "order_date      object\n",
       "ship_mode       object\n",
       "customer_id     object\n",
       "sales          float64\n",
       "dtype: object"
      ]
     },
     "execution_count": 8,
     "metadata": {},
     "output_type": "execute_result"
    }
   ],
   "source": [
    "orders.dtypes"
   ]
  },
  {
   "cell_type": "markdown",
   "metadata": {},
   "source": [
    "Тип object — это текст, float64 — это дробное число"
   ]
  },
  {
   "cell_type": "markdown",
   "metadata": {},
   "source": [
    "C помощью атрибута .index посмотрим, как называются строки:"
   ]
  },
  {
   "cell_type": "code",
   "execution_count": 9,
   "metadata": {},
   "outputs": [
    {
     "data": {
      "text/plain": [
       "Int64Index([100006, 100090, 100293, 100328, 100363, 100391, 100678, 100706,\n",
       "            100762, 100860,\n",
       "            ...\n",
       "            167570, 167920, 168116, 168613, 168690, 168802, 169320, 169488,\n",
       "            169502, 169551],\n",
       "           dtype='int64', name='id', length=5009)"
      ]
     },
     "execution_count": 9,
     "metadata": {},
     "output_type": "execute_result"
    }
   ],
   "source": [
    "orders.index"
   ]
  },
  {
   "cell_type": "markdown",
   "metadata": {},
   "source": [
    "Ожидаемо, в индексе датафрейма номера заказов: 100762, 100860 и так далее."
   ]
  },
  {
   "cell_type": "markdown",
   "metadata": {},
   "source": [
    "В колонке sales хранится стоимость каждого проданного товара. Чтобы узнать разброс значений, среднюю стоимость и медиану, используем метод .describe():"
   ]
  },
  {
   "cell_type": "code",
   "execution_count": 10,
   "metadata": {},
   "outputs": [
    {
     "data": {
      "text/html": [
       "<div>\n",
       "<style scoped>\n",
       "    .dataframe tbody tr th:only-of-type {\n",
       "        vertical-align: middle;\n",
       "    }\n",
       "\n",
       "    .dataframe tbody tr th {\n",
       "        vertical-align: top;\n",
       "    }\n",
       "\n",
       "    .dataframe thead th {\n",
       "        text-align: right;\n",
       "    }\n",
       "</style>\n",
       "<table border=\"1\" class=\"dataframe\">\n",
       "  <thead>\n",
       "    <tr style=\"text-align: right;\">\n",
       "      <th></th>\n",
       "      <th>sales</th>\n",
       "    </tr>\n",
       "  </thead>\n",
       "  <tbody>\n",
       "    <tr>\n",
       "      <th>count</th>\n",
       "      <td>5009.000000</td>\n",
       "    </tr>\n",
       "    <tr>\n",
       "      <th>mean</th>\n",
       "      <td>458.614666</td>\n",
       "    </tr>\n",
       "    <tr>\n",
       "      <th>std</th>\n",
       "      <td>954.730953</td>\n",
       "    </tr>\n",
       "    <tr>\n",
       "      <th>min</th>\n",
       "      <td>0.556000</td>\n",
       "    </tr>\n",
       "    <tr>\n",
       "      <th>25%</th>\n",
       "      <td>37.630000</td>\n",
       "    </tr>\n",
       "    <tr>\n",
       "      <th>50%</th>\n",
       "      <td>151.960000</td>\n",
       "    </tr>\n",
       "    <tr>\n",
       "      <th>75%</th>\n",
       "      <td>512.064000</td>\n",
       "    </tr>\n",
       "    <tr>\n",
       "      <th>max</th>\n",
       "      <td>23661.228000</td>\n",
       "    </tr>\n",
       "  </tbody>\n",
       "</table>\n",
       "</div>"
      ],
      "text/plain": [
       "              sales\n",
       "count   5009.000000\n",
       "mean     458.614666\n",
       "std      954.730953\n",
       "min        0.556000\n",
       "25%       37.630000\n",
       "50%      151.960000\n",
       "75%      512.064000\n",
       "max    23661.228000"
      ]
     },
     "execution_count": 10,
     "metadata": {},
     "output_type": "execute_result"
    }
   ],
   "source": [
    "orders.describe()"
   ]
  },
  {
   "cell_type": "markdown",
   "metadata": {},
   "source": [
    "Наконец, чтобы посмотреть на несколько примеров записей датафрейма, используем команды .head() и .sample(). Первая возвращает записи из начала датафрейма. Вторая — случайные записи:"
   ]
  },
  {
   "cell_type": "code",
   "execution_count": 11,
   "metadata": {},
   "outputs": [
    {
     "data": {
      "text/html": [
       "<div>\n",
       "<style scoped>\n",
       "    .dataframe tbody tr th:only-of-type {\n",
       "        vertical-align: middle;\n",
       "    }\n",
       "\n",
       "    .dataframe tbody tr th {\n",
       "        vertical-align: top;\n",
       "    }\n",
       "\n",
       "    .dataframe thead th {\n",
       "        text-align: right;\n",
       "    }\n",
       "</style>\n",
       "<table border=\"1\" class=\"dataframe\">\n",
       "  <thead>\n",
       "    <tr style=\"text-align: right;\">\n",
       "      <th></th>\n",
       "      <th>order_date</th>\n",
       "      <th>ship_mode</th>\n",
       "      <th>customer_id</th>\n",
       "      <th>sales</th>\n",
       "    </tr>\n",
       "    <tr>\n",
       "      <th>id</th>\n",
       "      <th></th>\n",
       "      <th></th>\n",
       "      <th></th>\n",
       "      <th></th>\n",
       "    </tr>\n",
       "  </thead>\n",
       "  <tbody>\n",
       "    <tr>\n",
       "      <th>100006</th>\n",
       "      <td>2014-09-07</td>\n",
       "      <td>Standard</td>\n",
       "      <td>DK-13375</td>\n",
       "      <td>377.970</td>\n",
       "    </tr>\n",
       "    <tr>\n",
       "      <th>100090</th>\n",
       "      <td>2014-07-08</td>\n",
       "      <td>Standard</td>\n",
       "      <td>EB-13705</td>\n",
       "      <td>699.192</td>\n",
       "    </tr>\n",
       "    <tr>\n",
       "      <th>100293</th>\n",
       "      <td>2014-03-14</td>\n",
       "      <td>Standard</td>\n",
       "      <td>NF-18475</td>\n",
       "      <td>91.056</td>\n",
       "    </tr>\n",
       "    <tr>\n",
       "      <th>100328</th>\n",
       "      <td>2014-01-28</td>\n",
       "      <td>Standard</td>\n",
       "      <td>JC-15340</td>\n",
       "      <td>3.928</td>\n",
       "    </tr>\n",
       "    <tr>\n",
       "      <th>100363</th>\n",
       "      <td>2014-04-08</td>\n",
       "      <td>Standard</td>\n",
       "      <td>JM-15655</td>\n",
       "      <td>21.376</td>\n",
       "    </tr>\n",
       "  </tbody>\n",
       "</table>\n",
       "</div>"
      ],
      "text/plain": [
       "        order_date ship_mode customer_id    sales\n",
       "id                                               \n",
       "100006  2014-09-07  Standard    DK-13375  377.970\n",
       "100090  2014-07-08  Standard    EB-13705  699.192\n",
       "100293  2014-03-14  Standard    NF-18475   91.056\n",
       "100328  2014-01-28  Standard    JC-15340    3.928\n",
       "100363  2014-04-08  Standard    JM-15655   21.376"
      ]
     },
     "execution_count": 11,
     "metadata": {},
     "output_type": "execute_result"
    }
   ],
   "source": [
    "orders.head()"
   ]
  },
  {
   "cell_type": "code",
   "execution_count": 14,
   "metadata": {},
   "outputs": [
    {
     "data": {
      "text/html": [
       "<div>\n",
       "<style scoped>\n",
       "    .dataframe tbody tr th:only-of-type {\n",
       "        vertical-align: middle;\n",
       "    }\n",
       "\n",
       "    .dataframe tbody tr th {\n",
       "        vertical-align: top;\n",
       "    }\n",
       "\n",
       "    .dataframe thead th {\n",
       "        text-align: right;\n",
       "    }\n",
       "</style>\n",
       "<table border=\"1\" class=\"dataframe\">\n",
       "  <thead>\n",
       "    <tr style=\"text-align: right;\">\n",
       "      <th></th>\n",
       "      <th>order_date</th>\n",
       "      <th>ship_mode</th>\n",
       "      <th>customer_id</th>\n",
       "      <th>sales</th>\n",
       "    </tr>\n",
       "    <tr>\n",
       "      <th>id</th>\n",
       "      <th></th>\n",
       "      <th></th>\n",
       "      <th></th>\n",
       "      <th></th>\n",
       "    </tr>\n",
       "  </thead>\n",
       "  <tbody>\n",
       "    <tr>\n",
       "      <th>129462</th>\n",
       "      <td>2017-06-16</td>\n",
       "      <td>Second</td>\n",
       "      <td>JE-15745</td>\n",
       "      <td>740.590</td>\n",
       "    </tr>\n",
       "    <tr>\n",
       "      <th>131926</th>\n",
       "      <td>2014-06-01</td>\n",
       "      <td>Second</td>\n",
       "      <td>DW-13480</td>\n",
       "      <td>3745.630</td>\n",
       "    </tr>\n",
       "    <tr>\n",
       "      <th>160276</th>\n",
       "      <td>2014-04-02</td>\n",
       "      <td>Standard</td>\n",
       "      <td>AH-10690</td>\n",
       "      <td>177.680</td>\n",
       "    </tr>\n",
       "    <tr>\n",
       "      <th>107832</th>\n",
       "      <td>2017-11-23</td>\n",
       "      <td>Second</td>\n",
       "      <td>FH-14275</td>\n",
       "      <td>7.476</td>\n",
       "    </tr>\n",
       "    <tr>\n",
       "      <th>112214</th>\n",
       "      <td>2015-08-05</td>\n",
       "      <td>Standard</td>\n",
       "      <td>AH-10690</td>\n",
       "      <td>72.650</td>\n",
       "    </tr>\n",
       "  </tbody>\n",
       "</table>\n",
       "</div>"
      ],
      "text/plain": [
       "        order_date ship_mode customer_id     sales\n",
       "id                                                \n",
       "129462  2017-06-16    Second    JE-15745   740.590\n",
       "131926  2014-06-01    Second    DW-13480  3745.630\n",
       "160276  2014-04-02  Standard    AH-10690   177.680\n",
       "107832  2017-11-23    Second    FH-14275     7.476\n",
       "112214  2015-08-05  Standard    AH-10690    72.650"
      ]
     },
     "execution_count": 14,
     "metadata": {},
     "output_type": "execute_result"
    }
   ],
   "source": [
    "orders.sample(5)"
   ]
  },
  {
   "cell_type": "markdown",
   "metadata": {},
   "source": [
    "# Получаем данные из датафреймов"
   ]
  },
  {
   "cell_type": "markdown",
   "metadata": {},
   "source": [
    "Данные из датафреймов можно получать по-разному: указав номера колонок и строк, использовав условные операторы или язык запросов. Рассмотрим каждый способ."
   ]
  },
  {
   "cell_type": "markdown",
   "metadata": {},
   "source": [
    "## Указываем нужные строки и колонки\n"
   ]
  },
  {
   "cell_type": "markdown",
   "metadata": {},
   "source": [
    "Продолжаем анализировать продажи интернет-магазина, которые загрузили в предыдущем разделе. Допустим, нужно вывести столбец sales. Для этого название столбца нужно заключить в квадратные скобки и поставить после них названия датафрейма: orders['sales']:"
   ]
  },
  {
   "cell_type": "code",
   "execution_count": 15,
   "metadata": {},
   "outputs": [
    {
     "data": {
      "text/plain": [
       "id\n",
       "100006     377.970\n",
       "100090     699.192\n",
       "100293      91.056\n",
       "100328       3.928\n",
       "100363      21.376\n",
       "            ...   \n",
       "168802      18.368\n",
       "169320     171.430\n",
       "169488      56.860\n",
       "169502     113.410\n",
       "169551    1344.838\n",
       "Name: sales, Length: 5009, dtype: float64"
      ]
     },
     "execution_count": 15,
     "metadata": {},
     "output_type": "execute_result"
    }
   ],
   "source": [
    "orders['sales']"
   ]
  },
  {
   "cell_type": "markdown",
   "metadata": {},
   "source": [
    "Если нужно вывести несколько столбцов, в квадратные скобки нужно вставить список с их названиями: orders[['customer_id', 'sales']]. Будьте внимательны: квадратные скобки стали двойными. Первые — от датафрейма, вторые — от списка:"
   ]
  },
  {
   "cell_type": "code",
   "execution_count": 16,
   "metadata": {},
   "outputs": [
    {
     "data": {
      "text/html": [
       "<div>\n",
       "<style scoped>\n",
       "    .dataframe tbody tr th:only-of-type {\n",
       "        vertical-align: middle;\n",
       "    }\n",
       "\n",
       "    .dataframe tbody tr th {\n",
       "        vertical-align: top;\n",
       "    }\n",
       "\n",
       "    .dataframe thead th {\n",
       "        text-align: right;\n",
       "    }\n",
       "</style>\n",
       "<table border=\"1\" class=\"dataframe\">\n",
       "  <thead>\n",
       "    <tr style=\"text-align: right;\">\n",
       "      <th></th>\n",
       "      <th>customer_id</th>\n",
       "      <th>sales</th>\n",
       "    </tr>\n",
       "    <tr>\n",
       "      <th>id</th>\n",
       "      <th></th>\n",
       "      <th></th>\n",
       "    </tr>\n",
       "  </thead>\n",
       "  <tbody>\n",
       "    <tr>\n",
       "      <th>100006</th>\n",
       "      <td>DK-13375</td>\n",
       "      <td>377.970</td>\n",
       "    </tr>\n",
       "    <tr>\n",
       "      <th>100090</th>\n",
       "      <td>EB-13705</td>\n",
       "      <td>699.192</td>\n",
       "    </tr>\n",
       "    <tr>\n",
       "      <th>100293</th>\n",
       "      <td>NF-18475</td>\n",
       "      <td>91.056</td>\n",
       "    </tr>\n",
       "    <tr>\n",
       "      <th>100328</th>\n",
       "      <td>JC-15340</td>\n",
       "      <td>3.928</td>\n",
       "    </tr>\n",
       "    <tr>\n",
       "      <th>100363</th>\n",
       "      <td>JM-15655</td>\n",
       "      <td>21.376</td>\n",
       "    </tr>\n",
       "    <tr>\n",
       "      <th>...</th>\n",
       "      <td>...</td>\n",
       "      <td>...</td>\n",
       "    </tr>\n",
       "    <tr>\n",
       "      <th>168802</th>\n",
       "      <td>JO-15145</td>\n",
       "      <td>18.368</td>\n",
       "    </tr>\n",
       "    <tr>\n",
       "      <th>169320</th>\n",
       "      <td>LH-16900</td>\n",
       "      <td>171.430</td>\n",
       "    </tr>\n",
       "    <tr>\n",
       "      <th>169488</th>\n",
       "      <td>AA-10375</td>\n",
       "      <td>56.860</td>\n",
       "    </tr>\n",
       "    <tr>\n",
       "      <th>169502</th>\n",
       "      <td>MG-17650</td>\n",
       "      <td>113.410</td>\n",
       "    </tr>\n",
       "    <tr>\n",
       "      <th>169551</th>\n",
       "      <td>RL-19615</td>\n",
       "      <td>1344.838</td>\n",
       "    </tr>\n",
       "  </tbody>\n",
       "</table>\n",
       "<p>5009 rows × 2 columns</p>\n",
       "</div>"
      ],
      "text/plain": [
       "       customer_id     sales\n",
       "id                          \n",
       "100006    DK-13375   377.970\n",
       "100090    EB-13705   699.192\n",
       "100293    NF-18475    91.056\n",
       "100328    JC-15340     3.928\n",
       "100363    JM-15655    21.376\n",
       "...            ...       ...\n",
       "168802    JO-15145    18.368\n",
       "169320    LH-16900   171.430\n",
       "169488    AA-10375    56.860\n",
       "169502    MG-17650   113.410\n",
       "169551    RL-19615  1344.838\n",
       "\n",
       "[5009 rows x 2 columns]"
      ]
     },
     "execution_count": 16,
     "metadata": {},
     "output_type": "execute_result"
    }
   ],
   "source": [
    "orders[['customer_id', 'sales']]"
   ]
  },
  {
   "cell_type": "code",
   "execution_count": 18,
   "metadata": {},
   "outputs": [
    {
     "data": {
      "text/plain": [
       "id\n",
       "100006     377.970\n",
       "100090     699.192\n",
       "100293      91.056\n",
       "100328       3.928\n",
       "100363      21.376\n",
       "            ...   \n",
       "168802      18.368\n",
       "169320     171.430\n",
       "169488      56.860\n",
       "169502     113.410\n",
       "169551    1344.838\n",
       "Name: sales, Length: 5009, dtype: float64"
      ]
     },
     "execution_count": 18,
     "metadata": {},
     "output_type": "execute_result"
    }
   ],
   "source": [
    "# или так\n",
    "orders.sales"
   ]
  },
  {
   "cell_type": "markdown",
   "metadata": {},
   "source": [
    "Перейдем к строкам. Их можно фильтровать по индексу и по порядку. Например, мы хотим вывести только заказы 100363, 100391 и 100706, для этого есть команда .loc[]:"
   ]
  },
  {
   "cell_type": "code",
   "execution_count": 24,
   "metadata": {},
   "outputs": [
    {
     "data": {
      "text/html": [
       "<div>\n",
       "<style scoped>\n",
       "    .dataframe tbody tr th:only-of-type {\n",
       "        vertical-align: middle;\n",
       "    }\n",
       "\n",
       "    .dataframe tbody tr th {\n",
       "        vertical-align: top;\n",
       "    }\n",
       "\n",
       "    .dataframe thead th {\n",
       "        text-align: right;\n",
       "    }\n",
       "</style>\n",
       "<table border=\"1\" class=\"dataframe\">\n",
       "  <thead>\n",
       "    <tr style=\"text-align: right;\">\n",
       "      <th></th>\n",
       "      <th>order_date</th>\n",
       "      <th>ship_mode</th>\n",
       "      <th>customer_id</th>\n",
       "      <th>sales</th>\n",
       "    </tr>\n",
       "    <tr>\n",
       "      <th>id</th>\n",
       "      <th></th>\n",
       "      <th></th>\n",
       "      <th></th>\n",
       "      <th></th>\n",
       "    </tr>\n",
       "  </thead>\n",
       "  <tbody>\n",
       "    <tr>\n",
       "      <th>100363</th>\n",
       "      <td>2014-04-08</td>\n",
       "      <td>Standard</td>\n",
       "      <td>JM-15655</td>\n",
       "      <td>21.376</td>\n",
       "    </tr>\n",
       "    <tr>\n",
       "      <th>100391</th>\n",
       "      <td>2014-05-25</td>\n",
       "      <td>Standard</td>\n",
       "      <td>BW-11065</td>\n",
       "      <td>14.620</td>\n",
       "    </tr>\n",
       "    <tr>\n",
       "      <th>100706</th>\n",
       "      <td>2014-12-16</td>\n",
       "      <td>Second</td>\n",
       "      <td>LE-16810</td>\n",
       "      <td>129.440</td>\n",
       "    </tr>\n",
       "  </tbody>\n",
       "</table>\n",
       "</div>"
      ],
      "text/plain": [
       "        order_date ship_mode customer_id    sales\n",
       "id                                               \n",
       "100363  2014-04-08  Standard    JM-15655   21.376\n",
       "100391  2014-05-25  Standard    BW-11065   14.620\n",
       "100706  2014-12-16    Second    LE-16810  129.440"
      ]
     },
     "execution_count": 24,
     "metadata": {},
     "output_type": "execute_result"
    }
   ],
   "source": [
    "show_these_orders = [100363, 100391, 100706]\n",
    "orders.loc[show_these_orders]"
   ]
  },
  {
   "cell_type": "markdown",
   "metadata": {},
   "source": [
    "А в другой раз бывает нужно достать просто заказы с 1 по 3 по порядку, вне зависимости от их номеров в таблицемы. Тогда используют команду .iloc[]:"
   ]
  },
  {
   "cell_type": "code",
   "execution_count": 26,
   "metadata": {},
   "outputs": [
    {
     "data": {
      "text/html": [
       "<div>\n",
       "<style scoped>\n",
       "    .dataframe tbody tr th:only-of-type {\n",
       "        vertical-align: middle;\n",
       "    }\n",
       "\n",
       "    .dataframe tbody tr th {\n",
       "        vertical-align: top;\n",
       "    }\n",
       "\n",
       "    .dataframe thead th {\n",
       "        text-align: right;\n",
       "    }\n",
       "</style>\n",
       "<table border=\"1\" class=\"dataframe\">\n",
       "  <thead>\n",
       "    <tr style=\"text-align: right;\">\n",
       "      <th></th>\n",
       "      <th>order_date</th>\n",
       "      <th>ship_mode</th>\n",
       "      <th>customer_id</th>\n",
       "      <th>sales</th>\n",
       "    </tr>\n",
       "    <tr>\n",
       "      <th>id</th>\n",
       "      <th></th>\n",
       "      <th></th>\n",
       "      <th></th>\n",
       "      <th></th>\n",
       "    </tr>\n",
       "  </thead>\n",
       "  <tbody>\n",
       "    <tr>\n",
       "      <th>100006</th>\n",
       "      <td>2014-09-07</td>\n",
       "      <td>Standard</td>\n",
       "      <td>DK-13375</td>\n",
       "      <td>377.970</td>\n",
       "    </tr>\n",
       "    <tr>\n",
       "      <th>100090</th>\n",
       "      <td>2014-07-08</td>\n",
       "      <td>Standard</td>\n",
       "      <td>EB-13705</td>\n",
       "      <td>699.192</td>\n",
       "    </tr>\n",
       "    <tr>\n",
       "      <th>100293</th>\n",
       "      <td>2014-03-14</td>\n",
       "      <td>Standard</td>\n",
       "      <td>NF-18475</td>\n",
       "      <td>91.056</td>\n",
       "    </tr>\n",
       "  </tbody>\n",
       "</table>\n",
       "</div>"
      ],
      "text/plain": [
       "        order_date ship_mode customer_id    sales\n",
       "id                                               \n",
       "100006  2014-09-07  Standard    DK-13375  377.970\n",
       "100090  2014-07-08  Standard    EB-13705  699.192\n",
       "100293  2014-03-14  Standard    NF-18475   91.056"
      ]
     },
     "execution_count": 26,
     "metadata": {},
     "output_type": "execute_result"
    }
   ],
   "source": [
    "show_these_orders = [0, 1, 2]\n",
    "orders.iloc[show_these_orders]"
   ]
  },
  {
   "cell_type": "markdown",
   "metadata": {},
   "source": [
    "Можно фильтровать датафреймы по колонкам и столбцам одновременно:"
   ]
  },
  {
   "cell_type": "code",
   "execution_count": 29,
   "metadata": {},
   "outputs": [
    {
     "data": {
      "text/html": [
       "<div>\n",
       "<style scoped>\n",
       "    .dataframe tbody tr th:only-of-type {\n",
       "        vertical-align: middle;\n",
       "    }\n",
       "\n",
       "    .dataframe tbody tr th {\n",
       "        vertical-align: top;\n",
       "    }\n",
       "\n",
       "    .dataframe thead th {\n",
       "        text-align: right;\n",
       "    }\n",
       "</style>\n",
       "<table border=\"1\" class=\"dataframe\">\n",
       "  <thead>\n",
       "    <tr style=\"text-align: right;\">\n",
       "      <th></th>\n",
       "      <th>customer_id</th>\n",
       "      <th>sales</th>\n",
       "    </tr>\n",
       "    <tr>\n",
       "      <th>id</th>\n",
       "      <th></th>\n",
       "      <th></th>\n",
       "    </tr>\n",
       "  </thead>\n",
       "  <tbody>\n",
       "    <tr>\n",
       "      <th>100363</th>\n",
       "      <td>JM-15655</td>\n",
       "      <td>21.376</td>\n",
       "    </tr>\n",
       "    <tr>\n",
       "      <th>100391</th>\n",
       "      <td>BW-11065</td>\n",
       "      <td>14.620</td>\n",
       "    </tr>\n",
       "    <tr>\n",
       "      <th>100706</th>\n",
       "      <td>LE-16810</td>\n",
       "      <td>129.440</td>\n",
       "    </tr>\n",
       "  </tbody>\n",
       "</table>\n",
       "</div>"
      ],
      "text/plain": [
       "       customer_id    sales\n",
       "id                         \n",
       "100363    JM-15655   21.376\n",
       "100391    BW-11065   14.620\n",
       "100706    LE-16810  129.440"
      ]
     },
     "execution_count": 29,
     "metadata": {},
     "output_type": "execute_result"
    }
   ],
   "source": [
    "columns = ['customer_id', 'sales']\n",
    "rows = [100363, 100391, 100706]\n",
    "orders.loc[rows][columns]"
   ]
  },
  {
   "cell_type": "markdown",
   "metadata": {},
   "source": [
    "## Условные операторы"
   ]
  },
  {
   "cell_type": "markdown",
   "metadata": {},
   "source": [
    "Задача: нужно узнать, откуда приходят самые большие заказы. Начнем с того, что достанем все покупки стоимостью более 1000 долларов:"
   ]
  },
  {
   "cell_type": "code",
   "execution_count": 32,
   "metadata": {},
   "outputs": [],
   "source": [
    "# Проходит по каждому элементу серии и, если условие выполняется, возвращает True. Если не выполняется — False.\n",
    "filter_large = orders['sales'] > 1000\n"
   ]
  },
  {
   "cell_type": "code",
   "execution_count": 33,
   "metadata": {},
   "outputs": [
    {
     "data": {
      "text/html": [
       "<div>\n",
       "<style scoped>\n",
       "    .dataframe tbody tr th:only-of-type {\n",
       "        vertical-align: middle;\n",
       "    }\n",
       "\n",
       "    .dataframe tbody tr th {\n",
       "        vertical-align: top;\n",
       "    }\n",
       "\n",
       "    .dataframe thead th {\n",
       "        text-align: right;\n",
       "    }\n",
       "</style>\n",
       "<table border=\"1\" class=\"dataframe\">\n",
       "  <thead>\n",
       "    <tr style=\"text-align: right;\">\n",
       "      <th></th>\n",
       "      <th>order_date</th>\n",
       "      <th>ship_mode</th>\n",
       "      <th>customer_id</th>\n",
       "      <th>sales</th>\n",
       "    </tr>\n",
       "    <tr>\n",
       "      <th>id</th>\n",
       "      <th></th>\n",
       "      <th></th>\n",
       "      <th></th>\n",
       "      <th></th>\n",
       "    </tr>\n",
       "  </thead>\n",
       "  <tbody>\n",
       "    <tr>\n",
       "      <th>101931</th>\n",
       "      <td>2014-10-28</td>\n",
       "      <td>First</td>\n",
       "      <td>TS-21370</td>\n",
       "      <td>1252.602</td>\n",
       "    </tr>\n",
       "    <tr>\n",
       "      <th>102673</th>\n",
       "      <td>2014-11-01</td>\n",
       "      <td>Standard</td>\n",
       "      <td>KH-16630</td>\n",
       "      <td>1044.440</td>\n",
       "    </tr>\n",
       "    <tr>\n",
       "      <th>102988</th>\n",
       "      <td>2014-04-05</td>\n",
       "      <td>Second</td>\n",
       "      <td>GM-14695</td>\n",
       "      <td>4251.920</td>\n",
       "    </tr>\n",
       "    <tr>\n",
       "      <th>103100</th>\n",
       "      <td>2014-12-20</td>\n",
       "      <td>First</td>\n",
       "      <td>AB-10105</td>\n",
       "      <td>1107.660</td>\n",
       "    </tr>\n",
       "    <tr>\n",
       "      <th>103310</th>\n",
       "      <td>2014-05-10</td>\n",
       "      <td>Standard</td>\n",
       "      <td>GM-14680</td>\n",
       "      <td>1769.784</td>\n",
       "    </tr>\n",
       "    <tr>\n",
       "      <th>...</th>\n",
       "      <td>...</td>\n",
       "      <td>...</td>\n",
       "      <td>...</td>\n",
       "      <td>...</td>\n",
       "    </tr>\n",
       "    <tr>\n",
       "      <th>167318</th>\n",
       "      <td>2017-07-26</td>\n",
       "      <td>Standard</td>\n",
       "      <td>GZ-14545</td>\n",
       "      <td>2012.302</td>\n",
       "    </tr>\n",
       "    <tr>\n",
       "      <th>167402</th>\n",
       "      <td>2017-01-13</td>\n",
       "      <td>Second</td>\n",
       "      <td>CP-12085</td>\n",
       "      <td>4619.330</td>\n",
       "    </tr>\n",
       "    <tr>\n",
       "      <th>167920</th>\n",
       "      <td>2017-12-09</td>\n",
       "      <td>Second</td>\n",
       "      <td>JL-15835</td>\n",
       "      <td>1827.510</td>\n",
       "    </tr>\n",
       "    <tr>\n",
       "      <th>168116</th>\n",
       "      <td>2017-11-04</td>\n",
       "      <td>Same Day</td>\n",
       "      <td>GT-14635</td>\n",
       "      <td>8167.420</td>\n",
       "    </tr>\n",
       "    <tr>\n",
       "      <th>169551</th>\n",
       "      <td>2017-07-07</td>\n",
       "      <td>First</td>\n",
       "      <td>RL-19615</td>\n",
       "      <td>1344.838</td>\n",
       "    </tr>\n",
       "  </tbody>\n",
       "</table>\n",
       "<p>620 rows × 4 columns</p>\n",
       "</div>"
      ],
      "text/plain": [
       "        order_date ship_mode customer_id     sales\n",
       "id                                                \n",
       "101931  2014-10-28     First    TS-21370  1252.602\n",
       "102673  2014-11-01  Standard    KH-16630  1044.440\n",
       "102988  2014-04-05    Second    GM-14695  4251.920\n",
       "103100  2014-12-20     First    AB-10105  1107.660\n",
       "103310  2014-05-10  Standard    GM-14680  1769.784\n",
       "...            ...       ...         ...       ...\n",
       "167318  2017-07-26  Standard    GZ-14545  2012.302\n",
       "167402  2017-01-13    Second    CP-12085  4619.330\n",
       "167920  2017-12-09    Second    JL-15835  1827.510\n",
       "168116  2017-11-04  Same Day    GT-14635  8167.420\n",
       "169551  2017-07-07     First    RL-19615  1344.838\n",
       "\n",
       "[620 rows x 4 columns]"
      ]
     },
     "execution_count": 33,
     "metadata": {},
     "output_type": "execute_result"
    }
   ],
   "source": [
    "# Если элемент filter_large равен True, заказ отобразится, если False — нет.\n",
    "orders.loc[filter_large]"
   ]
  },
  {
   "cell_type": "markdown",
   "metadata": {},
   "source": [
    "Интересно, сколько дорогих заказов было доставлено первым классом? Добавим в фильтр ещё одно условие:"
   ]
  },
  {
   "cell_type": "code",
   "execution_count": 35,
   "metadata": {},
   "outputs": [
    {
     "data": {
      "text/html": [
       "<div>\n",
       "<style scoped>\n",
       "    .dataframe tbody tr th:only-of-type {\n",
       "        vertical-align: middle;\n",
       "    }\n",
       "\n",
       "    .dataframe tbody tr th {\n",
       "        vertical-align: top;\n",
       "    }\n",
       "\n",
       "    .dataframe thead th {\n",
       "        text-align: right;\n",
       "    }\n",
       "</style>\n",
       "<table border=\"1\" class=\"dataframe\">\n",
       "  <thead>\n",
       "    <tr style=\"text-align: right;\">\n",
       "      <th></th>\n",
       "      <th>order_date</th>\n",
       "      <th>ship_mode</th>\n",
       "      <th>customer_id</th>\n",
       "      <th>sales</th>\n",
       "    </tr>\n",
       "    <tr>\n",
       "      <th>id</th>\n",
       "      <th></th>\n",
       "      <th></th>\n",
       "      <th></th>\n",
       "      <th></th>\n",
       "    </tr>\n",
       "  </thead>\n",
       "  <tbody>\n",
       "    <tr>\n",
       "      <th>101931</th>\n",
       "      <td>2014-10-28</td>\n",
       "      <td>First</td>\n",
       "      <td>TS-21370</td>\n",
       "      <td>1252.602</td>\n",
       "    </tr>\n",
       "    <tr>\n",
       "      <th>103100</th>\n",
       "      <td>2014-12-20</td>\n",
       "      <td>First</td>\n",
       "      <td>AB-10105</td>\n",
       "      <td>1107.660</td>\n",
       "    </tr>\n",
       "    <tr>\n",
       "      <th>106726</th>\n",
       "      <td>2014-12-06</td>\n",
       "      <td>First</td>\n",
       "      <td>RS-19765</td>\n",
       "      <td>1261.330</td>\n",
       "    </tr>\n",
       "    <tr>\n",
       "      <th>112158</th>\n",
       "      <td>2014-12-02</td>\n",
       "      <td>First</td>\n",
       "      <td>DP-13165</td>\n",
       "      <td>1050.600</td>\n",
       "    </tr>\n",
       "    <tr>\n",
       "      <th>116666</th>\n",
       "      <td>2014-05-08</td>\n",
       "      <td>First</td>\n",
       "      <td>KT-16480</td>\n",
       "      <td>1799.970</td>\n",
       "    </tr>\n",
       "    <tr>\n",
       "      <th>...</th>\n",
       "      <td>...</td>\n",
       "      <td>...</td>\n",
       "      <td>...</td>\n",
       "      <td>...</td>\n",
       "    </tr>\n",
       "    <tr>\n",
       "      <th>147886</th>\n",
       "      <td>2017-03-28</td>\n",
       "      <td>First</td>\n",
       "      <td>DH-13075</td>\n",
       "      <td>1435.960</td>\n",
       "    </tr>\n",
       "    <tr>\n",
       "      <th>155425</th>\n",
       "      <td>2017-11-10</td>\n",
       "      <td>First</td>\n",
       "      <td>AB-10600</td>\n",
       "      <td>1475.054</td>\n",
       "    </tr>\n",
       "    <tr>\n",
       "      <th>162558</th>\n",
       "      <td>2017-10-02</td>\n",
       "      <td>First</td>\n",
       "      <td>Dp-13240</td>\n",
       "      <td>2437.672</td>\n",
       "    </tr>\n",
       "    <tr>\n",
       "      <th>165456</th>\n",
       "      <td>2017-11-30</td>\n",
       "      <td>First</td>\n",
       "      <td>TB-21625</td>\n",
       "      <td>1079.316</td>\n",
       "    </tr>\n",
       "    <tr>\n",
       "      <th>169551</th>\n",
       "      <td>2017-07-07</td>\n",
       "      <td>First</td>\n",
       "      <td>RL-19615</td>\n",
       "      <td>1344.838</td>\n",
       "    </tr>\n",
       "  </tbody>\n",
       "</table>\n",
       "<p>96 rows × 4 columns</p>\n",
       "</div>"
      ],
      "text/plain": [
       "        order_date ship_mode customer_id     sales\n",
       "id                                                \n",
       "101931  2014-10-28     First    TS-21370  1252.602\n",
       "103100  2014-12-20     First    AB-10105  1107.660\n",
       "106726  2014-12-06     First    RS-19765  1261.330\n",
       "112158  2014-12-02     First    DP-13165  1050.600\n",
       "116666  2014-05-08     First    KT-16480  1799.970\n",
       "...            ...       ...         ...       ...\n",
       "147886  2017-03-28     First    DH-13075  1435.960\n",
       "155425  2017-11-10     First    AB-10600  1475.054\n",
       "162558  2017-10-02     First    Dp-13240  2437.672\n",
       "165456  2017-11-30     First    TB-21625  1079.316\n",
       "169551  2017-07-07     First    RL-19615  1344.838\n",
       "\n",
       "[96 rows x 4 columns]"
      ]
     },
     "execution_count": 35,
     "metadata": {},
     "output_type": "execute_result"
    }
   ],
   "source": [
    "filter_large = orders['sales'] > 1000\n",
    "filter_first_class = orders['ship_mode'] == 'First'\n",
    "orders.loc[filter_large & filter_first_class]"
   ]
  },
  {
   "cell_type": "markdown",
   "metadata": {},
   "source": [
    "## Язык запросов\n"
   ]
  },
  {
   "cell_type": "markdown",
   "metadata": {},
   "source": [
    "Еще один способ решить предыдущую задачу — использовать язык запросов. Все условия пишем одной строкой 'sales > 1000 & ship_mode == 'First' и передаем ее в метод .query(). Запрос получается компактнее."
   ]
  },
  {
   "cell_type": "code",
   "execution_count": 38,
   "metadata": {},
   "outputs": [
    {
     "data": {
      "text/html": [
       "<div>\n",
       "<style scoped>\n",
       "    .dataframe tbody tr th:only-of-type {\n",
       "        vertical-align: middle;\n",
       "    }\n",
       "\n",
       "    .dataframe tbody tr th {\n",
       "        vertical-align: top;\n",
       "    }\n",
       "\n",
       "    .dataframe thead th {\n",
       "        text-align: right;\n",
       "    }\n",
       "</style>\n",
       "<table border=\"1\" class=\"dataframe\">\n",
       "  <thead>\n",
       "    <tr style=\"text-align: right;\">\n",
       "      <th></th>\n",
       "      <th>order_date</th>\n",
       "      <th>ship_mode</th>\n",
       "      <th>customer_id</th>\n",
       "      <th>sales</th>\n",
       "    </tr>\n",
       "    <tr>\n",
       "      <th>id</th>\n",
       "      <th></th>\n",
       "      <th></th>\n",
       "      <th></th>\n",
       "      <th></th>\n",
       "    </tr>\n",
       "  </thead>\n",
       "  <tbody>\n",
       "    <tr>\n",
       "      <th>101931</th>\n",
       "      <td>2014-10-28</td>\n",
       "      <td>First</td>\n",
       "      <td>TS-21370</td>\n",
       "      <td>1252.602</td>\n",
       "    </tr>\n",
       "    <tr>\n",
       "      <th>103100</th>\n",
       "      <td>2014-12-20</td>\n",
       "      <td>First</td>\n",
       "      <td>AB-10105</td>\n",
       "      <td>1107.660</td>\n",
       "    </tr>\n",
       "    <tr>\n",
       "      <th>106726</th>\n",
       "      <td>2014-12-06</td>\n",
       "      <td>First</td>\n",
       "      <td>RS-19765</td>\n",
       "      <td>1261.330</td>\n",
       "    </tr>\n",
       "    <tr>\n",
       "      <th>112158</th>\n",
       "      <td>2014-12-02</td>\n",
       "      <td>First</td>\n",
       "      <td>DP-13165</td>\n",
       "      <td>1050.600</td>\n",
       "    </tr>\n",
       "    <tr>\n",
       "      <th>116666</th>\n",
       "      <td>2014-05-08</td>\n",
       "      <td>First</td>\n",
       "      <td>KT-16480</td>\n",
       "      <td>1799.970</td>\n",
       "    </tr>\n",
       "    <tr>\n",
       "      <th>...</th>\n",
       "      <td>...</td>\n",
       "      <td>...</td>\n",
       "      <td>...</td>\n",
       "      <td>...</td>\n",
       "    </tr>\n",
       "    <tr>\n",
       "      <th>147886</th>\n",
       "      <td>2017-03-28</td>\n",
       "      <td>First</td>\n",
       "      <td>DH-13075</td>\n",
       "      <td>1435.960</td>\n",
       "    </tr>\n",
       "    <tr>\n",
       "      <th>155425</th>\n",
       "      <td>2017-11-10</td>\n",
       "      <td>First</td>\n",
       "      <td>AB-10600</td>\n",
       "      <td>1475.054</td>\n",
       "    </tr>\n",
       "    <tr>\n",
       "      <th>162558</th>\n",
       "      <td>2017-10-02</td>\n",
       "      <td>First</td>\n",
       "      <td>Dp-13240</td>\n",
       "      <td>2437.672</td>\n",
       "    </tr>\n",
       "    <tr>\n",
       "      <th>165456</th>\n",
       "      <td>2017-11-30</td>\n",
       "      <td>First</td>\n",
       "      <td>TB-21625</td>\n",
       "      <td>1079.316</td>\n",
       "    </tr>\n",
       "    <tr>\n",
       "      <th>169551</th>\n",
       "      <td>2017-07-07</td>\n",
       "      <td>First</td>\n",
       "      <td>RL-19615</td>\n",
       "      <td>1344.838</td>\n",
       "    </tr>\n",
       "  </tbody>\n",
       "</table>\n",
       "<p>96 rows × 4 columns</p>\n",
       "</div>"
      ],
      "text/plain": [
       "        order_date ship_mode customer_id     sales\n",
       "id                                                \n",
       "101931  2014-10-28     First    TS-21370  1252.602\n",
       "103100  2014-12-20     First    AB-10105  1107.660\n",
       "106726  2014-12-06     First    RS-19765  1261.330\n",
       "112158  2014-12-02     First    DP-13165  1050.600\n",
       "116666  2014-05-08     First    KT-16480  1799.970\n",
       "...            ...       ...         ...       ...\n",
       "147886  2017-03-28     First    DH-13075  1435.960\n",
       "155425  2017-11-10     First    AB-10600  1475.054\n",
       "162558  2017-10-02     First    Dp-13240  2437.672\n",
       "165456  2017-11-30     First    TB-21625  1079.316\n",
       "169551  2017-07-07     First    RL-19615  1344.838\n",
       "\n",
       "[96 rows x 4 columns]"
      ]
     },
     "execution_count": 38,
     "metadata": {},
     "output_type": "execute_result"
    }
   ],
   "source": [
    "orders.query('sales > 1000 & ship_mode == \"First\"')"
   ]
  },
  {
   "cell_type": "markdown",
   "metadata": {},
   "source": [
    "Значения для фильтров можно сохранить в переменной, а в запросе сослаться на нее с помощью символа @: sales > @sales_filter."
   ]
  },
  {
   "cell_type": "code",
   "execution_count": 39,
   "metadata": {},
   "outputs": [
    {
     "data": {
      "text/html": [
       "<div>\n",
       "<style scoped>\n",
       "    .dataframe tbody tr th:only-of-type {\n",
       "        vertical-align: middle;\n",
       "    }\n",
       "\n",
       "    .dataframe tbody tr th {\n",
       "        vertical-align: top;\n",
       "    }\n",
       "\n",
       "    .dataframe thead th {\n",
       "        text-align: right;\n",
       "    }\n",
       "</style>\n",
       "<table border=\"1\" class=\"dataframe\">\n",
       "  <thead>\n",
       "    <tr style=\"text-align: right;\">\n",
       "      <th></th>\n",
       "      <th>order_date</th>\n",
       "      <th>ship_mode</th>\n",
       "      <th>customer_id</th>\n",
       "      <th>sales</th>\n",
       "    </tr>\n",
       "    <tr>\n",
       "      <th>id</th>\n",
       "      <th></th>\n",
       "      <th></th>\n",
       "      <th></th>\n",
       "      <th></th>\n",
       "    </tr>\n",
       "  </thead>\n",
       "  <tbody>\n",
       "    <tr>\n",
       "      <th>102673</th>\n",
       "      <td>2014-11-01</td>\n",
       "      <td>Standard</td>\n",
       "      <td>KH-16630</td>\n",
       "      <td>1044.440</td>\n",
       "    </tr>\n",
       "    <tr>\n",
       "      <th>102988</th>\n",
       "      <td>2014-04-05</td>\n",
       "      <td>Second</td>\n",
       "      <td>GM-14695</td>\n",
       "      <td>4251.920</td>\n",
       "    </tr>\n",
       "    <tr>\n",
       "      <th>103310</th>\n",
       "      <td>2014-05-10</td>\n",
       "      <td>Standard</td>\n",
       "      <td>GM-14680</td>\n",
       "      <td>1769.784</td>\n",
       "    </tr>\n",
       "    <tr>\n",
       "      <th>103492</th>\n",
       "      <td>2014-10-10</td>\n",
       "      <td>Standard</td>\n",
       "      <td>CM-12715</td>\n",
       "      <td>1488.774</td>\n",
       "    </tr>\n",
       "    <tr>\n",
       "      <th>103660</th>\n",
       "      <td>2014-08-25</td>\n",
       "      <td>Standard</td>\n",
       "      <td>MW-18220</td>\n",
       "      <td>1007.944</td>\n",
       "    </tr>\n",
       "    <tr>\n",
       "      <th>...</th>\n",
       "      <td>...</td>\n",
       "      <td>...</td>\n",
       "      <td>...</td>\n",
       "      <td>...</td>\n",
       "    </tr>\n",
       "    <tr>\n",
       "      <th>166688</th>\n",
       "      <td>2017-05-20</td>\n",
       "      <td>Standard</td>\n",
       "      <td>RD-19480</td>\n",
       "      <td>1196.316</td>\n",
       "    </tr>\n",
       "    <tr>\n",
       "      <th>167318</th>\n",
       "      <td>2017-07-26</td>\n",
       "      <td>Standard</td>\n",
       "      <td>GZ-14545</td>\n",
       "      <td>2012.302</td>\n",
       "    </tr>\n",
       "    <tr>\n",
       "      <th>167402</th>\n",
       "      <td>2017-01-13</td>\n",
       "      <td>Second</td>\n",
       "      <td>CP-12085</td>\n",
       "      <td>4619.330</td>\n",
       "    </tr>\n",
       "    <tr>\n",
       "      <th>167920</th>\n",
       "      <td>2017-12-09</td>\n",
       "      <td>Second</td>\n",
       "      <td>JL-15835</td>\n",
       "      <td>1827.510</td>\n",
       "    </tr>\n",
       "    <tr>\n",
       "      <th>168116</th>\n",
       "      <td>2017-11-04</td>\n",
       "      <td>Same Day</td>\n",
       "      <td>GT-14635</td>\n",
       "      <td>8167.420</td>\n",
       "    </tr>\n",
       "  </tbody>\n",
       "</table>\n",
       "<p>524 rows × 4 columns</p>\n",
       "</div>"
      ],
      "text/plain": [
       "        order_date ship_mode customer_id     sales\n",
       "id                                                \n",
       "102673  2014-11-01  Standard    KH-16630  1044.440\n",
       "102988  2014-04-05    Second    GM-14695  4251.920\n",
       "103310  2014-05-10  Standard    GM-14680  1769.784\n",
       "103492  2014-10-10  Standard    CM-12715  1488.774\n",
       "103660  2014-08-25  Standard    MW-18220  1007.944\n",
       "...            ...       ...         ...       ...\n",
       "166688  2017-05-20  Standard    RD-19480  1196.316\n",
       "167318  2017-07-26  Standard    GZ-14545  2012.302\n",
       "167402  2017-01-13    Second    CP-12085  4619.330\n",
       "167920  2017-12-09    Second    JL-15835  1827.510\n",
       "168116  2017-11-04  Same Day    GT-14635  8167.420\n",
       "\n",
       "[524 rows x 4 columns]"
      ]
     },
     "execution_count": 39,
     "metadata": {},
     "output_type": "execute_result"
    }
   ],
   "source": [
    "sales_filter = 1000\n",
    "ship_mode_filter = 'First'\n",
    "orders.query('sales > @sales_filter & ship_mode > @ship_mode_filter')"
   ]
  },
  {
   "cell_type": "markdown",
   "metadata": {},
   "source": [
    "Разобравшись, как получать куски данных из датафрейма, перейдем к тому, как считать агрегированные метрики: количество заказов, суммарную выручку, средний чек, конверсию."
   ]
  },
  {
   "cell_type": "markdown",
   "metadata": {},
   "source": [
    "# Считаем производные метрики\n"
   ]
  },
  {
   "cell_type": "markdown",
   "metadata": {},
   "source": [
    "Задача: посчитаем, сколько денег магазин заработал с помощью каждого класса доставки. Начнем с простого — просуммируем выручку со всех заказов. Для этого используем метод .sum():"
   ]
  },
  {
   "cell_type": "code",
   "execution_count": 40,
   "metadata": {},
   "outputs": [
    {
     "data": {
      "text/plain": [
       "2297200.8603000003"
      ]
     },
     "execution_count": 40,
     "metadata": {},
     "output_type": "execute_result"
    }
   ],
   "source": [
    "orders['sales'].sum()"
   ]
  },
  {
   "cell_type": "markdown",
   "metadata": {},
   "source": [
    "Добавим класс доставки. Перед суммированием сгруппируем данные с помощью метода .groupby():"
   ]
  },
  {
   "cell_type": "code",
   "execution_count": 41,
   "metadata": {},
   "outputs": [
    {
     "data": {
      "text/plain": [
       "ship_mode\n",
       "First       3.514284e+05\n",
       "Same Day    1.283631e+05\n",
       "Second      4.591936e+05\n",
       "Standard    1.358216e+06\n",
       "Name: sales, dtype: float64"
      ]
     },
     "execution_count": 41,
     "metadata": {},
     "output_type": "execute_result"
    }
   ],
   "source": [
    "orders.groupby('ship_mode')['sales'].sum()"
   ]
  },
  {
   "cell_type": "markdown",
   "metadata": {},
   "source": [
    "Можем сказать Pandas, чтобы округлял значения до сотых:"
   ]
  },
  {
   "cell_type": "code",
   "execution_count": 42,
   "metadata": {},
   "outputs": [
    {
     "data": {
      "text/plain": [
       "ship_mode\n",
       "First        351,428.4\n",
       "Same Day     128,363.1\n",
       "Second       459,193.6\n",
       "Standard   1,358,215.7\n",
       "Name: sales, dtype: float64"
      ]
     },
     "execution_count": 42,
     "metadata": {},
     "output_type": "execute_result"
    }
   ],
   "source": [
    "pd.options.display.float_format = '{:,.1f}'.format\n",
    "orders.groupby('ship_mode')['sales'].sum()"
   ]
  },
  {
   "cell_type": "markdown",
   "metadata": {},
   "source": [
    "Добавим разбивку по датам заказа:\n"
   ]
  },
  {
   "cell_type": "code",
   "execution_count": 43,
   "metadata": {},
   "outputs": [
    {
     "data": {
      "text/plain": [
       "ship_mode  order_date\n",
       "First      2014-01-06      12.8\n",
       "           2014-01-11       9.9\n",
       "           2014-01-14      62.0\n",
       "           2014-01-15     149.9\n",
       "           2014-01-19     378.6\n",
       "                          ...  \n",
       "Standard   2017-12-25   1,338.3\n",
       "           2017-12-26      63.9\n",
       "           2017-12-28     589.6\n",
       "           2017-12-29   1,094.8\n",
       "           2017-12-30     713.8\n",
       "Name: sales, Length: 2498, dtype: float64"
      ]
     },
     "execution_count": 43,
     "metadata": {},
     "output_type": "execute_result"
    }
   ],
   "source": [
    "orders.groupby(['ship_mode', 'order_date'])['sales'].sum()"
   ]
  },
  {
   "cell_type": "markdown",
   "metadata": {},
   "source": [
    "Видно, что выручка прыгает ото дня ко дню: иногда 10 долларов, а иногда 378. Интересно, это меняется количество заказов или средний чек? Добавим к выборке количество заказов. Для этого вместо .sum() используем метод .agg(), в который передадим список с названиями нужных функций."
   ]
  },
  {
   "cell_type": "code",
   "execution_count": 44,
   "metadata": {},
   "outputs": [
    {
     "data": {
      "text/html": [
       "<div>\n",
       "<style scoped>\n",
       "    .dataframe tbody tr th:only-of-type {\n",
       "        vertical-align: middle;\n",
       "    }\n",
       "\n",
       "    .dataframe tbody tr th {\n",
       "        vertical-align: top;\n",
       "    }\n",
       "\n",
       "    .dataframe thead th {\n",
       "        text-align: right;\n",
       "    }\n",
       "</style>\n",
       "<table border=\"1\" class=\"dataframe\">\n",
       "  <thead>\n",
       "    <tr style=\"text-align: right;\">\n",
       "      <th></th>\n",
       "      <th></th>\n",
       "      <th>sum</th>\n",
       "      <th>count</th>\n",
       "    </tr>\n",
       "    <tr>\n",
       "      <th>ship_mode</th>\n",
       "      <th>order_date</th>\n",
       "      <th></th>\n",
       "      <th></th>\n",
       "    </tr>\n",
       "  </thead>\n",
       "  <tbody>\n",
       "    <tr>\n",
       "      <th rowspan=\"5\" valign=\"top\">First</th>\n",
       "      <th>2014-01-06</th>\n",
       "      <td>12.8</td>\n",
       "      <td>1</td>\n",
       "    </tr>\n",
       "    <tr>\n",
       "      <th>2014-01-11</th>\n",
       "      <td>9.9</td>\n",
       "      <td>1</td>\n",
       "    </tr>\n",
       "    <tr>\n",
       "      <th>2014-01-14</th>\n",
       "      <td>62.0</td>\n",
       "      <td>1</td>\n",
       "    </tr>\n",
       "    <tr>\n",
       "      <th>2014-01-15</th>\n",
       "      <td>149.9</td>\n",
       "      <td>1</td>\n",
       "    </tr>\n",
       "    <tr>\n",
       "      <th>2014-01-19</th>\n",
       "      <td>378.6</td>\n",
       "      <td>1</td>\n",
       "    </tr>\n",
       "    <tr>\n",
       "      <th>...</th>\n",
       "      <th>...</th>\n",
       "      <td>...</td>\n",
       "      <td>...</td>\n",
       "    </tr>\n",
       "    <tr>\n",
       "      <th rowspan=\"5\" valign=\"top\">Standard</th>\n",
       "      <th>2017-12-25</th>\n",
       "      <td>1,338.3</td>\n",
       "      <td>7</td>\n",
       "    </tr>\n",
       "    <tr>\n",
       "      <th>2017-12-26</th>\n",
       "      <td>63.9</td>\n",
       "      <td>3</td>\n",
       "    </tr>\n",
       "    <tr>\n",
       "      <th>2017-12-28</th>\n",
       "      <td>589.6</td>\n",
       "      <td>7</td>\n",
       "    </tr>\n",
       "    <tr>\n",
       "      <th>2017-12-29</th>\n",
       "      <td>1,094.8</td>\n",
       "      <td>4</td>\n",
       "    </tr>\n",
       "    <tr>\n",
       "      <th>2017-12-30</th>\n",
       "      <td>713.8</td>\n",
       "      <td>4</td>\n",
       "    </tr>\n",
       "  </tbody>\n",
       "</table>\n",
       "<p>2498 rows × 2 columns</p>\n",
       "</div>"
      ],
      "text/plain": [
       "                         sum  count\n",
       "ship_mode order_date               \n",
       "First     2014-01-06    12.8      1\n",
       "          2014-01-11     9.9      1\n",
       "          2014-01-14    62.0      1\n",
       "          2014-01-15   149.9      1\n",
       "          2014-01-19   378.6      1\n",
       "...                      ...    ...\n",
       "Standard  2017-12-25 1,338.3      7\n",
       "          2017-12-26    63.9      3\n",
       "          2017-12-28   589.6      7\n",
       "          2017-12-29 1,094.8      4\n",
       "          2017-12-30   713.8      4\n",
       "\n",
       "[2498 rows x 2 columns]"
      ]
     },
     "execution_count": 44,
     "metadata": {},
     "output_type": "execute_result"
    }
   ],
   "source": [
    "orders.groupby(['ship_mode', 'order_date'])['sales'].agg(['sum', 'count'])"
   ]
  },
  {
   "cell_type": "markdown",
   "metadata": {},
   "source": [
    "Получается, что это так прыгает средний чек. Интересно, а какой был самый удачный день? Чтобы узнать, отсортируем получившийся датафрейм: выведем 10 самых денежных дней по выручке:"
   ]
  },
  {
   "cell_type": "code",
   "execution_count": 45,
   "metadata": {},
   "outputs": [
    {
     "data": {
      "text/html": [
       "<div>\n",
       "<style scoped>\n",
       "    .dataframe tbody tr th:only-of-type {\n",
       "        vertical-align: middle;\n",
       "    }\n",
       "\n",
       "    .dataframe tbody tr th {\n",
       "        vertical-align: top;\n",
       "    }\n",
       "\n",
       "    .dataframe thead th {\n",
       "        text-align: right;\n",
       "    }\n",
       "</style>\n",
       "<table border=\"1\" class=\"dataframe\">\n",
       "  <thead>\n",
       "    <tr style=\"text-align: right;\">\n",
       "      <th></th>\n",
       "      <th></th>\n",
       "      <th>sum</th>\n",
       "    </tr>\n",
       "    <tr>\n",
       "      <th>ship_mode</th>\n",
       "      <th>order_date</th>\n",
       "      <th></th>\n",
       "    </tr>\n",
       "  </thead>\n",
       "  <tbody>\n",
       "    <tr>\n",
       "      <th rowspan=\"2\" valign=\"top\">Standard</th>\n",
       "      <th>2014-03-18</th>\n",
       "      <td>26,908.4</td>\n",
       "    </tr>\n",
       "    <tr>\n",
       "      <th>2016-10-02</th>\n",
       "      <td>18,398.2</td>\n",
       "    </tr>\n",
       "    <tr>\n",
       "      <th>First</th>\n",
       "      <th>2017-03-23</th>\n",
       "      <td>14,299.1</td>\n",
       "    </tr>\n",
       "    <tr>\n",
       "      <th>Standard</th>\n",
       "      <th>2014-09-08</th>\n",
       "      <td>14,060.4</td>\n",
       "    </tr>\n",
       "    <tr>\n",
       "      <th>First</th>\n",
       "      <th>2017-10-22</th>\n",
       "      <td>13,716.5</td>\n",
       "    </tr>\n",
       "    <tr>\n",
       "      <th rowspan=\"5\" valign=\"top\">Standard</th>\n",
       "      <th>2016-12-17</th>\n",
       "      <td>12,185.1</td>\n",
       "    </tr>\n",
       "    <tr>\n",
       "      <th>2017-11-17</th>\n",
       "      <td>12,112.5</td>\n",
       "    </tr>\n",
       "    <tr>\n",
       "      <th>2015-09-17</th>\n",
       "      <td>11,467.6</td>\n",
       "    </tr>\n",
       "    <tr>\n",
       "      <th>2016-05-23</th>\n",
       "      <td>10,561.0</td>\n",
       "    </tr>\n",
       "    <tr>\n",
       "      <th>2014-09-23</th>\n",
       "      <td>10,478.6</td>\n",
       "    </tr>\n",
       "  </tbody>\n",
       "</table>\n",
       "</div>"
      ],
      "text/plain": [
       "                          sum\n",
       "ship_mode order_date         \n",
       "Standard  2014-03-18 26,908.4\n",
       "          2016-10-02 18,398.2\n",
       "First     2017-03-23 14,299.1\n",
       "Standard  2014-09-08 14,060.4\n",
       "First     2017-10-22 13,716.5\n",
       "Standard  2016-12-17 12,185.1\n",
       "          2017-11-17 12,112.5\n",
       "          2015-09-17 11,467.6\n",
       "          2016-05-23 10,561.0\n",
       "          2014-09-23 10,478.6"
      ]
     },
     "execution_count": 45,
     "metadata": {},
     "output_type": "execute_result"
    }
   ],
   "source": [
    "orders.groupby(['ship_mode', 'order_date'])['sales'].agg(['sum']).sort_values(by='sum', ascending=False).head(10)"
   ]
  },
  {
   "cell_type": "markdown",
   "metadata": {},
   "source": [
    "Команда разрослась, и её теперь неудобно читать. Чтобы упростить, можно разбить её на несколько строк. В конце каждой строки ставим обратный слеш \\:"
   ]
  },
  {
   "cell_type": "code",
   "execution_count": 46,
   "metadata": {},
   "outputs": [
    {
     "data": {
      "text/html": [
       "<div>\n",
       "<style scoped>\n",
       "    .dataframe tbody tr th:only-of-type {\n",
       "        vertical-align: middle;\n",
       "    }\n",
       "\n",
       "    .dataframe tbody tr th {\n",
       "        vertical-align: top;\n",
       "    }\n",
       "\n",
       "    .dataframe thead th {\n",
       "        text-align: right;\n",
       "    }\n",
       "</style>\n",
       "<table border=\"1\" class=\"dataframe\">\n",
       "  <thead>\n",
       "    <tr style=\"text-align: right;\">\n",
       "      <th></th>\n",
       "      <th></th>\n",
       "      <th>sum</th>\n",
       "    </tr>\n",
       "    <tr>\n",
       "      <th>ship_mode</th>\n",
       "      <th>order_date</th>\n",
       "      <th></th>\n",
       "    </tr>\n",
       "  </thead>\n",
       "  <tbody>\n",
       "    <tr>\n",
       "      <th rowspan=\"2\" valign=\"top\">Standard</th>\n",
       "      <th>2014-03-18</th>\n",
       "      <td>26,908.4</td>\n",
       "    </tr>\n",
       "    <tr>\n",
       "      <th>2016-10-02</th>\n",
       "      <td>18,398.2</td>\n",
       "    </tr>\n",
       "    <tr>\n",
       "      <th>First</th>\n",
       "      <th>2017-03-23</th>\n",
       "      <td>14,299.1</td>\n",
       "    </tr>\n",
       "    <tr>\n",
       "      <th>Standard</th>\n",
       "      <th>2014-09-08</th>\n",
       "      <td>14,060.4</td>\n",
       "    </tr>\n",
       "    <tr>\n",
       "      <th>First</th>\n",
       "      <th>2017-10-22</th>\n",
       "      <td>13,716.5</td>\n",
       "    </tr>\n",
       "    <tr>\n",
       "      <th rowspan=\"5\" valign=\"top\">Standard</th>\n",
       "      <th>2016-12-17</th>\n",
       "      <td>12,185.1</td>\n",
       "    </tr>\n",
       "    <tr>\n",
       "      <th>2017-11-17</th>\n",
       "      <td>12,112.5</td>\n",
       "    </tr>\n",
       "    <tr>\n",
       "      <th>2015-09-17</th>\n",
       "      <td>11,467.6</td>\n",
       "    </tr>\n",
       "    <tr>\n",
       "      <th>2016-05-23</th>\n",
       "      <td>10,561.0</td>\n",
       "    </tr>\n",
       "    <tr>\n",
       "      <th>2014-09-23</th>\n",
       "      <td>10,478.6</td>\n",
       "    </tr>\n",
       "  </tbody>\n",
       "</table>\n",
       "</div>"
      ],
      "text/plain": [
       "                          sum\n",
       "ship_mode order_date         \n",
       "Standard  2014-03-18 26,908.4\n",
       "          2016-10-02 18,398.2\n",
       "First     2017-03-23 14,299.1\n",
       "Standard  2014-09-08 14,060.4\n",
       "First     2017-10-22 13,716.5\n",
       "Standard  2016-12-17 12,185.1\n",
       "          2017-11-17 12,112.5\n",
       "          2015-09-17 11,467.6\n",
       "          2016-05-23 10,561.0\n",
       "          2014-09-23 10,478.6"
      ]
     },
     "execution_count": 46,
     "metadata": {},
     "output_type": "execute_result"
    }
   ],
   "source": [
    "orders \\\n",
    "    .groupby(['ship_mode', 'order_date'])['sales'] \\\n",
    "    .agg(['sum']) \\\n",
    "    .sort_values(by='sum', ascending=False) \\\n",
    "    .head(10)"
   ]
  },
  {
   "cell_type": "markdown",
   "metadata": {},
   "source": [
    "В самый удачный день — 18 марта 2014 года — магазин заработал 27 тысяч долларов с помощью стандартного класса доставки. Интересно, откуда были клиенты, сделавшие эти заказы? Чтобы узнать, надо объединить данные о заказах с данными о клиентах."
   ]
  },
  {
   "cell_type": "markdown",
   "metadata": {},
   "source": [
    "## Объединяем несколько датафреймов"
   ]
  },
  {
   "cell_type": "markdown",
   "metadata": {},
   "source": [
    "До сих пор мы смотрели только на таблицу с заказами. Но ведь у нас есть еще данные о клиентах интернет-магазина. Загрузим их в переменную customers и посмотрим, что они собой представляют:"
   ]
  },
  {
   "cell_type": "code",
   "execution_count": 48,
   "metadata": {},
   "outputs": [
    {
     "data": {
      "text/html": [
       "<div>\n",
       "<style scoped>\n",
       "    .dataframe tbody tr th:only-of-type {\n",
       "        vertical-align: middle;\n",
       "    }\n",
       "\n",
       "    .dataframe tbody tr th {\n",
       "        vertical-align: top;\n",
       "    }\n",
       "\n",
       "    .dataframe thead th {\n",
       "        text-align: right;\n",
       "    }\n",
       "</style>\n",
       "<table border=\"1\" class=\"dataframe\">\n",
       "  <thead>\n",
       "    <tr style=\"text-align: right;\">\n",
       "      <th></th>\n",
       "      <th>name</th>\n",
       "      <th>segment</th>\n",
       "      <th>state</th>\n",
       "      <th>city</th>\n",
       "    </tr>\n",
       "    <tr>\n",
       "      <th>id</th>\n",
       "      <th></th>\n",
       "      <th></th>\n",
       "      <th></th>\n",
       "      <th></th>\n",
       "    </tr>\n",
       "  </thead>\n",
       "  <tbody>\n",
       "    <tr>\n",
       "      <th>CG-12520</th>\n",
       "      <td>Claire Gute</td>\n",
       "      <td>Consumer</td>\n",
       "      <td>Kentucky</td>\n",
       "      <td>Henderson</td>\n",
       "    </tr>\n",
       "    <tr>\n",
       "      <th>DV-13045</th>\n",
       "      <td>Darrin Van Huff</td>\n",
       "      <td>Corporate</td>\n",
       "      <td>California</td>\n",
       "      <td>Los Angeles</td>\n",
       "    </tr>\n",
       "    <tr>\n",
       "      <th>SO-20335</th>\n",
       "      <td>Sean O'Donnell</td>\n",
       "      <td>Consumer</td>\n",
       "      <td>Florida</td>\n",
       "      <td>Fort Lauderdale</td>\n",
       "    </tr>\n",
       "    <tr>\n",
       "      <th>BH-11710</th>\n",
       "      <td>Brosina Hoffman</td>\n",
       "      <td>Consumer</td>\n",
       "      <td>California</td>\n",
       "      <td>Los Angeles</td>\n",
       "    </tr>\n",
       "    <tr>\n",
       "      <th>AA-10480</th>\n",
       "      <td>Andrew Allen</td>\n",
       "      <td>Consumer</td>\n",
       "      <td>North Carolina</td>\n",
       "      <td>Concord</td>\n",
       "    </tr>\n",
       "  </tbody>\n",
       "</table>\n",
       "</div>"
      ],
      "text/plain": [
       "                     name    segment           state             city\n",
       "id                                                                   \n",
       "CG-12520      Claire Gute   Consumer        Kentucky        Henderson\n",
       "DV-13045  Darrin Van Huff  Corporate      California      Los Angeles\n",
       "SO-20335   Sean O'Donnell   Consumer         Florida  Fort Lauderdale\n",
       "BH-11710  Brosina Hoffman   Consumer      California      Los Angeles\n",
       "AA-10480     Andrew Allen   Consumer  North Carolina          Concord"
      ]
     },
     "execution_count": 48,
     "metadata": {},
     "output_type": "execute_result"
    }
   ],
   "source": [
    "url_cust = 'https://raw.githubusercontent.com/iaidarf/DS_tutorials/main/notebooks/data/customers.csv'\n",
    "customers = pd.read_csv(url_cust, index_col='id')\n",
    "customers.head()"
   ]
  },
  {
   "cell_type": "markdown",
   "metadata": {},
   "source": [
    "Мы знаем тип клиента, место его проживания, его имя и имя контактного лица. У каждого клиента есть уникальный номер id. Этот же номер лежит в колонке customer_id таблицы orders. Значит мы можем найти, какие заказы сделал каждый клиент. Например, посмотрим, заказы пользователя CG-12520:"
   ]
  },
  {
   "cell_type": "code",
   "execution_count": 49,
   "metadata": {},
   "outputs": [
    {
     "data": {
      "text/html": [
       "<div>\n",
       "<style scoped>\n",
       "    .dataframe tbody tr th:only-of-type {\n",
       "        vertical-align: middle;\n",
       "    }\n",
       "\n",
       "    .dataframe tbody tr th {\n",
       "        vertical-align: top;\n",
       "    }\n",
       "\n",
       "    .dataframe thead th {\n",
       "        text-align: right;\n",
       "    }\n",
       "</style>\n",
       "<table border=\"1\" class=\"dataframe\">\n",
       "  <thead>\n",
       "    <tr style=\"text-align: right;\">\n",
       "      <th></th>\n",
       "      <th>order_date</th>\n",
       "      <th>ship_mode</th>\n",
       "      <th>customer_id</th>\n",
       "      <th>sales</th>\n",
       "    </tr>\n",
       "    <tr>\n",
       "      <th>id</th>\n",
       "      <th></th>\n",
       "      <th></th>\n",
       "      <th></th>\n",
       "      <th></th>\n",
       "    </tr>\n",
       "  </thead>\n",
       "  <tbody>\n",
       "    <tr>\n",
       "      <th>152156</th>\n",
       "      <td>2016-11-08</td>\n",
       "      <td>Second</td>\n",
       "      <td>CG-12520</td>\n",
       "      <td>993.9</td>\n",
       "    </tr>\n",
       "    <tr>\n",
       "      <th>164098</th>\n",
       "      <td>2017-01-26</td>\n",
       "      <td>First</td>\n",
       "      <td>CG-12520</td>\n",
       "      <td>18.2</td>\n",
       "    </tr>\n",
       "    <tr>\n",
       "      <th>123918</th>\n",
       "      <td>2015-10-15</td>\n",
       "      <td>Same Day</td>\n",
       "      <td>CG-12520</td>\n",
       "      <td>136.7</td>\n",
       "    </tr>\n",
       "  </tbody>\n",
       "</table>\n",
       "</div>"
      ],
      "text/plain": [
       "        order_date ship_mode customer_id  sales\n",
       "id                                             \n",
       "152156  2016-11-08    Second    CG-12520  993.9\n",
       "164098  2017-01-26     First    CG-12520   18.2\n",
       "123918  2015-10-15  Same Day    CG-12520  136.7"
      ]
     },
     "execution_count": 49,
     "metadata": {},
     "output_type": "execute_result"
    }
   ],
   "source": [
    "cust_filter = 'CG-12520'\n",
    "orders.query('customer_id == @cust_filter')"
   ]
  },
  {
   "cell_type": "markdown",
   "metadata": {},
   "source": [
    "Вернемся к задаче из предыдущего раздела: узнать, что за клиенты, которые сделали 18 марта заказы со стандартной доставкой. Для этого объединим таблицы с клиентами и заказами. Датафреймы объединяют с помощью методов .concat(), .merge() и .join(). Все они делают одно и то же, но отличаются синтаксисом — на практике достаточно уметь пользоваться одним из них. На примере .merge():"
   ]
  },
  {
   "cell_type": "markdown",
   "metadata": {},
   "source": [
    "В .merge() указываем названия датафреймов для объединения. Затем - способ объединения и какие колонки использовать в качестве ключа.\n",
    "Ключ — это колонка, связывающая оба датафрейма. В нашем случае — номер клиента. В таблице с заказами он в колонке customer_id, а таблице с клиентами — в индексе. Поэтому в команде мы пишем: left_on='customer_id', right_index=True."
   ]
  },
  {
   "cell_type": "code",
   "execution_count": 51,
   "metadata": {},
   "outputs": [
    {
     "data": {
      "text/plain": [
       "Index(['order_date', 'ship_mode', 'customer_id', 'sales', 'name', 'segment',\n",
       "       'state', 'city'],\n",
       "      dtype='object')"
      ]
     },
     "execution_count": 51,
     "metadata": {},
     "output_type": "execute_result"
    }
   ],
   "source": [
    "new_df = pd.merge(orders, customers, how='inner', left_on='customer_id', right_index=True)\n",
    "new_df.columns"
   ]
  },
  {
   "cell_type": "markdown",
   "metadata": {},
   "source": [
    "### Задачи"
   ]
  },
  {
   "cell_type": "markdown",
   "metadata": {},
   "source": [
    "#### Найти 5 городов, принесших самую большую выручку в 2016 году."
   ]
  },
  {
   "cell_type": "markdown",
   "metadata": {},
   "source": [
    "Для начала отфильтруем заказы из 2016 года:"
   ]
  },
  {
   "cell_type": "code",
   "execution_count": 80,
   "metadata": {},
   "outputs": [
    {
     "data": {
      "text/html": [
       "<div>\n",
       "<style scoped>\n",
       "    .dataframe tbody tr th:only-of-type {\n",
       "        vertical-align: middle;\n",
       "    }\n",
       "\n",
       "    .dataframe tbody tr th {\n",
       "        vertical-align: top;\n",
       "    }\n",
       "\n",
       "    .dataframe thead th {\n",
       "        text-align: right;\n",
       "    }\n",
       "</style>\n",
       "<table border=\"1\" class=\"dataframe\">\n",
       "  <thead>\n",
       "    <tr style=\"text-align: right;\">\n",
       "      <th></th>\n",
       "      <th>order_date</th>\n",
       "      <th>ship_mode</th>\n",
       "      <th>customer_id</th>\n",
       "      <th>sales</th>\n",
       "    </tr>\n",
       "    <tr>\n",
       "      <th>id</th>\n",
       "      <th></th>\n",
       "      <th></th>\n",
       "      <th></th>\n",
       "      <th></th>\n",
       "    </tr>\n",
       "  </thead>\n",
       "  <tbody>\n",
       "    <tr>\n",
       "      <th>100041</th>\n",
       "      <td>2016-11-20</td>\n",
       "      <td>Standard</td>\n",
       "      <td>BF-10975</td>\n",
       "      <td>328.5</td>\n",
       "    </tr>\n",
       "    <tr>\n",
       "      <th>100083</th>\n",
       "      <td>2016-11-24</td>\n",
       "      <td>Standard</td>\n",
       "      <td>CD-11980</td>\n",
       "      <td>24.8</td>\n",
       "    </tr>\n",
       "    <tr>\n",
       "      <th>100153</th>\n",
       "      <td>2016-12-13</td>\n",
       "      <td>Standard</td>\n",
       "      <td>KH-16630</td>\n",
       "      <td>63.9</td>\n",
       "    </tr>\n",
       "    <tr>\n",
       "      <th>100244</th>\n",
       "      <td>2016-09-20</td>\n",
       "      <td>Standard</td>\n",
       "      <td>GM-14695</td>\n",
       "      <td>475.7</td>\n",
       "    </tr>\n",
       "    <tr>\n",
       "      <th>100300</th>\n",
       "      <td>2016-06-24</td>\n",
       "      <td>Second</td>\n",
       "      <td>MJ-17740</td>\n",
       "      <td>4,823.1</td>\n",
       "    </tr>\n",
       "  </tbody>\n",
       "</table>\n",
       "</div>"
      ],
      "text/plain": [
       "        order_date ship_mode customer_id   sales\n",
       "id                                              \n",
       "100041  2016-11-20  Standard    BF-10975   328.5\n",
       "100083  2016-11-24  Standard    CD-11980    24.8\n",
       "100153  2016-12-13  Standard    KH-16630    63.9\n",
       "100244  2016-09-20  Standard    GM-14695   475.7\n",
       "100300  2016-06-24    Second    MJ-17740 4,823.1"
      ]
     },
     "execution_count": 80,
     "metadata": {},
     "output_type": "execute_result"
    }
   ],
   "source": [
    "orders_2016 = orders.query('order_date>=\"2016-01-01\" & order_date<=\"2016-12-31\"')\n",
    "orders_2016.head()"
   ]
  },
  {
   "cell_type": "markdown",
   "metadata": {},
   "source": [
    "Город — это атрибут пользователей, а не заказов. Добавим информацию о пользователях:"
   ]
  },
  {
   "cell_type": "code",
   "execution_count": 81,
   "metadata": {},
   "outputs": [],
   "source": [
    "with_customers_2016 = pd.merge(customers, orders_2016, how='inner', left_index=True, right_on='customer_id') "
   ]
  },
  {
   "cell_type": "markdown",
   "metadata": {},
   "source": [
    "Cруппируем получившийся датафрейм по городам и посчитаем выручку:"
   ]
  },
  {
   "cell_type": "code",
   "execution_count": 82,
   "metadata": {},
   "outputs": [
    {
     "data": {
      "text/plain": [
       "city\n",
       "Akron               1,763.0\n",
       "Albuquerque           692.9\n",
       "Amarillo              197.2\n",
       "Arlington           5,672.1\n",
       "Arlington Heights      14.1\n",
       "Name: sales, dtype: float64"
      ]
     },
     "execution_count": 82,
     "metadata": {},
     "output_type": "execute_result"
    }
   ],
   "source": [
    "grouped_2016 = with_customers_2016.groupby('city')['sales'].sum()\n",
    "grouped_2016.head()"
   ]
  },
  {
   "cell_type": "markdown",
   "metadata": {},
   "source": [
    "Отсортируем по убыванию продаж и оставим топ-5:"
   ]
  },
  {
   "cell_type": "code",
   "execution_count": 83,
   "metadata": {},
   "outputs": [
    {
     "data": {
      "text/plain": [
       "city\n",
       "New York City   53,094.1\n",
       "Philadelphia    39,895.5\n",
       "Seattle         33,955.5\n",
       "Los Angeles     33,611.1\n",
       "San Francisco   27,990.0\n",
       "Name: sales, dtype: float64"
      ]
     },
     "execution_count": 83,
     "metadata": {},
     "output_type": "execute_result"
    }
   ],
   "source": [
    "top5 = grouped_2016.sort_values(ascending=False).head()\n",
    "top5"
   ]
  },
  {
   "cell_type": "markdown",
   "metadata": {},
   "source": [
    "#### Сколько заказов, отправлено первым классом за последние 5 лет?"
   ]
  },
  {
   "cell_type": "markdown",
   "metadata": {},
   "source": [
    "Посотрим дату самого последнего заказа"
   ]
  },
  {
   "cell_type": "code",
   "execution_count": 183,
   "metadata": {},
   "outputs": [
    {
     "data": {
      "text/plain": [
       "id\n",
       "156720    2017-12-30\n",
       "143259    2017-12-30\n",
       "115427    2017-12-30\n",
       "126221    2017-12-30\n",
       "158526    2017-12-29\n",
       "Name: order_date, dtype: object"
      ]
     },
     "execution_count": 183,
     "metadata": {},
     "output_type": "execute_result"
    }
   ],
   "source": [
    "orders['order_date'].sort_values(ascending = False).head()"
   ]
  },
  {
   "cell_type": "markdown",
   "metadata": {},
   "source": [
    "А самый первый заказ?"
   ]
  },
  {
   "cell_type": "code",
   "execution_count": 185,
   "metadata": {},
   "outputs": [
    {
     "data": {
      "text/plain": [
       "id\n",
       "103800    2014-01-03\n",
       "112326    2014-01-04\n",
       "141817    2014-01-05\n",
       "167199    2014-01-06\n",
       "106054    2014-01-06\n",
       "Name: order_date, dtype: object"
      ]
     },
     "execution_count": 185,
     "metadata": {},
     "output_type": "execute_result"
    }
   ],
   "source": [
    "orders['order_date'].sort_values(ascending = True).head()"
   ]
  },
  {
   "cell_type": "markdown",
   "metadata": {},
   "source": [
    "Последняя запись датируется 30-12-2017, значит нам нужен период 2013-01-01 по 2017-12-30\n",
    "Но первая запись от 2014-01-03.\n",
    "Значит получим кол-во заказов не за 5 лет, а за 4 года."
   ]
  },
  {
   "cell_type": "code",
   "execution_count": 186,
   "metadata": {},
   "outputs": [
    {
     "data": {
      "text/plain": [
       "order_date     787\n",
       "ship_mode      787\n",
       "customer_id    787\n",
       "sales          787\n",
       "dtype: int64"
      ]
     },
     "execution_count": 186,
     "metadata": {},
     "output_type": "execute_result"
    }
   ],
   "source": [
    "orders.query('order_date >= \"2014-01-01\" & order_date < \"2017-12-30\" & ship_mode == \"First\"').count()"
   ]
  },
  {
   "cell_type": "markdown",
   "metadata": {},
   "source": [
    "За последние 4 года первым классом отправлено 787 заказов"
   ]
  },
  {
   "cell_type": "markdown",
   "metadata": {},
   "source": [
    "#### Сколько в базе клиентов из Калифорнии?"
   ]
  },
  {
   "cell_type": "code",
   "execution_count": 111,
   "metadata": {},
   "outputs": [
    {
     "data": {
      "text/html": [
       "<div>\n",
       "<style scoped>\n",
       "    .dataframe tbody tr th:only-of-type {\n",
       "        vertical-align: middle;\n",
       "    }\n",
       "\n",
       "    .dataframe tbody tr th {\n",
       "        vertical-align: top;\n",
       "    }\n",
       "\n",
       "    .dataframe thead th {\n",
       "        text-align: right;\n",
       "    }\n",
       "</style>\n",
       "<table border=\"1\" class=\"dataframe\">\n",
       "  <thead>\n",
       "    <tr style=\"text-align: right;\">\n",
       "      <th></th>\n",
       "      <th>name</th>\n",
       "      <th>segment</th>\n",
       "      <th>state</th>\n",
       "      <th>city</th>\n",
       "    </tr>\n",
       "    <tr>\n",
       "      <th>id</th>\n",
       "      <th></th>\n",
       "      <th></th>\n",
       "      <th></th>\n",
       "      <th></th>\n",
       "    </tr>\n",
       "  </thead>\n",
       "  <tbody>\n",
       "    <tr>\n",
       "      <th>DV-13045</th>\n",
       "      <td>Darrin Van Huff</td>\n",
       "      <td>Corporate</td>\n",
       "      <td>California</td>\n",
       "      <td>Los Angeles</td>\n",
       "    </tr>\n",
       "    <tr>\n",
       "      <th>BH-11710</th>\n",
       "      <td>Brosina Hoffman</td>\n",
       "      <td>Consumer</td>\n",
       "      <td>California</td>\n",
       "      <td>Los Angeles</td>\n",
       "    </tr>\n",
       "    <tr>\n",
       "      <th>ZD-21925</th>\n",
       "      <td>Zuschuss Donatelli</td>\n",
       "      <td>Consumer</td>\n",
       "      <td>California</td>\n",
       "      <td>San Francisco</td>\n",
       "    </tr>\n",
       "    <tr>\n",
       "      <th>EH-13945</th>\n",
       "      <td>Eric Hoffmann</td>\n",
       "      <td>Consumer</td>\n",
       "      <td>California</td>\n",
       "      <td>Los Angeles</td>\n",
       "    </tr>\n",
       "    <tr>\n",
       "      <th>RA-19885</th>\n",
       "      <td>Ruben Ausman</td>\n",
       "      <td>Corporate</td>\n",
       "      <td>California</td>\n",
       "      <td>Los Angeles</td>\n",
       "    </tr>\n",
       "    <tr>\n",
       "      <th>...</th>\n",
       "      <td>...</td>\n",
       "      <td>...</td>\n",
       "      <td>...</td>\n",
       "      <td>...</td>\n",
       "    </tr>\n",
       "    <tr>\n",
       "      <th>DO-13645</th>\n",
       "      <td>Doug O'Connell</td>\n",
       "      <td>Consumer</td>\n",
       "      <td>California</td>\n",
       "      <td>Los Angeles</td>\n",
       "    </tr>\n",
       "    <tr>\n",
       "      <th>AO-10810</th>\n",
       "      <td>Anthony O'Donnell</td>\n",
       "      <td>Corporate</td>\n",
       "      <td>California</td>\n",
       "      <td>Los Angeles</td>\n",
       "    </tr>\n",
       "    <tr>\n",
       "      <th>VP-21760</th>\n",
       "      <td>Victoria Pisteka</td>\n",
       "      <td>Corporate</td>\n",
       "      <td>California</td>\n",
       "      <td>San Francisco</td>\n",
       "    </tr>\n",
       "    <tr>\n",
       "      <th>IM-15055</th>\n",
       "      <td>Ionia McGrath</td>\n",
       "      <td>Consumer</td>\n",
       "      <td>California</td>\n",
       "      <td>Roseville</td>\n",
       "    </tr>\n",
       "    <tr>\n",
       "      <th>BD-11560</th>\n",
       "      <td>Brendan Dodson</td>\n",
       "      <td>Home Office</td>\n",
       "      <td>California</td>\n",
       "      <td>Fresno</td>\n",
       "    </tr>\n",
       "  </tbody>\n",
       "</table>\n",
       "<p>161 rows × 4 columns</p>\n",
       "</div>"
      ],
      "text/plain": [
       "                        name      segment       state           city\n",
       "id                                                                  \n",
       "DV-13045     Darrin Van Huff    Corporate  California    Los Angeles\n",
       "BH-11710     Brosina Hoffman     Consumer  California    Los Angeles\n",
       "ZD-21925  Zuschuss Donatelli     Consumer  California  San Francisco\n",
       "EH-13945       Eric Hoffmann     Consumer  California    Los Angeles\n",
       "RA-19885        Ruben Ausman    Corporate  California    Los Angeles\n",
       "...                      ...          ...         ...            ...\n",
       "DO-13645      Doug O'Connell     Consumer  California    Los Angeles\n",
       "AO-10810   Anthony O'Donnell    Corporate  California    Los Angeles\n",
       "VP-21760    Victoria Pisteka    Corporate  California  San Francisco\n",
       "IM-15055       Ionia McGrath     Consumer  California      Roseville\n",
       "BD-11560      Brendan Dodson  Home Office  California         Fresno\n",
       "\n",
       "[161 rows x 4 columns]"
      ]
     },
     "execution_count": 111,
     "metadata": {},
     "output_type": "execute_result"
    }
   ],
   "source": [
    "cust_from_California = customers.query('state == \"California\"')\n",
    "cust_from_California"
   ]
  },
  {
   "cell_type": "code",
   "execution_count": 112,
   "metadata": {},
   "outputs": [
    {
     "data": {
      "text/plain": [
       "name       161\n",
       "segment    161\n",
       "state      161\n",
       "city       161\n",
       "dtype: int64"
      ]
     },
     "execution_count": 112,
     "metadata": {},
     "output_type": "execute_result"
    }
   ],
   "source": [
    "cust_from_California.count()"
   ]
  },
  {
   "cell_type": "markdown",
   "metadata": {},
   "source": [
    "В базе 161 клиент из Калифорнии"
   ]
  },
  {
   "cell_type": "markdown",
   "metadata": {},
   "source": [
    "#### Сколько заказов они сделали?"
   ]
  },
  {
   "cell_type": "code",
   "execution_count": 115,
   "metadata": {},
   "outputs": [
    {
     "data": {
      "text/plain": [
       "order_date     1006\n",
       "ship_mode      1006\n",
       "customer_id    1006\n",
       "sales          1006\n",
       "name           1006\n",
       "segment        1006\n",
       "state          1006\n",
       "city           1006\n",
       "dtype: int64"
      ]
     },
     "execution_count": 115,
     "metadata": {},
     "output_type": "execute_result"
    }
   ],
   "source": [
    "orders_from_California = pd.merge(orders, cust_from_California, how = 'inner', left_on='customer_id', right_index=True)\n",
    "orders_from_California.count()"
   ]
  },
  {
   "cell_type": "markdown",
   "metadata": {},
   "source": [
    "Они сделали 1006 заказов"
   ]
  },
  {
   "cell_type": "markdown",
   "metadata": {},
   "source": [
    "#### Постройте сводную таблицу средних чеков по всем штатам за каждый год."
   ]
  },
  {
   "cell_type": "code",
   "execution_count": 173,
   "metadata": {},
   "outputs": [
    {
     "data": {
      "text/html": [
       "<div>\n",
       "<style scoped>\n",
       "    .dataframe tbody tr th:only-of-type {\n",
       "        vertical-align: middle;\n",
       "    }\n",
       "\n",
       "    .dataframe tbody tr th {\n",
       "        vertical-align: top;\n",
       "    }\n",
       "\n",
       "    .dataframe thead th {\n",
       "        text-align: right;\n",
       "    }\n",
       "</style>\n",
       "<table border=\"1\" class=\"dataframe\">\n",
       "  <thead>\n",
       "    <tr style=\"text-align: right;\">\n",
       "      <th></th>\n",
       "      <th>name</th>\n",
       "      <th>segment</th>\n",
       "      <th>state</th>\n",
       "      <th>city</th>\n",
       "      <th>order_date</th>\n",
       "      <th>ship_mode</th>\n",
       "      <th>customer_id</th>\n",
       "      <th>sales</th>\n",
       "    </tr>\n",
       "    <tr>\n",
       "      <th>id</th>\n",
       "      <th></th>\n",
       "      <th></th>\n",
       "      <th></th>\n",
       "      <th></th>\n",
       "      <th></th>\n",
       "      <th></th>\n",
       "      <th></th>\n",
       "      <th></th>\n",
       "    </tr>\n",
       "  </thead>\n",
       "  <tbody>\n",
       "    <tr>\n",
       "      <th>152156</th>\n",
       "      <td>Claire Gute</td>\n",
       "      <td>Consumer</td>\n",
       "      <td>Kentucky</td>\n",
       "      <td>Henderson</td>\n",
       "      <td>2016-11-08</td>\n",
       "      <td>Second</td>\n",
       "      <td>CG-12520</td>\n",
       "      <td>993.9</td>\n",
       "    </tr>\n",
       "    <tr>\n",
       "      <th>164098</th>\n",
       "      <td>Claire Gute</td>\n",
       "      <td>Consumer</td>\n",
       "      <td>Kentucky</td>\n",
       "      <td>Henderson</td>\n",
       "      <td>2017-01-26</td>\n",
       "      <td>First</td>\n",
       "      <td>CG-12520</td>\n",
       "      <td>18.2</td>\n",
       "    </tr>\n",
       "    <tr>\n",
       "      <th>123918</th>\n",
       "      <td>Claire Gute</td>\n",
       "      <td>Consumer</td>\n",
       "      <td>Kentucky</td>\n",
       "      <td>Henderson</td>\n",
       "      <td>2015-10-15</td>\n",
       "      <td>Same Day</td>\n",
       "      <td>CG-12520</td>\n",
       "      <td>136.7</td>\n",
       "    </tr>\n",
       "    <tr>\n",
       "      <th>106656</th>\n",
       "      <td>Darrin Van Huff</td>\n",
       "      <td>Corporate</td>\n",
       "      <td>California</td>\n",
       "      <td>Los Angeles</td>\n",
       "      <td>2016-09-23</td>\n",
       "      <td>First</td>\n",
       "      <td>DV-13045</td>\n",
       "      <td>23.0</td>\n",
       "    </tr>\n",
       "    <tr>\n",
       "      <th>138688</th>\n",
       "      <td>Darrin Van Huff</td>\n",
       "      <td>Corporate</td>\n",
       "      <td>California</td>\n",
       "      <td>Los Angeles</td>\n",
       "      <td>2016-06-12</td>\n",
       "      <td>Second</td>\n",
       "      <td>DV-13045</td>\n",
       "      <td>14.6</td>\n",
       "    </tr>\n",
       "  </tbody>\n",
       "</table>\n",
       "</div>"
      ],
      "text/plain": [
       "                   name    segment       state         city  order_date  \\\n",
       "id                                                                        \n",
       "152156      Claire Gute   Consumer    Kentucky    Henderson  2016-11-08   \n",
       "164098      Claire Gute   Consumer    Kentucky    Henderson  2017-01-26   \n",
       "123918      Claire Gute   Consumer    Kentucky    Henderson  2015-10-15   \n",
       "106656  Darrin Van Huff  Corporate  California  Los Angeles  2016-09-23   \n",
       "138688  Darrin Van Huff  Corporate  California  Los Angeles  2016-06-12   \n",
       "\n",
       "       ship_mode customer_id  sales  \n",
       "id                                   \n",
       "152156    Second    CG-12520  993.9  \n",
       "164098     First    CG-12520   18.2  \n",
       "123918  Same Day    CG-12520  136.7  \n",
       "106656     First    DV-13045   23.0  \n",
       "138688    Second    DV-13045   14.6  "
      ]
     },
     "execution_count": 173,
     "metadata": {},
     "output_type": "execute_result"
    }
   ],
   "source": [
    "with_customers = pd.merge(customers, orders, how='inner', left_index=True, right_on='customer_id') \n",
    "with_customers.head()"
   ]
  },
  {
   "cell_type": "markdown",
   "metadata": {},
   "source": [
    "Добавим новый столбец, который будет содержать только значение года"
   ]
  },
  {
   "cell_type": "code",
   "execution_count": 187,
   "metadata": {},
   "outputs": [
    {
     "data": {
      "text/html": [
       "<div>\n",
       "<style scoped>\n",
       "    .dataframe tbody tr th:only-of-type {\n",
       "        vertical-align: middle;\n",
       "    }\n",
       "\n",
       "    .dataframe tbody tr th {\n",
       "        vertical-align: top;\n",
       "    }\n",
       "\n",
       "    .dataframe thead th {\n",
       "        text-align: right;\n",
       "    }\n",
       "</style>\n",
       "<table border=\"1\" class=\"dataframe\">\n",
       "  <thead>\n",
       "    <tr style=\"text-align: right;\">\n",
       "      <th></th>\n",
       "      <th>name</th>\n",
       "      <th>segment</th>\n",
       "      <th>state</th>\n",
       "      <th>city</th>\n",
       "      <th>order_date</th>\n",
       "      <th>ship_mode</th>\n",
       "      <th>customer_id</th>\n",
       "      <th>sales</th>\n",
       "      <th>year</th>\n",
       "    </tr>\n",
       "    <tr>\n",
       "      <th>id</th>\n",
       "      <th></th>\n",
       "      <th></th>\n",
       "      <th></th>\n",
       "      <th></th>\n",
       "      <th></th>\n",
       "      <th></th>\n",
       "      <th></th>\n",
       "      <th></th>\n",
       "      <th></th>\n",
       "    </tr>\n",
       "  </thead>\n",
       "  <tbody>\n",
       "    <tr>\n",
       "      <th>152156</th>\n",
       "      <td>Claire Gute</td>\n",
       "      <td>Consumer</td>\n",
       "      <td>Kentucky</td>\n",
       "      <td>Henderson</td>\n",
       "      <td>2016-11-08</td>\n",
       "      <td>Second</td>\n",
       "      <td>CG-12520</td>\n",
       "      <td>993.9</td>\n",
       "      <td>2016</td>\n",
       "    </tr>\n",
       "    <tr>\n",
       "      <th>164098</th>\n",
       "      <td>Claire Gute</td>\n",
       "      <td>Consumer</td>\n",
       "      <td>Kentucky</td>\n",
       "      <td>Henderson</td>\n",
       "      <td>2017-01-26</td>\n",
       "      <td>First</td>\n",
       "      <td>CG-12520</td>\n",
       "      <td>18.2</td>\n",
       "      <td>2017</td>\n",
       "    </tr>\n",
       "    <tr>\n",
       "      <th>123918</th>\n",
       "      <td>Claire Gute</td>\n",
       "      <td>Consumer</td>\n",
       "      <td>Kentucky</td>\n",
       "      <td>Henderson</td>\n",
       "      <td>2015-10-15</td>\n",
       "      <td>Same Day</td>\n",
       "      <td>CG-12520</td>\n",
       "      <td>136.7</td>\n",
       "      <td>2015</td>\n",
       "    </tr>\n",
       "    <tr>\n",
       "      <th>106656</th>\n",
       "      <td>Darrin Van Huff</td>\n",
       "      <td>Corporate</td>\n",
       "      <td>California</td>\n",
       "      <td>Los Angeles</td>\n",
       "      <td>2016-09-23</td>\n",
       "      <td>First</td>\n",
       "      <td>DV-13045</td>\n",
       "      <td>23.0</td>\n",
       "      <td>2016</td>\n",
       "    </tr>\n",
       "    <tr>\n",
       "      <th>138688</th>\n",
       "      <td>Darrin Van Huff</td>\n",
       "      <td>Corporate</td>\n",
       "      <td>California</td>\n",
       "      <td>Los Angeles</td>\n",
       "      <td>2016-06-12</td>\n",
       "      <td>Second</td>\n",
       "      <td>DV-13045</td>\n",
       "      <td>14.6</td>\n",
       "      <td>2016</td>\n",
       "    </tr>\n",
       "  </tbody>\n",
       "</table>\n",
       "</div>"
      ],
      "text/plain": [
       "                   name    segment       state         city  order_date  \\\n",
       "id                                                                        \n",
       "152156      Claire Gute   Consumer    Kentucky    Henderson  2016-11-08   \n",
       "164098      Claire Gute   Consumer    Kentucky    Henderson  2017-01-26   \n",
       "123918      Claire Gute   Consumer    Kentucky    Henderson  2015-10-15   \n",
       "106656  Darrin Van Huff  Corporate  California  Los Angeles  2016-09-23   \n",
       "138688  Darrin Van Huff  Corporate  California  Los Angeles  2016-06-12   \n",
       "\n",
       "       ship_mode customer_id  sales  year  \n",
       "id                                         \n",
       "152156    Second    CG-12520  993.9  2016  \n",
       "164098     First    CG-12520   18.2  2017  \n",
       "123918  Same Day    CG-12520  136.7  2015  \n",
       "106656     First    DV-13045   23.0  2016  \n",
       "138688    Second    DV-13045   14.6  2016  "
      ]
     },
     "execution_count": 187,
     "metadata": {},
     "output_type": "execute_result"
    }
   ],
   "source": [
    "with_customers['year'] = with_customers['order_date'].apply(lambda x: x[:4])\n",
    "with_customers.head()"
   ]
  },
  {
   "cell_type": "markdown",
   "metadata": {},
   "source": [
    "Для формирования сводной таблицы в Pandas есть метод pivot_table, который принимает в качестве параметров:\n",
    "values – список переменных, по которым требуется рассчитать нужные статистики,\n",
    "index – список переменных, по которым нужно сгруппировать данные,\n",
    "aggfunc — то, что нам, собственно, нужно посчитать по группам — сумму, среднее, максимум, минимум или что-то ещё."
   ]
  },
  {
   "cell_type": "code",
   "execution_count": 189,
   "metadata": {},
   "outputs": [
    {
     "data": {
      "text/html": [
       "<div>\n",
       "<style scoped>\n",
       "    .dataframe tbody tr th:only-of-type {\n",
       "        vertical-align: middle;\n",
       "    }\n",
       "\n",
       "    .dataframe tbody tr th {\n",
       "        vertical-align: top;\n",
       "    }\n",
       "\n",
       "    .dataframe thead tr th {\n",
       "        text-align: left;\n",
       "    }\n",
       "\n",
       "    .dataframe thead tr:last-of-type th {\n",
       "        text-align: right;\n",
       "    }\n",
       "</style>\n",
       "<table border=\"1\" class=\"dataframe\">\n",
       "  <thead>\n",
       "    <tr>\n",
       "      <th></th>\n",
       "      <th colspan=\"4\" halign=\"left\">sales</th>\n",
       "    </tr>\n",
       "    <tr>\n",
       "      <th>year</th>\n",
       "      <th>2014</th>\n",
       "      <th>2015</th>\n",
       "      <th>2016</th>\n",
       "      <th>2017</th>\n",
       "    </tr>\n",
       "    <tr>\n",
       "      <th>state</th>\n",
       "      <th></th>\n",
       "      <th></th>\n",
       "      <th></th>\n",
       "      <th></th>\n",
       "    </tr>\n",
       "  </thead>\n",
       "  <tbody>\n",
       "    <tr>\n",
       "      <th>Alabama</th>\n",
       "      <td>425.5</td>\n",
       "      <td>501.4</td>\n",
       "      <td>854.3</td>\n",
       "      <td>418.0</td>\n",
       "    </tr>\n",
       "    <tr>\n",
       "      <th>Arizona</th>\n",
       "      <td>475.2</td>\n",
       "      <td>703.3</td>\n",
       "      <td>699.1</td>\n",
       "      <td>535.7</td>\n",
       "    </tr>\n",
       "    <tr>\n",
       "      <th>Arkansas</th>\n",
       "      <td>1,098.0</td>\n",
       "      <td>55.8</td>\n",
       "      <td>103.1</td>\n",
       "      <td>214.8</td>\n",
       "    </tr>\n",
       "    <tr>\n",
       "      <th>California</th>\n",
       "      <td>563.7</td>\n",
       "      <td>404.2</td>\n",
       "      <td>426.4</td>\n",
       "      <td>422.2</td>\n",
       "    </tr>\n",
       "    <tr>\n",
       "      <th>Colorado</th>\n",
       "      <td>351.1</td>\n",
       "      <td>433.3</td>\n",
       "      <td>540.7</td>\n",
       "      <td>365.6</td>\n",
       "    </tr>\n",
       "  </tbody>\n",
       "</table>\n",
       "</div>"
      ],
      "text/plain": [
       "             sales                  \n",
       "year          2014  2015  2016  2017\n",
       "state                               \n",
       "Alabama      425.5 501.4 854.3 418.0\n",
       "Arizona      475.2 703.3 699.1 535.7\n",
       "Arkansas   1,098.0  55.8 103.1 214.8\n",
       "California   563.7 404.2 426.4 422.2\n",
       "Colorado     351.1 433.3 540.7 365.6"
      ]
     },
     "execution_count": 189,
     "metadata": {},
     "output_type": "execute_result"
    }
   ],
   "source": [
    "with_customers.pivot_table(\n",
    "    ['sales'],\n",
    "    ['state'], ['year'],\n",
    "    aggfunc = 'mean'\n",
    ").head()"
   ]
  }
 ],
 "metadata": {
  "kernelspec": {
   "display_name": "Python 3",
   "language": "python",
   "name": "python3"
  },
  "language_info": {
   "codemirror_mode": {
    "name": "ipython",
    "version": 3
   },
   "file_extension": ".py",
   "mimetype": "text/x-python",
   "name": "python",
   "nbconvert_exporter": "python",
   "pygments_lexer": "ipython3",
   "version": "3.8.5"
  }
 },
 "nbformat": 4,
 "nbformat_minor": 4
}
