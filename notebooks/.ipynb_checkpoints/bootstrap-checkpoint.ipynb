{
 "cells": [
  {
   "cell_type": "markdown",
   "metadata": {},
   "source": [
    "## Бутстрап. Выборочная статистика. Доверительные интервалы."
   ]
  },
  {
   "cell_type": "code",
   "execution_count": 2,
   "metadata": {},
   "outputs": [],
   "source": [
    "import numpy as np\n",
    "import seaborn as sns\n",
    "import matplotlib.pyplot as plt\n",
    "from scipy. stats import sem # для определения стандартной ошибки среднего"
   ]
  },
  {
   "cell_type": "code",
   "execution_count": 66,
   "metadata": {},
   "outputs": [
    {
     "data": {
      "text/plain": [
       "array([ 0.94767115,  0.87583488,  0.36644083, ..., -0.25119419,\n",
       "       -2.14521476,  0.30379279])"
      ]
     },
     "execution_count": 66,
     "metadata": {},
     "output_type": "execute_result"
    }
   ],
   "source": [
    "# сгенерируем массив случайных значений с нормальным распределением\n",
    "population = np.random.normal(size=5000)\n",
    "population"
   ]
  },
  {
   "cell_type": "code",
   "execution_count": 68,
   "metadata": {},
   "outputs": [
    {
     "data": {
      "text/plain": [
       "0.9903592463391575"
      ]
     },
     "execution_count": 68,
     "metadata": {},
     "output_type": "execute_result"
    }
   ],
   "source": [
    "# стандартное отклонение популяции\n",
    "sd_population = np.std(population)\n",
    "sd_population"
   ]
  },
  {
   "cell_type": "code",
   "execution_count": 139,
   "metadata": {},
   "outputs": [
    {
     "data": {
      "text/plain": [
       "-0.00510199873394035"
      ]
     },
     "execution_count": 139,
     "metadata": {},
     "output_type": "execute_result"
    }
   ],
   "source": [
    "# среднее популяции\n",
    "population.mean()"
   ]
  },
  {
   "cell_type": "code",
   "execution_count": 5,
   "metadata": {
    "scrolled": true
   },
   "outputs": [
    {
     "data": {
      "text/plain": [
       "<AxesSubplot:ylabel='Count'>"
      ]
     },
     "execution_count": 5,
     "metadata": {},
     "output_type": "execute_result"
    },
    {
     "data": {
      "image/png": "[encoded data removed]",
      "text/plain": [
       "<Figure size 432x288 with 1 Axes>"
      ]
     },
     "metadata": {
      "needs_background": "light"
     },
     "output_type": "display_data"
    }
   ],
   "source": [
    "# гистограмма\n",
    "sns.histplot(data=population)"
   ]
  },
  {
   "cell_type": "markdown",
   "metadata": {},
   "source": [
    "**Выборка** - это подмножество данных из **генеральной совокупности** (или популяции).\n",
    "\n",
    "**Выборочная статистика** - показатель статистики, вычисленный для для выборки из популяции. \n",
    "\n",
    "**Выборочное распределение** - распределение выборочной статистики на большом числе выборок, вынимаемой из одной и той же популяции.\n",
    "\n",
    "**Центральная предельная теорема** (ЦПТ)- тенденция выборочного распределения принимать нормальную форму по мере увеличения размера выборки, даже если исходная популяция не является нормально распределенной.\n",
    "\n",
    "**Стандартная ошибка** (standart error, se) - стандартное отклонение выборочной статистки на многочисленных выборках. По другому: мера изменчивости оценки между выборками. Стандартную ошибку можно оценить с использованием статистики, опираясь на стандартное отклонение s значений выборки и размер выборки n:\n",
    "$se=\\frac{s}{\\sqrt{n}}$"
   ]
  },
  {
   "cell_type": "markdown",
   "metadata": {},
   "source": [
    "Один из простых и эффективных способов оценки выборочного распределения статистики состоит в том, чтобы вынимать дополнительные выборки с возвратом из самой выборки и повторно вычислять статистику для каждой повторной выборки. Данная процедура называется бутстрапом (от англ. **bootstrap** — раскрутка, самонастройка),"
   ]
  },
  {
   "cell_type": "markdown",
   "metadata": {},
   "source": [
    "Алгоритм бутстрапа для среднего значения для выборки размером n:\n",
    "1. извлечь выборку n элементов с возвратом данных\n",
    "2. записать целевую статистику для этой выборки\n",
    "3. повторить шаги 1 и 2 много (R раз)\n",
    "4. использовать результаты:\n",
    "    - вычисления их стандартного отколонения = стандартная ошибка выборочного среднего\n",
    "    - постороения гистограммы\n",
    "    - нахождения доверительного интервала\n",
    "    \n",
    "Число итераций R устанавливается произвольно. Чем больше R, тем точнее оценка стандартной ошибки или доверительного интервала.    "
   ]
  },
  {
   "cell_type": "markdown",
   "metadata": {},
   "source": [
    "### Выборочное распределение средних"
   ]
  },
  {
   "cell_type": "code",
   "execution_count": 147,
   "metadata": {},
   "outputs": [
    {
     "data": {
      "text/plain": [
       "<AxesSubplot:ylabel='Count'>"
      ]
     },
     "execution_count": 147,
     "metadata": {},
     "output_type": "execute_result"
    },
    {
     "data": {
      "image/png": "[encoded data removed]",
      "text/plain": [
       "<Figure size 432x288 with 1 Axes>"
      ]
     },
     "metadata": {
      "needs_background": "light"
     },
     "output_type": "display_data"
    }
   ],
   "source": [
    "# бустраповская выборка\n",
    "# отберем n случайных элементов r раз\n",
    "# сохраним все эти выборки\n",
    "n = 100\n",
    "r = 1000\n",
    "samples = [] # список для хранения всех выборок\n",
    "for _ in range(r):\n",
    "    z = random.sample(list(population), n) # сгенерируем случаную выборку n-элементов из популяции\n",
    "    samples.append(z)\n",
    "    \n",
    "# посчитаем среднюю для каждой выборки, сохраним в виде списка и посторим по нему гистограмму, \n",
    "# и убедимся, что средние по всем выборкам (распределение выборочных средних) имеют нормальное распределение\n",
    "m = []\n",
    "for sample in samples:\n",
    "    m.append(np.array(sample).mean())\n",
    "    \n",
    "sns.histplot(data=m)   "
   ]
  },
  {
   "cell_type": "markdown",
   "metadata": {},
   "source": [
    "### Стандартная ошибка среднего\n",
    "\n",
    "Стандартная ошибка среднего — это мера того, насколько разбросаны значения вокруг среднего.\\\n",
    "По мере увеличения размера выборки стандартная ошибка среднего имеет тенденцию к уменьшению.\\\n",
    "Чтобы проиллюстрировать это, рассмотрим стандартную ошибку среднего для нескольких наборов данных:"
   ]
  },
  {
   "cell_type": "code",
   "execution_count": 105,
   "metadata": {},
   "outputs": [
    {
     "data": {
      "text/plain": [
       "0.25820386105549664"
      ]
     },
     "execution_count": 105,
     "metadata": {},
     "output_type": "execute_result"
    }
   ],
   "source": [
    "# Стандартная ошибка среднего для выборки из 10 элементов\n",
    "sem(random.sample(list(population), 10))"
   ]
  },
  {
   "cell_type": "code",
   "execution_count": 106,
   "metadata": {},
   "outputs": [
    {
     "data": {
      "text/plain": [
       "0.10216052481082769"
      ]
     },
     "execution_count": 106,
     "metadata": {},
     "output_type": "execute_result"
    }
   ],
   "source": [
    "# Стандартная ошибка среднего для выборки из 100 элементов\n",
    "sem(random.sample(list(population), 100))"
   ]
  },
  {
   "cell_type": "code",
   "execution_count": 107,
   "metadata": {},
   "outputs": [
    {
     "data": {
      "text/plain": [
       "0.04568465448140348"
      ]
     },
     "execution_count": 107,
     "metadata": {},
     "output_type": "execute_result"
    }
   ],
   "source": [
    "# Стандартная ошибка среднего для выборки из 500 элементов\n",
    "sem(random.sample(list(population), 500))"
   ]
  },
  {
   "cell_type": "code",
   "execution_count": 108,
   "metadata": {},
   "outputs": [
    {
     "data": {
      "text/plain": [
       "0.031024121789872534"
      ]
     },
     "execution_count": 108,
     "metadata": {},
     "output_type": "execute_result"
    }
   ],
   "source": [
    "# Стандартная ошибка среднего для выборки из 1000 элементов\n",
    "sem(random.sample(list(population), 1000))"
   ]
  },
  {
   "cell_type": "code",
   "execution_count": 109,
   "metadata": {},
   "outputs": [
    {
     "data": {
      "text/plain": [
       "0.01400719556754407"
      ]
     },
     "execution_count": 109,
     "metadata": {},
     "output_type": "execute_result"
    }
   ],
   "source": [
    "# Стандартная ошибка среднего для выборки из 5000 элементов\n",
    "sem(random.sample(list(population), 5000))"
   ]
  },
  {
   "cell_type": "markdown",
   "metadata": {},
   "source": [
    "#### Проверка теоретической формулы для ошибки среднего методом бутстрапа"
   ]
  },
  {
   "cell_type": "code",
   "execution_count": 159,
   "metadata": {},
   "outputs": [
    {
     "data": {
      "text/plain": [
       "0.09548798441392035"
      ]
     },
     "execution_count": 159,
     "metadata": {},
     "output_type": "execute_result"
    }
   ],
   "source": [
    "# выше находили m - выборочные средние для бутстраповских выборок размером n\n",
    "# найдем стандартное отклонение по ним =  стандартная ошибка выборочного среднего\n",
    "np.std(m)"
   ]
  },
  {
   "cell_type": "code",
   "execution_count": 166,
   "metadata": {
    "scrolled": true
   },
   "outputs": [
    {
     "data": {
      "text/plain": [
       "0.09724039046283152"
      ]
     },
     "execution_count": 166,
     "metadata": {},
     "output_type": "execute_result"
    }
   ],
   "source": [
    "# теперь посчитаем стандартную ошибку среднего по теоретической формуле\n",
    "# сделаем случайную выборку также из n элементов\n",
    "sample = random.sample(list(population), n)\n",
    "# стандартное отклонение этой выборки\n",
    "sd_sample = np.std(sample)\n",
    "# стандартная ошибка среднего по формуле\n",
    "se_sample = sd_sample / (n**0.5)\n",
    "se_sample"
   ]
  },
  {
   "cell_type": "code",
   "execution_count": 113,
   "metadata": {},
   "outputs": [],
   "source": [
    "# Практическое значение (полученное бутстрапом) и теоретическое (расчитанное по формуле) примерно совпдадают."
   ]
  },
  {
   "attachments": {
    "confidence%20intervals.jpg": {
     "image/jpeg": "[encoded data removed]"
    }
   },
   "cell_type": "markdown",
   "metadata": {},
   "source": [
    "### Доверительные интервалы\n",
    "Доверительные интервалы — это еще один способ понять потенциальную ошибку в оценке выборки.\\\n",
    "* По ЗБЧ среднее значение выборочных средних стретимся к среднему ГС.\n",
    "* По ЦПТ распределение оценок среднего стремится к нормальному распределнию.\n",
    "* Доверительный интервал - интервал, куда попадает оценка среднего с выбранной вероятностью (уверенностью)\n",
    "![confidence%20intervals.jpg](attachment:confidence%20intervals.jpg)\n",
    "\n",
    "Например, 95-процентный доверительный интервал - это интервал, который окружает центральные 95% бутстраповского выборочного распределения выборочной статистики."
   ]
  },
  {
   "cell_type": "markdown",
   "metadata": {},
   "source": [
    "С учетом выборки размера n и целевой выборочной статистики алгоритм для бутстраповского доверительного интервала будет следующим:\n",
    "1. Извлечь случайную выборку размера n с возвратом из данных (повторная выборка).\n",
    "2. Записать целевую статистику для повторной выборки.\n",
    "3. Повторить шаги 1–2 много (R) раз.\n",
    "4. Для x-процентного доверительного интервала отсечь  $(1-\\frac{x}{100})/2$ от R результатов повторного отбора с обоих концов распределения.\n",
    "5. Точками отсечения являются конечные точки x-процентного бутстраповского доверительного интервала."
   ]
  },
  {
   "cell_type": "markdown",
   "metadata": {},
   "source": [
    "95% доверительный интервал (уровень доверия)\n",
    "\n",
    "$[x^--1.96*se; x^-+1.96*se]$"
   ]
  },
  {
   "cell_type": "code",
   "execution_count": 177,
   "metadata": {
    "scrolled": true
   },
   "outputs": [
    {
     "data": {
      "text/plain": [
       "-2.143884202054518"
      ]
     },
     "execution_count": 177,
     "metadata": {},
     "output_type": "execute_result"
    }
   ],
   "source": [
    "np.array(sample).mean()-1.96*sd_sample"
   ]
  },
  {
   "cell_type": "code",
   "execution_count": 175,
   "metadata": {},
   "outputs": [
    {
     "data": {
      "text/plain": [
       "1.6679391040884772"
      ]
     },
     "execution_count": 175,
     "metadata": {},
     "output_type": "execute_result"
    }
   ],
   "source": [
    "np.array(sample).mean()+1.96*sd_sample"
   ]
  },
  {
   "cell_type": "code",
   "execution_count": 173,
   "metadata": {},
   "outputs": [
    {
     "data": {
      "text/plain": [
       "<AxesSubplot:ylabel='Count'>"
      ]
     },
     "execution_count": 173,
     "metadata": {},
     "output_type": "execute_result"
    },
    {
     "data": {
      "image/png": "[encoded data removed]",
      "text/plain": [
       "<Figure size 432x288 with 1 Axes>"
      ]
     },
     "metadata": {
      "needs_background": "light"
     },
     "output_type": "display_data"
    }
   ],
   "source": [
    "sns.histplot(data=sample, bins=30)"
   ]
  },
  {
   "cell_type": "code",
   "execution_count": null,
   "metadata": {},
   "outputs": [],
   "source": [
    "как показать доверительный интервал графиечески?"
   ]
  },
  {
   "cell_type": "markdown",
   "metadata": {},
   "source": [
    "На практике для вычисления доверительных интервалов используется t-распредление стьюдента "
   ]
  },
  {
   "cell_type": "code",
   "execution_count": null,
   "metadata": {},
   "outputs": [],
   "source": []
  }
 ],
 "metadata": {
  "kernelspec": {
   "display_name": "Python 3",
   "language": "python",
   "name": "python3"
  },
  "language_info": {
   "codemirror_mode": {
    "name": "ipython",
    "version": 3
   },
   "file_extension": ".py",
   "mimetype": "text/x-python",
   "name": "python",
   "nbconvert_exporter": "python",
   "pygments_lexer": "ipython3",
   "version": "3.8.5"
  }
 },
 "nbformat": 4,
 "nbformat_minor": 5
}
