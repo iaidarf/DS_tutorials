{
 "cells": [
  {
   "cell_type": "markdown",
   "metadata": {},
   "source": [
    "# Векторы. Матрицы. Функции"
   ]
  },
  {
   "cell_type": "markdown",
   "metadata": {},
   "source": [
    "## Векторы\n",
    "Вектор — упорядоченный, конечный список чисел\\\n",
    "Точка — объект со своими характеристиками (координатами)\\\n",
    "В Data Science понятия точки и вектора взаимозаменяемы. \\\n",
    "Векторы позволяют описывать объекты на основе их признаков: географические координаты, размеры изделий, размер скидки и т.п.\\\n",
    "Вектор из одного числа = скаляр = точка на прямой."
   ]
  },
  {
   "cell_type": "markdown",
   "metadata": {},
   "source": [
    "Использование векторов в Data Science:\n",
    "- Для выполнения вычислений\n",
    "- Для обозначения входной информации\n",
    "- Для обозначения выходной информации"
   ]
  },
  {
   "cell_type": "code",
   "execution_count": 4,
   "metadata": {},
   "outputs": [],
   "source": [
    "import numpy as np\n",
    "import matplotlib.pyplot as plt"
   ]
  },
  {
   "cell_type": "code",
   "execution_count": 4,
   "metadata": {},
   "outputs": [
    {
     "data": {
      "text/plain": [
       "array([1.        , 2.        , 3.        , 3.14159265, 5.25      ])"
      ]
     },
     "execution_count": 4,
     "metadata": {},
     "output_type": "execute_result"
    }
   ],
   "source": [
    "# пример вектора\n",
    "v = np.array([1, 2, 3, np.pi, 5.25])\n",
    "v"
   ]
  },
  {
   "cell_type": "code",
   "execution_count": 5,
   "metadata": {},
   "outputs": [
    {
     "data": {
      "text/plain": [
       "(5,)"
      ]
     },
     "execution_count": 5,
     "metadata": {},
     "output_type": "execute_result"
    }
   ],
   "source": [
    "# размерностть вектора\n",
    "v.shape"
   ]
  },
  {
   "cell_type": "markdown",
   "metadata": {},
   "source": [
    "### Визуализация векторов"
   ]
  },
  {
   "cell_type": "code",
   "execution_count": 6,
   "metadata": {},
   "outputs": [],
   "source": [
    "import matplotlib.pyplot as plt"
   ]
  },
  {
   "cell_type": "code",
   "execution_count": 8,
   "metadata": {},
   "outputs": [],
   "source": [
    "x1 = ([1, 2])\n",
    "x2 = ([-1.5, 1])\n",
    "x3 = ([0.5, -1.2])"
   ]
  },
  {
   "cell_type": "code",
   "execution_count": 14,
   "metadata": {},
   "outputs": [
    {
     "data": {
      "text/plain": [
       "(-3.0, 3.0)"
      ]
     },
     "execution_count": 14,
     "metadata": {},
     "output_type": "execute_result"
    },
    {
     "data": {
      "image/png": "[encoded data removed]",
      "text/plain": [
       "<Figure size 432x288 with 1 Axes>"
      ]
     },
     "metadata": {
      "needs_background": "light"
     },
     "output_type": "display_data"
    }
   ],
   "source": [
    "plt.figure()\n",
    "plt.plot(x1[0], x1[1], 'b+')\n",
    "plt.plot(x2[0], x2[1], 'r*')\n",
    "plt.plot(x3[0], x3[1], 'go')\n",
    "plt.grid()\n",
    "plt.xlim([-3, 3])\n",
    "plt.ylim([-3, 3])"
   ]
  },
  {
   "cell_type": "markdown",
   "metadata": {},
   "source": [
    "### Математические операции с векторами"
   ]
  },
  {
   "cell_type": "code",
   "execution_count": 16,
   "metadata": {},
   "outputs": [],
   "source": [
    "a = np.array([3, 3, 2, 4])\n",
    "b = np.array([1, 2, 1, 3])"
   ]
  },
  {
   "cell_type": "code",
   "execution_count": 18,
   "metadata": {},
   "outputs": [
    {
     "data": {
      "text/plain": [
       "array([4, 5, 3, 7])"
      ]
     },
     "execution_count": 18,
     "metadata": {},
     "output_type": "execute_result"
    }
   ],
   "source": [
    "# сложение векторов\n",
    "a+b"
   ]
  },
  {
   "cell_type": "code",
   "execution_count": 19,
   "metadata": {},
   "outputs": [
    {
     "data": {
      "text/plain": [
       "array([4, 5, 3, 7])"
      ]
     },
     "execution_count": 19,
     "metadata": {},
     "output_type": "execute_result"
    }
   ],
   "source": [
    "# сложение векторов\n",
    "b+a"
   ]
  },
  {
   "cell_type": "code",
   "execution_count": 20,
   "metadata": {},
   "outputs": [
    {
     "data": {
      "text/plain": [
       "array([2, 1, 1, 1])"
      ]
     },
     "execution_count": 20,
     "metadata": {},
     "output_type": "execute_result"
    }
   ],
   "source": [
    "# вычитание\n",
    "a-b"
   ]
  },
  {
   "cell_type": "code",
   "execution_count": 21,
   "metadata": {},
   "outputs": [
    {
     "data": {
      "text/plain": [
       "array([-2, -1, -1, -1])"
      ]
     },
     "execution_count": 21,
     "metadata": {},
     "output_type": "execute_result"
    }
   ],
   "source": [
    "# вычитание\n",
    "b-a"
   ]
  },
  {
   "cell_type": "code",
   "execution_count": 22,
   "metadata": {},
   "outputs": [
    {
     "data": {
      "text/plain": [
       "array([ 3,  6,  2, 12])"
      ]
     },
     "execution_count": 22,
     "metadata": {},
     "output_type": "execute_result"
    }
   ],
   "source": [
    "# поэлементное умножение\n",
    "a*b"
   ]
  },
  {
   "cell_type": "code",
   "execution_count": 42,
   "metadata": {},
   "outputs": [
    {
     "data": {
      "text/plain": [
       "array([ 3,  6,  2, 12])"
      ]
     },
     "execution_count": 42,
     "metadata": {},
     "output_type": "execute_result"
    }
   ],
   "source": [
    "# поэлементное умножение\n",
    "b*a"
   ]
  },
  {
   "cell_type": "code",
   "execution_count": 23,
   "metadata": {},
   "outputs": [
    {
     "data": {
      "text/plain": [
       "array([3.        , 1.5       , 2.        , 1.33333333])"
      ]
     },
     "execution_count": 23,
     "metadata": {},
     "output_type": "execute_result"
    }
   ],
   "source": [
    "# деление\n",
    "a/b"
   ]
  },
  {
   "cell_type": "markdown",
   "metadata": {},
   "source": [
    "#### Норма вектора\n",
    "Норма вектора $||a||$ позволяет оценить его размер.\n",
    "Виды: \n",
    "- Евклидова норма\n",
    "- Манхэттенская норма\n",
    "- Другие"
   ]
  },
  {
   "cell_type": "code",
   "execution_count": null,
   "metadata": {},
   "outputs": [],
   "source": [
    "a = np.array([3, 2, 2])"
   ]
  },
  {
   "cell_type": "code",
   "execution_count": 9,
   "metadata": {},
   "outputs": [
    {
     "data": {
      "text/plain": [
       "4.123105625617661"
      ]
     },
     "execution_count": 9,
     "metadata": {},
     "output_type": "execute_result"
    }
   ],
   "source": [
    "# Евклидова норма вектора а\n",
    "np.sqrt(3**2 + 2**2 + 2**2)"
   ]
  },
  {
   "cell_type": "code",
   "execution_count": 10,
   "metadata": {},
   "outputs": [
    {
     "data": {
      "text/plain": [
       "4.123105625617661"
      ]
     },
     "execution_count": 10,
     "metadata": {},
     "output_type": "execute_result"
    }
   ],
   "source": [
    "# библиотечная функция\n",
    "np.linalg.norm(a)"
   ]
  },
  {
   "cell_type": "code",
   "execution_count": 11,
   "metadata": {},
   "outputs": [
    {
     "data": {
      "text/plain": [
       "7"
      ]
     },
     "execution_count": 11,
     "metadata": {},
     "output_type": "execute_result"
    }
   ],
   "source": [
    "# Манхэттенская норма вектора а\n",
    "np.absolute(3) + np.absolute(2) + np.absolute(2)"
   ]
  },
  {
   "cell_type": "markdown",
   "metadata": {},
   "source": [
    "#### Cкалярное произведение векторов\n",
    "\n",
    "Скалярное произведение — это операция над двумя векторами, результатом которой является скаляр, то есть число, которое не зависит от выбора системы координат."
   ]
  },
  {
   "attachments": {
    "vectors-2.jpg": {
     "image/jpeg": "[encoded data removed]"
    }
   },
   "cell_type": "markdown",
   "metadata": {},
   "source": [
    "1. **Геометрическая интерпретация.** Скалярным произведением двух векторов a и b будет скалярная величина, равная произведению модулей этих векторов, умноженная на косинус угла между ними:\n",
    "\n",
    "$$\\vec{a} * \\vec{b} = \\lvert\\vec{a}\\rvert * \\lvert\\vec{b}\\rvert * \\cos\\alpha$$ \n",
    "где α — угол между векторами a и b\n",
    "\n",
    "![vectors-2.jpg](attachment:vectors-2.jpg)\n"
   ]
  },
  {
   "cell_type": "code",
   "execution_count": 55,
   "metadata": {},
   "outputs": [
    {
     "data": {
      "text/plain": [
       "23"
      ]
     },
     "execution_count": 55,
     "metadata": {},
     "output_type": "execute_result"
    }
   ],
   "source": [
    "# Cкалярное произведение векторов a и b\n",
    "np.dot(a, b)"
   ]
  },
  {
   "cell_type": "markdown",
   "metadata": {},
   "source": [
    "2. **Алгебраическая интерпретация.** Скалярное произведение двух векторов a и b дает в результате скалярную величину, которая равна сумме попарного произведения координат векторов a и b. "
   ]
  },
  {
   "cell_type": "code",
   "execution_count": 27,
   "metadata": {},
   "outputs": [
    {
     "data": {
      "text/plain": [
       "23"
      ]
     },
     "execution_count": 27,
     "metadata": {},
     "output_type": "execute_result"
    }
   ],
   "source": [
    "c=a*b\n",
    "c.sum()"
   ]
  },
  {
   "cell_type": "markdown",
   "metadata": {},
   "source": [
    "#### Угол между векторами (косинусное сходство между векторами)\n",
    "Из формулы $\\vec{a} * \\vec{b} = \\lvert\\vec{a}\\rvert * \\lvert\\vec{b}\\rvert * \\cos\\alpha$ получаем:\n",
    "\n",
    "$$\\alpha = \\arccos \\Big(\\frac {\\vec{a} * \\vec{b}} {\\lvert\\vec{a}\\rvert * \\lvert\\vec{b}\\rvert} \\Big) $$"
   ]
  },
  {
   "cell_type": "code",
   "execution_count": 49,
   "metadata": {},
   "outputs": [
    {
     "data": {
      "text/plain": [
       "0.2715213509465357"
      ]
     },
     "execution_count": 49,
     "metadata": {},
     "output_type": "execute_result"
    }
   ],
   "source": [
    "# скалярное произведение векторов делим на произведение модулей векторов \n",
    "# и далее находим arccos (в радианах)\n",
    "alpha = np.arccos( np.dot(a, b) / (np.linalg.norm(a) * np.linalg.norm(b)))\n",
    "alpha"
   ]
  },
  {
   "cell_type": "code",
   "execution_count": 50,
   "metadata": {},
   "outputs": [
    {
     "data": {
      "text/plain": [
       "15.557027456926955"
      ]
     },
     "execution_count": 50,
     "metadata": {},
     "output_type": "execute_result"
    }
   ],
   "source": [
    "# конвертируем в градусы\n",
    "np.rad2deg(alpha)"
   ]
  },
  {
   "cell_type": "markdown",
   "metadata": {},
   "source": [
    "### Линейная независимость векторов\n",
    "Выразить один вектор через другой"
   ]
  },
  {
   "attachments": {
    "vect_sum.jpg": {
     "image/jpeg": "[encoded data removed]"
    }
   },
   "cell_type": "markdown",
   "metadata": {},
   "source": [
    "Вектор $v$ есть **линейная комбинация** векторов $u_1, ..., u_k$, если существуют такие числа $\\alpha_1, ..., \\alpha_k$, что $v = \\alpha_1u_1 + ... + \\alpha_ku_k$\n",
    "![vect_sum.jpg](attachment:vect_sum.jpg)\n",
    "Вектор, который мы выразили через другие, является **линейно-зависимым** от этих векторов.\\\n",
    "Векторы $u_1, ..., u_k$ **линейно-независимы**, если единственный способ сделать нуелвую линейную комбинацию из них - это взять все числа $\\alpha_1, ..., \\alpha_k$, равными нулю. $\\alpha_1u_1 + ... + \\alpha_ku_k = 0$ \\\n",
    "Векторы $u_1, ..., u_k$ линейно-независимы тогда и только тогда, когда ни один из них не является линейной комбинацией других. \\\n",
    "**Базис** - набор линейно-независимых векторов, к которому нельзя добавить еще один вектор, не нарушив при этом условие линейной независимости. Кол-во базисных векторов = размерности пространства.Базис образует систему координат.\n"
   ]
  },
  {
   "cell_type": "code",
   "execution_count": null,
   "metadata": {},
   "outputs": [],
   "source": []
  },
  {
   "cell_type": "markdown",
   "metadata": {},
   "source": [
    "# Матрицы"
   ]
  },
  {
   "cell_type": "markdown",
   "metadata": {},
   "source": [
    "Что такое матрица. Матрица — компактный способ представления множества векторов. \\\n",
    "Матрицы позволяют описывать сложные объекты и выполнять операции над ними.\\\n",
    "\n",
    "**!** В линейной алгебре канонично записывать матрицы через *вектор-столбцы*, а в анализе данных (и прочих связанных с БД областях) наблюдения (транзакции, записи) обычно записываются *строками*."
   ]
  },
  {
   "cell_type": "markdown",
   "metadata": {},
   "source": [
    "### Математические операции с матрицами\n",
    "Поэлементное сложение и вычитание, умножение на скаляр, аналогично с векторами."
   ]
  },
  {
   "cell_type": "markdown",
   "metadata": {},
   "source": [
    "#### Умножение матриц\n",
    "Две матрицы, одна размера m x n, другая n x k, можно перемножать по правилу \"строка на столбец\""
   ]
  },
  {
   "cell_type": "code",
   "execution_count": 45,
   "metadata": {},
   "outputs": [
    {
     "data": {
      "text/plain": [
       "array([[1, 2, 3],\n",
       "       [4, 5, 6],\n",
       "       [7, 8, 9]])"
      ]
     },
     "execution_count": 45,
     "metadata": {},
     "output_type": "execute_result"
    }
   ],
   "source": [
    "# зададим матрицу\n",
    "A1 = np.array([[1,2,3],[4,5,6],[7,8,9]])\n",
    "A1"
   ]
  },
  {
   "cell_type": "code",
   "execution_count": 46,
   "metadata": {},
   "outputs": [
    {
     "data": {
      "text/plain": [
       "array([[0.17523675, 0.72654632, 0.09699181],\n",
       "       [0.73991451, 0.03596134, 0.63287861],\n",
       "       [0.35609187, 0.53898499, 0.17458633]])"
      ]
     },
     "execution_count": 46,
     "metadata": {},
     "output_type": "execute_result"
    }
   ],
   "source": [
    "# матрица со случайными элементами\n",
    "A2 = np.random.random((3,3))\n",
    "A2"
   ]
  },
  {
   "cell_type": "code",
   "execution_count": 20,
   "metadata": {},
   "outputs": [
    {
     "data": {
      "text/plain": [
       "array([[1.72601124, 2.66530854, 3.67878538],\n",
       "       [4.32937563, 5.89904433, 6.49167734],\n",
       "       [7.99918628, 8.72300964, 9.53713632]])"
      ]
     },
     "execution_count": 20,
     "metadata": {},
     "output_type": "execute_result"
    }
   ],
   "source": [
    "# сложение\n",
    "A1 + A2"
   ]
  },
  {
   "cell_type": "code",
   "execution_count": 21,
   "metadata": {},
   "outputs": [
    {
     "data": {
      "text/plain": [
       "array([[0.27398876, 1.33469146, 2.32121462],\n",
       "       [3.67062437, 4.10095567, 5.50832266],\n",
       "       [6.00081372, 7.27699036, 8.46286368]])"
      ]
     },
     "execution_count": 21,
     "metadata": {},
     "output_type": "execute_result"
    }
   ],
   "source": [
    "# вычитание\n",
    "A1 - A2"
   ]
  },
  {
   "cell_type": "code",
   "execution_count": 22,
   "metadata": {},
   "outputs": [
    {
     "data": {
      "text/plain": [
       "array([[0.72601124, 1.33061708, 2.03635614],\n",
       "       [1.31750252, 4.49522166, 2.95006403],\n",
       "       [6.99430397, 5.78407708, 4.83422685]])"
      ]
     },
     "execution_count": 22,
     "metadata": {},
     "output_type": "execute_result"
    }
   ],
   "source": [
    "# поэлеметное умножение\n",
    "A1 * A2"
   ]
  },
  {
   "cell_type": "code",
   "execution_count": 23,
   "metadata": {},
   "outputs": [
    {
     "data": {
      "text/plain": [
       "array([[ 4.38232134,  4.63242611,  3.27354901],\n",
       "       [10.54604079, 11.49451364,  8.39634611],\n",
       "       [16.70976024, 18.35660116, 13.51914322]])"
      ]
     },
     "execution_count": 23,
     "metadata": {},
     "output_type": "execute_result"
    }
   ],
   "source": [
    "# матричное умножение\n",
    "np.matmul(A1, A2)"
   ]
  },
  {
   "cell_type": "code",
   "execution_count": 24,
   "metadata": {},
   "outputs": [
    {
     "data": {
      "text/plain": [
       "array([[ 4.38232134,  4.63242611,  3.27354901],\n",
       "       [10.54604079, 11.49451364,  8.39634611],\n",
       "       [16.70976024, 18.35660116, 13.51914322]])"
      ]
     },
     "execution_count": 24,
     "metadata": {},
     "output_type": "execute_result"
    }
   ],
   "source": [
    "# или\n",
    "A1@A2"
   ]
  },
  {
   "cell_type": "code",
   "execution_count": 25,
   "metadata": {},
   "outputs": [
    {
     "data": {
      "text/plain": [
       "array([[ 8.13874307, 10.20884824, 12.2789534 ],\n",
       "       [ 7.36729432,  9.08739162, 10.80748892],\n",
       "       [ 7.65117904,  9.91051127, 12.16984351]])"
      ]
     },
     "execution_count": 25,
     "metadata": {},
     "output_type": "execute_result"
    }
   ],
   "source": [
    "# при перестановке получим другой результат\n",
    "A2@A1"
   ]
  },
  {
   "cell_type": "code",
   "execution_count": 27,
   "metadata": {},
   "outputs": [
    {
     "data": {
      "text/plain": [
       "(3, 3)"
      ]
     },
     "execution_count": 27,
     "metadata": {},
     "output_type": "execute_result"
    }
   ],
   "source": [
    "# размерность матрицы\n",
    "A2.shape"
   ]
  },
  {
   "cell_type": "markdown",
   "metadata": {},
   "source": [
    "#### Специальные матрицы"
   ]
  },
  {
   "cell_type": "code",
   "execution_count": 43,
   "metadata": {},
   "outputs": [
    {
     "data": {
      "text/plain": [
       "array([[1., 0., 0.],\n",
       "       [0., 1., 0.],\n",
       "       [0., 0., 1.]])"
      ]
     },
     "execution_count": 43,
     "metadata": {},
     "output_type": "execute_result"
    }
   ],
   "source": [
    "# Единичная матрица (единицы по главной диагонали)\n",
    "A3 = np.eye(3)\n",
    "A3"
   ]
  },
  {
   "cell_type": "code",
   "execution_count": 34,
   "metadata": {},
   "outputs": [
    {
     "data": {
      "text/plain": [
       "array([[0., 0., 0., 0., 0.],\n",
       "       [0., 0., 0., 0., 0.],\n",
       "       [0., 0., 0., 0., 0.],\n",
       "       [0., 0., 0., 0., 0.],\n",
       "       [0., 0., 0., 0., 0.]])"
      ]
     },
     "execution_count": 34,
     "metadata": {},
     "output_type": "execute_result"
    }
   ],
   "source": [
    "# Нулевая матрица\n",
    "A4 = np.zeros((5,5))\n",
    "A4"
   ]
  },
  {
   "cell_type": "code",
   "execution_count": 3,
   "metadata": {},
   "outputs": [],
   "source": [
    "# Диагональная матрица - произвольные элементы по глав. диаг, остальные нули\n",
    "# [3  0  0]\n",
    "# [0 -1  0]\n",
    "# [0  0  2]"
   ]
  },
  {
   "cell_type": "code",
   "execution_count": 2,
   "metadata": {},
   "outputs": [],
   "source": [
    "# Треугольная матрица \n",
    "# [3  5  1]\n",
    "# [0 -1  5]\n",
    "# [0  0  2]"
   ]
  },
  {
   "cell_type": "code",
   "execution_count": null,
   "metadata": {},
   "outputs": [],
   "source": [
    "# Симметричная матрица (относительно главной диагонали)"
   ]
  },
  {
   "cell_type": "code",
   "execution_count": null,
   "metadata": {},
   "outputs": [],
   "source": [
    "# Другие"
   ]
  },
  {
   "cell_type": "markdown",
   "metadata": {},
   "source": [
    "### Операции над матрицами"
   ]
  },
  {
   "cell_type": "markdown",
   "metadata": {},
   "source": [
    "#### Элементарные преобразования\n",
    "Это преобразования, в результате которых сохраняется эквивалентность матриц:\n",
    "- перестановка местами строк\n",
    "- умножение любой строки матрицы на константу\n",
    "- сложение/вычитание строк\n",
    "- прибавление к любой строке матрицы другой строки, умноженной на некоторую константу"
   ]
  },
  {
   "cell_type": "markdown",
   "metadata": {},
   "source": [
    "#### Транспонирование матриц\n",
    "Это поворот матрицы относительно главной диагонали. **Важно: может измениться размерность матрицы.**"
   ]
  },
  {
   "cell_type": "code",
   "execution_count": 53,
   "metadata": {},
   "outputs": [
    {
     "data": {
      "text/plain": [
       "array([[1, 2, 3],\n",
       "       [4, 5, 6],\n",
       "       [7, 8, 9]])"
      ]
     },
     "execution_count": 53,
     "metadata": {},
     "output_type": "execute_result"
    }
   ],
   "source": [
    "A1"
   ]
  },
  {
   "cell_type": "code",
   "execution_count": 49,
   "metadata": {},
   "outputs": [
    {
     "data": {
      "text/plain": [
       "array([[1, 4, 7],\n",
       "       [2, 5, 8],\n",
       "       [3, 6, 9]])"
      ]
     },
     "execution_count": 49,
     "metadata": {},
     "output_type": "execute_result"
    }
   ],
   "source": [
    "np.transpose(A1)"
   ]
  },
  {
   "cell_type": "code",
   "execution_count": 51,
   "metadata": {},
   "outputs": [
    {
     "data": {
      "text/plain": [
       "array([[1, 4, 7],\n",
       "       [2, 5, 8],\n",
       "       [3, 6, 9]])"
      ]
     },
     "execution_count": 51,
     "metadata": {},
     "output_type": "execute_result"
    }
   ],
   "source": [
    "# или так\n",
    "A1.T"
   ]
  },
  {
   "cell_type": "code",
   "execution_count": null,
   "metadata": {},
   "outputs": [],
   "source": []
  },
  {
   "cell_type": "markdown",
   "metadata": {},
   "source": [
    "#### Определитель матрицы\n",
    "Важная характеристика матрицы, скалярная величина, которая обозначает ориентированное растяжение или сжатие многомерного евклидового пространства после преобразования матрицы. **Имеет смысл только для квадратных матриц.**\n",
    "\n",
    "Геом. смысл - площадь фигуры, образуемый векторами матрицы"
   ]
  },
  {
   "cell_type": "code",
   "execution_count": 54,
   "metadata": {},
   "outputs": [
    {
     "data": {
      "text/plain": [
       "-9.51619735392994e-16"
      ]
     },
     "execution_count": 54,
     "metadata": {},
     "output_type": "execute_result"
    }
   ],
   "source": [
    "np.linalg.det(A1)"
   ]
  },
  {
   "cell_type": "code",
   "execution_count": null,
   "metadata": {},
   "outputs": [],
   "source": [
    "# с машинной точки зрения -9.51619735392994e-16 = 0\n",
    "# значит в матрице есть линейно зависимые строки или столбцы"
   ]
  },
  {
   "cell_type": "code",
   "execution_count": 57,
   "metadata": {},
   "outputs": [
    {
     "data": {
      "text/plain": [
       "0.0486455107586771"
      ]
     },
     "execution_count": 57,
     "metadata": {},
     "output_type": "execute_result"
    }
   ],
   "source": [
    "np.linalg.det(A2)"
   ]
  },
  {
   "cell_type": "markdown",
   "metadata": {},
   "source": [
    "#### Минор матрицы\n",
    "Определитель для прямоугольных матриц"
   ]
  },
  {
   "cell_type": "code",
   "execution_count": null,
   "metadata": {},
   "outputs": [],
   "source": []
  },
  {
   "cell_type": "markdown",
   "metadata": {},
   "source": [
    "#### Ранг матрицы\n",
    "- Строчный ранг: максимальное число линейно независмых строк\n",
    "- Столбцовый ранг: максимальное число линейно независмых столбцов\n",
    "\n",
    "На практике используются приближенные методы расчета ранга матрицы."
   ]
  },
  {
   "cell_type": "code",
   "execution_count": 56,
   "metadata": {},
   "outputs": [
    {
     "data": {
      "text/plain": [
       "2"
      ]
     },
     "execution_count": 56,
     "metadata": {},
     "output_type": "execute_result"
    }
   ],
   "source": [
    "np.linalg.matrix_rank(A1) "
   ]
  },
  {
   "cell_type": "code",
   "execution_count": null,
   "metadata": {},
   "outputs": [],
   "source": [
    "# в матрице А1 одна из строк или один из стобцов является линейно зависимым"
   ]
  },
  {
   "cell_type": "code",
   "execution_count": 58,
   "metadata": {},
   "outputs": [
    {
     "data": {
      "text/plain": [
       "3"
      ]
     },
     "execution_count": 58,
     "metadata": {},
     "output_type": "execute_result"
    }
   ],
   "source": [
    "np.linalg.matrix_rank(A2) "
   ]
  },
  {
   "cell_type": "markdown",
   "metadata": {},
   "source": [
    "#### Обратные матрицы\n",
    "Обратная матрица - это матрица, при умножении на которую исходная матрица А дает в результате единичную матрицу I. Определитель обратной матрицы равен обратной величине определителя исходной матрицы \\\n",
    "$AA^{-1} = A^{-1}A = I$ \\\n",
    "**Не всегда существует обратная матрица.**\n",
    "Если определитель равен нулю, обратной матрицы не существует."
   ]
  },
  {
   "cell_type": "code",
   "execution_count": 60,
   "metadata": {},
   "outputs": [
    {
     "data": {
      "text/plain": [
       "array([[7, 4],\n",
       "       [5, 3]])"
      ]
     },
     "execution_count": 60,
     "metadata": {},
     "output_type": "execute_result"
    }
   ],
   "source": [
    "A5 = np.array([[7,4],[5,3]])\n",
    "A5"
   ]
  },
  {
   "cell_type": "code",
   "execution_count": 62,
   "metadata": {},
   "outputs": [
    {
     "data": {
      "text/plain": [
       "array([[ 3., -4.],\n",
       "       [-5.,  7.]])"
      ]
     },
     "execution_count": 62,
     "metadata": {},
     "output_type": "execute_result"
    }
   ],
   "source": [
    "A6 = np.linalg.inv(A5)\n",
    "A6"
   ]
  },
  {
   "cell_type": "code",
   "execution_count": 63,
   "metadata": {},
   "outputs": [
    {
     "data": {
      "text/plain": [
       "array([[ 1.0000000e+00,  0.0000000e+00],\n",
       "       [-8.8817842e-16,  1.0000000e+00]])"
      ]
     },
     "execution_count": 63,
     "metadata": {},
     "output_type": "execute_result"
    }
   ],
   "source": [
    "# проверим перемножением (получим единичную матрицу)\n",
    "A5@A6"
   ]
  },
  {
   "cell_type": "code",
   "execution_count": 65,
   "metadata": {},
   "outputs": [
    {
     "data": {
      "text/plain": [
       "array([[ 3.15251974e+15, -6.30503948e+15,  3.15251974e+15],\n",
       "       [-6.30503948e+15,  1.26100790e+16, -6.30503948e+15],\n",
       "       [ 3.15251974e+15, -6.30503948e+15,  3.15251974e+15]])"
      ]
     },
     "execution_count": 65,
     "metadata": {},
     "output_type": "execute_result"
    }
   ],
   "source": [
    "A6 = np.linalg.inv(A1)\n",
    "A6"
   ]
  },
  {
   "cell_type": "code",
   "execution_count": 67,
   "metadata": {},
   "outputs": [
    {
     "data": {
      "text/plain": [
       "array([[ 0. ,  1. , -0.5],\n",
       "       [ 0. ,  2. , -1. ],\n",
       "       [ 0. ,  3. ,  2.5]])"
      ]
     },
     "execution_count": 67,
     "metadata": {},
     "output_type": "execute_result"
    }
   ],
   "source": [
    "# получились странные очень большие значение = ошибка!\n",
    "# проверим (не получим нулевую матрицу => для А1 не существуеь обратной матрицы)\n",
    "A1@A6"
   ]
  },
  {
   "cell_type": "markdown",
   "metadata": {},
   "source": [
    "#### Собственные значение и собственные векторы\n",
    "**Собственный вектор** - ненулевой вектор, который при умножении на матрицу дает коллинеарный вектор - тот же вектор, умноженный на некторое скалярное значение.\n",
    "\n",
    "**Собственное число** - скаляр, на который умножается собственный вектор после умножения на матрицу."
   ]
  },
  {
   "cell_type": "code",
   "execution_count": 69,
   "metadata": {},
   "outputs": [
    {
     "data": {
      "text/plain": [
       "array([[-1, -6],\n",
       "       [ 2,  6]])"
      ]
     },
     "execution_count": 69,
     "metadata": {},
     "output_type": "execute_result"
    }
   ],
   "source": [
    "A8 = np.array([[-1,-6],[2,6]])\n",
    "A8"
   ]
  },
  {
   "cell_type": "code",
   "execution_count": 70,
   "metadata": {},
   "outputs": [
    {
     "data": {
      "text/plain": [
       "array([2., 3.])"
      ]
     },
     "execution_count": 70,
     "metadata": {},
     "output_type": "execute_result"
    }
   ],
   "source": [
    "# собственные значения\n",
    "np.linalg.eigvals(A8)"
   ]
  },
  {
   "cell_type": "code",
   "execution_count": 71,
   "metadata": {},
   "outputs": [
    {
     "data": {
      "text/plain": [
       "(array([2., 3.]),\n",
       " array([[-0.89442719,  0.83205029],\n",
       "        [ 0.4472136 , -0.5547002 ]]))"
      ]
     },
     "execution_count": 71,
     "metadata": {},
     "output_type": "execute_result"
    }
   ],
   "source": [
    "# собственные значения и собственные векторы (нормированные векторы)\n",
    "np.linalg.eig(A8)"
   ]
  },
  {
   "cell_type": "code",
   "execution_count": null,
   "metadata": {},
   "outputs": [],
   "source": [
    "# можно получить \"красивые\" векторы"
   ]
  },
  {
   "cell_type": "code",
   "execution_count": 83,
   "metadata": {},
   "outputs": [
    {
     "data": {
      "text/plain": [
       "array([-2.,  1.])"
      ]
     },
     "execution_count": 83,
     "metadata": {},
     "output_type": "execute_result"
    }
   ],
   "source": [
    "# первый вектор\n",
    "np.linalg.eig(A8)[1].T[0]//np.linalg.eig(A8)[1].T[0][1]"
   ]
  },
  {
   "cell_type": "code",
   "execution_count": 82,
   "metadata": {},
   "outputs": [
    {
     "data": {
      "text/plain": [
       "array([-1.5,  1. ])"
      ]
     },
     "execution_count": 82,
     "metadata": {},
     "output_type": "execute_result"
    }
   ],
   "source": [
    "# второй вектор\n",
    "np.linalg.eig(A8)[1].T[1]/np.linalg.eig(A8)[1].T[1][1]"
   ]
  },
  {
   "cell_type": "markdown",
   "metadata": {},
   "source": [
    "Матрица - это одно из представлений **линейного оператора**.\n",
    "\n",
    "**Оператор** - позволяет переключаться из одного векторного пространства в другое, при этом могут уменьшать или увеличивать размерность векторного пространства, либо оставлять неизменной. В DS это значит, что мы можем сокращать размерность входных данных или, наоборот, добавлять признаки.\n",
    "\n",
    "**Линейность** оператора задается сложением векторов и умножением на скаляр. \n",
    "\n",
    "**Линейное отображение** - такое отображение $F$ пространства векторов, что для любых векторов $u$ и $v$ и любых чисел $\\alpha_1$ и $\\alpha_2$ выполняется условие $F(\\alpha_1u+\\alpha_2v) = \\alpha_1F(u) + \\alpha_2F(v)$\n",
    "\n",
    "На языке матриц применение линейного оператора к вектору = умножение этого вектора на матрицу линейного оператора. В качестве результата этого мы получим новый вектор. Это есть перевод вектора из одного векторного пространства в другое. \\\n",
    "$F(v) = A * v$ \\\n",
    "Умножение вектора на единичную матриуцу даст тот же самый вектор $F(v) = I * v = v$ (эквивалентно умножению любого числа на единицу)\\\n",
    "\n",
    "Множество векторов можно объединить в произвольную матрицу размера nxK, где K - количество векторов.\n",
    "\\begin{equation*}\n",
    "\\Large\n",
    "v = \n",
    "\\begin{bmatrix}\n",
    "    v_{11} \\dots v_{1k} \\\\\n",
    "    \\dots \\dots \\dots  \\\\\n",
    "    v_{n1} \\dots v_{nk}\n",
    "\\end{bmatrix}\n",
    "\\end{equation*}\n",
    "\n",
    "И вместо применения линейного оператора к каждому вектору можно применить его ко всей матрице (перемножение двух матриц). Получим матрицу векторов в новом векторном пространстве.\n",
    "\n",
    "К одному объекту может быть применено последовательно несколько операторов. Пример, несколько фильтров к одной фотографии (фильтры в данному случае = линейные операторы). Это называется **композицией** линейных операторов или  линейных отображений. При этом порядок применения имеет значение!\\\n",
    "Пусть F и G - линейный отображения. Композиция F и G - новой линейное отображение F*G, полученное как последовательное применение сначала G, потом F: $(F*G)(v) = F(G(v))$ \\\n",
    "$F*G \\neq G*F$\n",
    "\n",
    "Матрица композиций отображений есть произведение матриц самих отображений. Допустим к ветору v нужно применить композицию F*G. для этого умножим матрицу G на F (но не наоборот!)\n"
   ]
  },
  {
   "cell_type": "markdown",
   "metadata": {},
   "source": [
    "Влияние специальных матриц в качестве операторов на результат линейного отображения: \n",
    "- Диагональная матрица - масштабирование\n",
    "- Ортогональная матрица - поворот\n",
    "- Симметричные матрицы - отражение"
   ]
  },
  {
   "cell_type": "markdown",
   "metadata": {},
   "source": [
    "Собственные векторы и собственные значения матрицы в контексте линейных \n",
    "операторов\n",
    "\n",
    "![linear operator.JPG](data:image/jpeg;base64,/9j/4AAQSkZJRgABAQEAYABgAAD/4RDoRXhpZgAATU0AKgAAAAgABAE7AAIAAAAKAAAISodpAAQAAAABAAAIVJydAAEAAAAUAAAQzOocAAcAAAgMAAAAPgAAAAAc6gAAAAgAAAAAAAAAAAAAAAAAAAAAAAAAAAAAAAAAAAAAAAAAAAAAAAAAAAAAAAAAAAAAAAAAAAAAAAAAAAAAAAAAAAAAAAAAAAAAAAAAAAAAAAAAAAAAAAAAAAAAAAAAAAAAAAAAAAAAAAAAAAAAAAAAAAAAAAAAAAAAAAAAAAAAAAAAAAAAAAAAAAAAAAAAAAAAAAAAAAAAAAAAAAAAAAAAAAAAAAAAAAAAAAAAAAAAAAAAAAAAAAAAAAAAAAAAAAAAAAAAAAAAAAAAAAAAAAAAAAAAAAAAAAAAAAAAAAAAAAAAAAAAAAAAAAAAAAAAAAAAAAAAAAAAAAAAAAAAAAAAAAAAAAAAAAAAAAAAAAAAAAAAAAAAAAAAAAAAAAAAAAAAAAAAAAAAAAAAAAAAAAAAAAAAAAAAAAAAAAAAAAAAAAAAAAAAAAAAAAAAAAAAAAAAAAAAAAAAAAAAAAAAAAAAAAAAAAAAAAAAAAAAAAAAAAAAAAAAAAAAAAAAAAAAAAAAAAAAAAAAAAAAAAAAAAAAAAAAAAAAAAAAAAAAAAAAAAAAAAAAAAAAAAAAAAAAAAAAAAAAAAAAAAAAAAAAAAAAAAAAAAAAAAAAAAAAAAAAAAAAAAAAAAAAAAAAAAAAAAAAAAAAAAAAAAAAAAAAAAAAAAAAAAAAAAAAAAAAAAAAAAAAAAAAAAAAAAAAAAAAAAAAAAAAAAAAAAAAAAAAAAAAAAAAAAAAAAAAAAAAAAAAAAAAAAAAAAAAAAAAAAAAAAAAAAAAAAAAAAAAAAAAAAAAAAAAAAAAAAAAAAAAAAAAAAAAAAAAAAAAAAAAAAAAAAAAAAAAAAAAAAAAAAAAAAAAAAAAAAAAAAAAAAAAAAAAAAAAAAAAAAAAAAAAAAAAAAAAAAAAAAAAAAAAAAAAAAAAAAAAAAAAAAAAAAAAAAAAAAAAAAAAAAAAAAAAAAAAAAAAAAAAAAAAAAAAAAAAAAAAAAAAAAAAAAAAAAAAAAAAAAAAAAAAAAAAAAAAAAAAAAAAAAAAAAAAAAAAAAAAAAAAAAAAAAAAAAAAAAAAAAAAAAAAAAAAAAAAAAAAAAAAAAAAAAAAAAAAAAAAAAAAAAAAAAAAAAAAAAAAAAAAAAAAAAAAAAAAAAAAAAAAAAAAAAAAAAAAAAAAAAAAAAAAAAAAAAAAAAAAAAAAAAAAAAAAAAAAAAAAAAAAAAAAAAAAAAAAAAAAAAAAAAAAAAAAAAAAAAAAAAAAAAAAAAAAAAAAAAAAAAAAAAAAAAAAAAAAAAAAAAAAAAAAAAAAAAAAAAAAAAAAAAAAAAAAAAAAAAAAAAAAAAAAAAAAAAAAAAAAAAAAAAAAAAAAAAAAAAAAAAAAAAAAAAAAAAAAAAAAAAAAAAAAAAAAAAAAAAAAAAAAAAAAAAAAAAAAAAAAAAAAAAAAAAAAAAAAAAAAAAAAAAAAAAAAAAAAAAAAAAAAAAAAAAAAAAAAAAAAAAAAAAAAAAAAAAAAAAAAAAAAAAAAAAAAAAAAAAAAAAAAAAAAAAAAAAAAAAAAAAAAAAAAAAAAAAAAAAAAAAAAAAAAAAAAAAAAAAAAAAAAAAAAAAAAAAAAAAAAAAAAAAAAAAAAAAAAAAAAAAAAAAAAAAAAAAAAAAAAAAAAAAAAAAAAAAAAAAAAAAAAAAAAAAAAAAAAAAAAAAAAAAAAAAAAAAAAAAAAAAAAAAAAAAAAAAAAAAAAAAAAAAAAAAAAAAAAAAAAAAAAAAAAAAAAAAAAAAAAAAAAAAAAAAAAAAAAAAAAAAAAAAAAAAAAAAAAAAAAAAAAAAAAAAAAAAAAAAAAAAAAAAAAAAAAAAAAAAAAAAAAAAAAAAAAAAAAAAAAAAAAAAAAAAAAAAAAAAAAAAAAAAAAAAAAAAAAAAAAAAAAAAAAAAAAAAAAAAAAAAAAAAAAAAAAAAAAAAAAAAAAAAAAAAAAAAAAAAAAAAAAAAAAAAAAAAAAAAAAAAAAAAAAAAAAAAAAAAAAAAAAAAAAAAAAAAAAAAAAAAAAAAAAAAAAAAAAAAAAAAAAAAAAAAAAAAAAAAAAAAAAAAAAAAAAAAAAAAAAAAAAAAAAAAAAAAAAAAAAAAAAAAAAAAAAAAAAAAAAAAAAAAAAAAAAAAAAAAAAAAAAAAAAAAAAAAAAAAAAAAAAAAAAAAAAAAAAAAAAAAAAAAAAAAAAAAAAAAAAAAAAAAAAAAAAAAAAAAAAAAAAAAAAAAAAAAAAAAAAAAAAAAAAAAAAAAAAAAAAAAAAAAAAAAAAAAAAAAAAAAAAAAAAAAAAAAAAAAAAAAAAAAAAAAAAAAAAAAAAAAAAAAAAAAAAAAAAAAAAAAAAAAAAAAAAAAAAAAAAAAAAAAAAAAAAAAAAAAAAAAAAAAAAAAAAAAAAAAAAAAAAAAAAAAAAAAAAAAAAAAAAAAAAAAAAAAAAAAAAAAAAAAAAAAAAAAAAAAAAAAAAAAAAAAAAAAAAAAAAAAAAAAAAAAAAAAAAAAAAAAAAAAAAAAAAAAAAAAAAAAAAAAAAAAAAAAAAAAAAAAAAAAAAAAAAAAAAAAAAAAAAAAAAAAAAAAAAAAAAAAAAAAAAAAAAAAAAAAAAAAAAAAAAAAAAAAAAAAAAAAAAAAAAAAAAAAAAAAAAAAAAAAAAAAAAAAAAAAAAAAAAAAAAAAAAAAAAAAAAAAAAAAAAAAAAAAAAAAAAAAAAAAAAAAAAAAAAAAAAAAAAAAAAAAAAAAAAAAAAAE1hbmFnZXItMQAABZADAAIAAAAUAAAQopAEAAIAAAAUAAAQtpKRAAIAAAADNDEAAJKSAAIAAAADNDEAAOocAAcAAAgMAAAIlgAAAAAc6gAAAAgAAAAAAAAAAAAAAAAAAAAAAAAAAAAAAAAAAAAAAAAAAAAAAAAAAAAAAAAAAAAAAAAAAAAAAAAAAAAAAAAAAAAAAAAAAAAAAAAAAAAAAAAAAAAAAAAAAAAAAAAAAAAAAAAAAAAAAAAAAAAAAAAAAAAAAAAAAAAAAAAAAAAAAAAAAAAAAAAAAAAAAAAAAAAAAAAAAAAAAAAAAAAAAAAAAAAAAAAAAAAAAAAAAAAAAAAAAAAAAAAAAAAAAAAAAAAAAAAAAAAAAAAAAAAAAAAAAAAAAAAAAAAAAAAAAAAAAAAAAAAAAAAAAAAAAAAAAAAAAAAAAAAAAAAAAAAAAAAAAAAAAAAAAAAAAAAAAAAAAAAAAAAAAAAAAAAAAAAAAAAAAAAAAAAAAAAAAAAAAAAAAAAAAAAAAAAAAAAAAAAAAAAAAAAAAAAAAAAAAAAAAAAAAAAAAAAAAAAAAAAAAAAAAAAAAAAAAAAAAAAAAAAAAAAAAAAAAAAAAAAAAAAAAAAAAAAAAAAAAAAAAAAAAAAAAAAAAAAAAAAAAAAAAAAAAAAAAAAAAAAAAAAAAAAAAAAAAAAAAAAAAAAAAAAAAAAAAAAAAAAAAAAAAAAAAAAAAAAAAAAAAAAAAAAAAAAAAAAAAAAAAAAAAAAAAAAAAAAAAAAAAAAAAAAAAAAAAAAAAAAAAAAAAAAAAAAAAAAAAAAAAAAAAAAAAAAAAAAAAAAAAAAAAAAAAAAAAAAAAAAAAAAAAAAAAAAAAAAAAAAAAAAAAAAAAAAAAAAAAAAAAAAAAAAAAAAAAAAAAAAAAAAAAAAAAAAAAAAAAAAAAAAAAAAAAAAAAAAAAAAAAAAAAAAAAAAAAAAAAAAAAAAAAAAAAAAAAAAAAAAAAAAAAAAAAAAAAAAAAAAAAAAAAAAAAAAAAAAAAAAAAAAAAAAAAAAAAAAAAAAAAAAAAAAAAAAAAAAAAAAAAAAAAAAAAAAAAAAAAAAAAAAAAAAAAAAAAAAAAAAAAAAAAAAAAAAAAAAAAAAAAAAAAAAAAAAAAAAAAAAAAAAAAAAAAAAAAAAAAAAAAAAAAAAAAAAAAAAAAAAAAAAAAAAAAAAAAAAAAAAAAAAAAAAAAAAAAAAAAAAAAAAAAAAAAAAAAAAAAAAAAAAAAAAAAAAAAAAAAAAAAAAAAAAAAAAAAAAAAAAAAAAAAAAAAAAAAAAAAAAAAAAAAAAAAAAAAAAAAAAAAAAAAAAAAAAAAAAAAAAAAAAAAAAAAAAAAAAAAAAAAAAAAAAAAAAAAAAAAAAAAAAAAAAAAAAAAAAAAAAAAAAAAAAAAAAAAAAAAAAAAAAAAAAAAAAAAAAAAAAAAAAAAAAAAAAAAAAAAAAAAAAAAAAAAAAAAAAAAAAAAAAAAAAAAAAAAAAAAAAAAAAAAAAAAAAAAAAAAAAAAAAAAAAAAAAAAAAAAAAAAAAAAAAAAAAAAAAAAAAAAAAAAAAAAAAAAAAAAAAAAAAAAAAAAAAAAAAAAAAAAAAAAAAAAAAAAAAAAAAAAAAAAAAAAAAAAAAAAAAAAAAAAAAAAAAAAAAAAAAAAAAAAAAAAAAAAAAAAAAAAAAAAAAAAAAAAAAAAAAAAAAAAAAAAAAAAAAAAAAAAAAAAAAAAAAAAAAAAAAAAAAAAAAAAAAAAAAAAAAAAAAAAAAAAAAAAAAAAAAAAAAAAAAAAAAAAAAAAAAAAAAAAAAAAAAAAAAAAAAAAAAAAAAAAAAAAAAAAAAAAAAAAAAAAAAAAAAAAAAAAAAAAAAAAAAAAAAAAAAAAAAAAAAAAAAAAAAAAAAAAAAAAAAAAAAAAAAAAAAAAAAAAAAAAAAAAAAAAAAAAAAAAAAAAAAAAAAAAAAAAAAAAAAAAAAAAAAAAAAAAAAAAAAAAAAAAAAAAAAAAAAAAAAAAAAAAAAAAAAAAAAAAAAAAAAAAAAAAAAAAAAAAAAAAAAAAAAAAAAAAAAAAAAAAAAAAAAAAAAAAAAAAAAAAAAAAAAAAAAAAAAAAAAAAAAAAAAAAAAAAAAAAAAAAAAAAAAAAAAAAAAAAAAAAAAAAAAAAAAAAAAAAAAAAAAAAAAAAAAAAAAAAAAAAAAAAAAAAAAAAAAAAAAAAAAAAAAAAAAAAAAAAAAAAAAAAAAAAAAAAAAAAAAAAAAAAAAAAAAAAAAAAAAAAAAAAAAAAAAAAAAAAAAAAAAAAAAAAAAAAAAAAAAAAAAAAAAAAAAAAAAAAAAAAAAAAAAAAAAAAAAAAAAAAAAAAAAAAAAAAAAAAAAAAAAAAAAAAAAAAAAAAAAAAAAAAAAAAAAAAAAAAAAAAAAAAAAAAAAAAAAAAAAAAAAAAAAAAAAAAAAAAAAAAAAAAAAAAAAAAAAAAAAAAAAAAAAAAAAAAAAAAAAAAAAAAAAAAAAAAAAAAAAAAAAAAAAAAAAAAAAAAAAAAAAAAAAAAAAAAAAAAAAAAAAAAAAAAAAAAAAAAAAAAAAAAAAAAAAAAAAAAAAAAAAAAAAAAAAAAAAAAAAAAAAAAAAAAAAAAAAAAAAAAAAAAAAAAAAAAAAAAAAAAAAAAAAAAAAAAAAAAAAAAAAAAAAAAAAAAAAAAAAAAAAAAAAAAAAAAAAAAAAAAAAAAAAAAAAAAAAAAAAAAAAAAAAAAAAAAAAAAAAAAAAAAAAAAAAAAAAAAAAAAAAAAAAAAAAAAAAAAAAAAAAAAAAAAAAAAAAAAAAAAAAAAAAAAAAAAAAAAAAAAAAAAAAAADIwMjI6MTA6MTggMTU6MDY6MTEAMjAyMjoxMDoxOCAxNTowNjoxMQAAAE0AYQBuAGEAZwBlAHIALQAxAAAA/+ELHGh0dHA6Ly9ucy5hZG9iZS5jb20veGFwLzEuMC8APD94cGFja2V0IGJlZ2luPSfvu78nIGlkPSdXNU0wTXBDZWhpSHpyZVN6TlRjemtjOWQnPz4NCjx4OnhtcG1ldGEgeG1sbnM6eD0iYWRvYmU6bnM6bWV0YS8iPjxyZGY6UkRGIHhtbG5zOnJkZj0iaHR0cDovL3d3dy53My5vcmcvMTk5OS8wMi8yMi1yZGYtc3ludGF4LW5zIyI+PHJkZjpEZXNjcmlwdGlvbiByZGY6YWJvdXQ9InV1aWQ6ZmFmNWJkZDUtYmEzZC0xMWRhLWFkMzEtZDMzZDc1MTgyZjFiIiB4bWxuczpkYz0iaHR0cDovL3B1cmwub3JnL2RjL2VsZW1lbnRzLzEuMS8iLz48cmRmOkRlc2NyaXB0aW9uIHJkZjphYm91dD0idXVpZDpmYWY1YmRkNS1iYTNkLTExZGEtYWQzMS1kMzNkNzUxODJmMWIiIHhtbG5zOnhtcD0iaHR0cDovL25zLmFkb2JlLmNvbS94YXAvMS4wLyI+PHhtcDpDcmVhdGVEYXRlPjIwMjItMTAtMThUMTU6MDY6MTEuNDEwPC94bXA6Q3JlYXRlRGF0ZT48L3JkZjpEZXNjcmlwdGlvbj48cmRmOkRlc2NyaXB0aW9uIHJkZjphYm91dD0idXVpZDpmYWY1YmRkNS1iYTNkLTExZGEtYWQzMS1kMzNkNzUxODJmMWIiIHhtbG5zOmRjPSJodHRwOi8vcHVybC5vcmcvZGMvZWxlbWVudHMvMS4xLyI+PGRjOmNyZWF0b3I+PHJkZjpTZXEgeG1sbnM6cmRmPSJodHRwOi8vd3d3LnczLm9yZy8xOTk5LzAyLzIyLXJkZi1zeW50YXgtbnMjIj48cmRmOmxpPk1hbmFnZXItMTwvcmRmOmxpPjwvcmRmOlNlcT4NCgkJCTwvZGM6Y3JlYXRvcj48L3JkZjpEZXNjcmlwdGlvbj48L3JkZjpSREY+PC94OnhtcG1ldGE+DQogICAgICAgICAgICAgICAgICAgICAgICAgICAgICAgICAgICAgICAgICAgICAgICAgICAgICAgICAgICAgICAgICAgICAgICAgICAgICAgICAgICAgICAgICAgICAgICAgICAgCiAgICAgICAgICAgICAgICAgICAgICAgICAgICAgICAgICAgICAgICAgICAgICAgICAgICAgICAgICAgICAgICAgICAgICAgICAgICAgICAgICAgICAgICAgICAgICAgICAgICAKICAgICAgICAgICAgICAgICAgICAgICAgICAgICAgICAgICAgICAgICAgICAgICAgICAgICAgICAgICAgICAgICAgICAgICAgICAgICAgICAgICAgICAgICAgICAgICAgICAgIAogICAgICAgICAgICAgICAgICAgICAgICAgICAgICAgICAgICAgICAgICAgICAgICAgICAgICAgICAgICAgICAgICAgICAgICAgICAgICAgICAgICAgICAgICAgICAgICAgICAgCiAgICAgICAgICAgICAgICAgICAgICAgICAgICAgICAgICAgICAgICAgICAgICAgICAgICAgICAgICAgICAgICAgICAgICAgICAgICAgICAgICAgICAgICAgICAgICAgICAgICAKICAgICAgICAgICAgICAgICAgICAgICAgICAgICAgICAgICAgICAgICAgICAgICAgICAgICAgICAgICAgICAgICAgICAgICAgICAgICAgICAgICAgICAgICAgICAgICAgICAgIAogICAgICAgICAgICAgICAgICAgICAgICAgICAgICAgICAgICAgICAgICAgICAgICAgICAgICAgICAgICAgICAgICAgICAgICAgICAgICAgICAgICAgICAgICAgICAgICAgICAgCiAgICAgICAgICAgICAgICAgICAgICAgICAgICAgICAgICAgICAgICAgICAgICAgICAgICAgICAgICAgICAgICAgICAgICAgICAgICAgICAgICAgICAgICAgICAgICAgICAgICAKICAgICAgICAgICAgICAgICAgICAgICAgICAgICAgICAgICAgICAgICAgICAgICAgICAgICAgICAgICAgICAgICAgICAgICAgICAgICAgICAgICAgICAgICAgICAgICAgICAgIAogICAgICAgICAgICAgICAgICAgICAgICAgICAgICAgICAgICAgICAgICAgICAgICAgICAgICAgICAgICAgICAgICAgICAgICAgICAgICAgICAgICAgICAgICAgICAgICAgICAgCiAgICAgICAgICAgICAgICAgICAgICAgICAgICAgICAgICAgICAgICAgICAgICAgICAgICAgICAgICAgICAgICAgICAgICAgICAgICAgICAgICAgICAgICAgICAgICAgICAgICAKICAgICAgICAgICAgICAgICAgICAgICAgICAgICAgICAgICAgICAgICAgICAgICAgICAgICAgICAgICAgICAgICAgICAgICAgICAgICAgICAgICAgICAgICAgICAgICAgICAgIAogICAgICAgICAgICAgICAgICAgICAgICAgICAgICAgICAgICAgICAgICAgICAgICAgICAgICAgICAgICAgICAgICAgICAgICAgICAgICAgICAgICAgICAgICAgICAgICAgICAgCiAgICAgICAgICAgICAgICAgICAgICAgICAgICAgICAgICAgICAgICAgICAgICAgICAgICAgICAgICAgICAgICAgICAgICAgICAgICAgICAgICAgICAgICAgICAgICAgICAgICAKICAgICAgICAgICAgICAgICAgICAgICAgICAgICAgICAgICAgICAgICAgICAgICAgICAgICAgICAgICAgICAgICAgICAgICAgICAgICAgICAgICAgICAgICAgICAgICAgICAgIAogICAgICAgICAgICAgICAgICAgICAgICAgICAgICAgICAgICAgICAgICAgICAgICAgICAgICAgICAgICAgICAgICAgICAgICAgICAgICAgICAgICAgICAgICAgICAgICAgICAgCiAgICAgICAgICAgICAgICAgICAgICAgICAgICAgICAgICAgICAgICAgICAgICAgICAgICAgICAgICAgICAgICAgICAgICAgICAgICAgICAgICAgICAgICAgICAgICAgICAgICAKICAgICAgICAgICAgICAgICAgICAgICAgICAgICAgICAgICAgICAgICAgICAgICAgICAgICAgICAgICAgICAgICAgICAgICAgICAgICAgICAgICAgICAgICAgICAgICAgICAgIAogICAgICAgICAgICAgICAgICAgICAgICAgICAgICAgICAgICAgICAgICAgICAgICAgICAgICAgICAgICAgICAgICAgICAgICAgICAgICAgICAgICAgICAgICAgICAgICAgICAgCiAgICAgICAgICAgICAgICAgICAgICAgICAgICAgICAgICAgICAgICAgICAgICAgICAgICAgICAgICAgICAgICAgICAgICAgICAgICAgICAgICAgICAgICAgICAgICAgICAgICAKICAgICAgICAgICAgICAgICAgICAgICAgICAgIDw/eHBhY2tldCBlbmQ9J3cnPz7/2wBDAAcFBQYFBAcGBQYIBwcIChELCgkJChUPEAwRGBUaGRgVGBcbHichGx0lHRcYIi4iJSgpKywrGiAvMy8qMicqKyr/2wBDAQcICAoJChQLCxQqHBgcKioqKioqKioqKioqKioqKioqKioqKioqKioqKioqKioqKioqKioqKioqKioqKioqKir/wAARCAF8A3UDASIAAhEBAxEB/8QAHwAAAQUBAQEBAQEAAAAAAAAAAAECAwQFBgcICQoL/8QAtRAAAgEDAwIEAwUFBAQAAAF9AQIDAAQRBRIhMUEGE1FhByJxFDKBkaEII0KxwRVS0fAkM2JyggkKFhcYGRolJicoKSo0NTY3ODk6Q0RFRkdISUpTVFVWV1hZWmNkZWZnaGlqc3R1dnd4eXqDhIWGh4iJipKTlJWWl5iZmqKjpKWmp6ipqrKztLW2t7i5usLDxMXGx8jJytLT1NXW19jZ2uHi4+Tl5ufo6erx8vP09fb3+Pn6/8QAHwEAAwEBAQEBAQEBAQAAAAAAAAECAwQFBgcICQoL/8QAtREAAgECBAQDBAcFBAQAAQJ3AAECAxEEBSExBhJBUQdhcRMiMoEIFEKRobHBCSMzUvAVYnLRChYkNOEl8RcYGRomJygpKjU2Nzg5OkNERUZHSElKU1RVVldYWVpjZGVmZ2hpanN0dXZ3eHl6goOEhYaHiImKkpOUlZaXmJmaoqOkpaanqKmqsrO0tba3uLm6wsPExcbHyMnK0tPU1dbX2Nna4uPk5ebn6Onq8vP09fb3+Pn6/9oADAMBAAIRAxEAPwD6RooooAKK5XxH4zaw1VNA8N6e2teIJFDm1V9kVrGT/rZ5Odi9SBgs3QDnNUIfA2t6wyXPjTxdqEznJbT9FkaxtEBAymUPmyAHPLOPoKAO5orz+T4H+AJnLzaPcyOeSz6rdkn8fNpv/Civh3/0A5v/AAZ3f/x2gD0KivPf+FFfDv8A6Ac3/gzu/wD47R/wor4d/wDQDm/8Gd3/APHaAPQqK89/4UV8O/8AoBzf+DO7/wDjtH/Civh3/wBAOb/wZ3f/AMdoA9Corz3/AIUV8O/+gHN/4M7v/wCO0f8ACivh3/0A5v8AwZ3f/wAdoA9Corz3/hRXw7/6Ac3/AIM7v/47R/wor4d/9AOb/wAGd3/8doA9Corz3/hRXw7/AOgHN/4M7v8A+O0f8KK+Hf8A0A5v/Bnd/wDx2gD0KivPf+FFfDv/AKAc3/gzu/8A47R/wor4d/8AQDm/8Gd3/wDHaAPQqK89/wCFFfDv/oBzf+DO7/8AjtH/AAor4d/9AOb/AMGd3/8AHaAPQqK89/4UV8O/+gHN/wCDO7/+O0f8KK+Hf/QDm/8ABnd//HaAPQqK89/4UV8O/wDoBzf+DO7/APjtH/Civh3/ANAOb/wZ3f8A8doA9Corz3/hRXw7/wCgHN/4M7v/AOO0f8KK+Hf/AEA5v/Bnd/8Ax2gD0KivPf8AhRXw7/6Ac3/gzu//AI7R/wAKK+Hf/QDm/wDBnd//AB2gD0KivPf+FFfDv/oBzf8Agzu//jtH/Civh3/0A5v/AAZ3f/x2gD0KivPf+FFfDv8A6Ac3/gzu/wD47R/wor4d/wDQDm/8Gd3/APHaAPQqK89/4UV8O/8AoBzf+DO7/wDjtH/Civh3/wBAOb/wZ3f/AMdoA9Corz3/AIUV8O/+gHN/4M7v/wCO0f8ACivh3/0A5v8AwZ3f/wAdoA9Corz3/hRXw7/6Ac3/AIM7v/47R/wor4d/9AOb/wAGd3/8doA9Corz3/hRXw7/AOgHN/4M7v8A+O0f8KK+Hf8A0A5v/Bnd/wDx2gD0KivPf+FFfDv/AKAc3/gzu/8A47R/wor4d/8AQDm/8Gd3/wDHaAPQqK89/wCFFfDv/oBzf+DO7/8AjtH/AAor4d/9AOb/AMGd3/8AHaAPQqK89/4UV8O/+gHN/wCDO7/+O0f8KK+Hf/QDm/8ABnd//HaAPQqK89/4UV8O/wDoBzf+DO7/APjtH/Civh3/ANAOb/wZ3f8A8doA9Corz3/hRXw7/wCgHN/4M7v/AOO0f8KK+Hf/AEA5v/Bnd/8Ax2gD0KivPf8AhRXw7/6Ac3/gzu//AI7R/wAKK+Hf/QDm/wDBnd//AB2gD0KivPf+FFfDv/oBzf8Agzu//jtH/Civh3/0A5v/AAZ3f/x2gD0KivPf+FFfDv8A6Ac3/gzu/wD47R/wor4d/wDQDm/8Gd3/APHaAPQqK89/4UV8O/8AoBzf+DO7/wDjtH/Civh3/wBAOb/wZ3f/AMdoA9Corz3/AIUV8O/+gHN/4M7v/wCO0f8ACivh3/0A5v8AwZ3f/wAdoA9Corz3/hRXw7/6Ac3/AIM7v/47R/wor4d/9AOb/wAGd3/8doA9Corz3/hRXw7/AOgHN/4M7v8A+O0f8KK+Hf8A0A5v/Bnd/wDx2gD0KivPf+FFfDv/AKAc3/gzu/8A47R/wor4d/8AQDm/8Gd3/wDHaAPQqK89/wCFFfDv/oBzf+DO7/8AjtH/AAor4d/9AOb/AMGd3/8AHaAPQqK89/4UV8O/+gHN/wCDO7/+O0f8KK+Hf/QDm/8ABnd//HaAPQqK89/4UV8O/wDoBzf+DO7/APjtH/Civh3/ANAOb/wZ3f8A8doA9Corz3/hRXw7/wCgHN/4M7v/AOO0f8KK+Hf/AEA5v/Bnd/8Ax2gD0KivPf8AhRXw7/6Ac3/gzu//AI7R/wAKK+Hf/QDm/wDBnd//AB2gD0KivPf+FFfDv/oBzf8Agzu//jtH/Civh3/0A5v/AAZ3f/x2gD0KivPf+FFfDv8A6Ac3/gzu/wD47R/wor4d/wDQDm/8Gd3/APHaAPQqK89/4UV8O/8AoBzf+DO7/wDjtH/Civh3/wBAOb/wZ3f/AMdoA9Corz3/AIUV8O/+gHN/4M7v/wCO0f8ACivh3/0A5v8AwZ3f/wAdoA9Corz3/hRXw7/6Ac3/AIM7v/47R/wor4d/9AOb/wAGd3/8doA9Corz3/hRXw7/AOgHN/4M7v8A+O0f8KK+Hf8A0A5v/Bnd/wDx2gD0KivPf+FFfDv/AKAc3/gzu/8A47R/wor4d/8AQDm/8Gd3/wDHaAPQqK89/wCFFfDv/oBzf+DO7/8AjtH/AAor4d/9AOb/AMGd3/8AHaAPQqK89/4UV8O/+gHN/wCDO7/+O0f8KK+Hf/QDm/8ABnd//HaAPQqK89/4UV8O/wDoBzf+DO7/APjtH/Civh3/ANAOb/wZ3f8A8doA9Corz3/hRXw7/wCgHN/4M7v/AOO0f8KK+Hf/AEA5v/Bnd/8Ax2gD0KivPf8AhRXw7/6Ac3/gzu//AI7R/wAKK+Hf/QDm/wDBnd//AB2gD0KivPf+FFfDv/oBzf8Agzu//jtH/Civh3/0A5v/AAZ3f/x2gD0KivPf+FFfDv8A6Ac3/gzu/wD47R/wor4d/wDQDm/8Gd3/APHaAPQqK89/4UV8O/8AoBzf+DO7/wDjtH/Civh3/wBAOb/wZ3f/AMdoA9Corho/hF4csbV4vD9zrmhO3/LXT9ZuAR/wF3ZT+Kmo5r/xh4HYzaw3/CV6ArEyXdvbiO/s15+Z41+SZAMZKBW5J2nFAHe0VV03UrLWNNg1DS7mO6tLhA8U0TZV1NWqACiiigArnfHHiObw34cMunxLcarezJZabbucCW4kOEB9hyx/2VNdFXEaq0eqfG3QbCR2xpGlXOpiMfdaSR0gQkey+bj60AbPhDwtD4V0byPNa7v7hvPv7+QfvLuc/edvbsB2AAreoooAKKKKACiiigAooooAKKKKACiiigAooooAKKKKACiiigAooooAKKKKACiiigAooooAKKKKACiiqOo65pWkPGmq6ja2bSgmNZ5lQuBjJGTzjI/MUAXqKxf+Ez8M/wDQf03/AMCk/wAaP+Ez8M/9B/Tf/ApP8aANqisX/hM/DP8A0H9N/wDApP8AGj/hM/DP/Qf03/wKT/GgDaorF/4TPwz/ANB/Tf8AwKT/ABo/4TPwz/0H9N/8Ck/xoA2qKxf+Ez8M/wDQf03/AMCk/wAaP+Ez8M/9B/Tf/ApP8aANqisX/hM/DP8A0H9N/wDApP8AGj/hM/DP/Qf03/wKT/GgDaorF/4TPwz/ANB/Tf8AwKT/ABo/4TPwz/0H9N/8Ck/xoA2qKxF8aeGHUMniDTGU9CLtOf1pf+Ey8M/9B/Tf/ApP8aANqisX/hMvDP8A0H9N/wDApP8AGj/hMvDP/Qf03/wKT/GgDaorF/4TLwz/ANB/Tf8AwKT/ABo/4TLwz/0H9N/8Ck/xoA2qKxf+Ey8M/wDQf03/AMCk/wAaP+Ey8M/9B/Tf/ApP8aANqisX/hMvDP8A0H9N/wDApP8AGj/hMvDP/Qf03/wKT/GgDaorF/4TLwz/ANB/Tf8AwKT/ABo/4TLwz/0H9N/8Ck/xoA2qKxo/GHhyWaOGPXtOaSV1jjQXSZdmOFUc8kkgAVs0AFFFFABRRRQAUUUUAFFFFABRRRQAUUUUAFFFFABRRRQAUUUUAFFFFABRRRQAUUUUAFFFFABRRRQAUUUUAFFFFABRRRQAUUUUAFFFFABRRRQAUUUUAFFFFABRRRQAUUUUAFFFFAHnzQj4e+PbZrX934b8S3HkyQDhLK/bJVl9FlwQR/fwf4q9BrlPifp/9o/DHXkV2jmt7N7uCRPvJLCPNQg9vmQVvaLqKaxoOn6nD/q722juF+jqGH86ALtFFFABXn6f8nKTf9ilH/6WPXoFefp/ycpN/wBilH/6WPQB6BRRRQAUUUUAFFFFABRRRQAUUUUAFFFFABRRRQAUUUUAFFFFABRRRQAUUUUAFFFFABRRRQAUUUUAFYc//JQLD/sF3P8A6NgrcrDn/wCSgWH/AGC7n/0bBQBuUUUUAFFFFABRRRQAUUUUAFFFFABRRRQBieC/+RJ0j/r1T+VbdYngv/kSdI/69U/lW3QAUUUUAFFFFABRRRQAUUUUAFQXl5BYWrXF0+2NcDgEliTgKAOSScAAckmi8vILC1a4uX2ouBwMlieAABySTwAOSaxrmSW3tn1vVoi00YxZWIOfLZvlUHsZGJwT0UHA4yWAOW8RQXGvanb3upBlh0nUrAxWuQVine5hxnH3pFjY5PKjzQFyVLH0muU1fT203wfaQTSedOdUsZJ5f+ekjXsTM30yTgdhgdq6ugAooooAKKKKACiiigAooooAKKKKACiiigAooooAKKKKACiiigAooooAKKKKACiiigAooooAKKKKACiiigAooooAKKKKACiiigAooooAKKKKACiiigAooooAKKKKACiiigAooooAw/G//JPvEP8A2C7n/wBFNVf4c/8AJLPCn/YGs/8A0QlWPG//ACT7xD/2C7n/ANFNVf4c/wDJLPCn/YGs/wD0QlAHSUUUUAFefp/ycpN/2KUf/pY9egV5+n/Jyk3/AGKUf/pY9AHoFFFFABRRRQAUUUUAFFFFABRRRQAUUUUAFFFFABRRRQAUUUUAFFFFABRRRQAUUUUAFFFFABRRRQAVhz/8lAsP+wXc/wDo2CtysOf/AJKBYf8AYLuf/RsFAG5RRRQAUUUUAFFFFABRRRQAUUUUAFFFFAGJ4L/5EnSP+vVP5Vt1ieC/+RJ0j/r1T+VbdABRRRQAUUUUAFFFFABUF5eQWFq9xdPsjXA6ZLEnAUAckk4AA5JIAovLyCwtWnun2IpA6EliTgKAOSSSAAOSTVKzs57u6TUtVTZKo/0a1zkWwIxk44aQjIJHABKrxlmACzs57u6XUdVTZIv/AB7WpIItwe5xwZCOpHA6DuWhY/2r4nEY5tdK+Z/Rrhl4H/AUOfq69xV7VdQXS9MluihlZcLHEDgyOxCoo+rED8abo2nnTNLjglcSzsTJcSj/AJaSscu30yTgdhgdqAKHjD/kBwf9hPT/AP0shrdrC8Yf8gOD/sJ6f/6WQ1u0AFFFFABRRRQAUUUUAFFFcx8Rden8PeBb+5075tSuAtnp6KV3NczMI48A8HBbcR6KaAOnorzf4Vwf8Infaz8P5ruS6XSjHd6fNKw3S20y5bAHZZRIP+BCvSKACivJPilBqPi/xMmgaDdTW83h2wbXBJCUw99kraREk/KfllbnqCPrXovhfxBbeKvCum65ZYEN9brMFDZ2Ej5kz6qcg+4oA1qKztI1c6s1+Dp1/Y/Y7t7XN7D5fn7cfvY+TujOeG4zg8V5r8UrfUfGHiZdA0G7ltpvDtg2t+ZCyYa+yVtIiScqfllY57EfWgD1uisnwtr9v4p8KabrllgRX1uswUNu2MR8yZ9VOQfcVqSyxwQvLO6xxxqWd3OFUDkknsKAHUV4j4N1O9svG+neNtQuJlsfH1xNbNbzssYtdvNh8ozuZoo2Gf8ApoPx9e17Vv7C0O41Iaffal5AB+y6fD5s8mWA+VMjOM569AaANCio3mjht2nnYRRohd2kIAQAZJJ6DFeLeDtTvbLxvpvjbULiZLHx9cTWzW85WMWu3/jw+UZ3M0UbDPrIPxAPbaKz9e1b+wtDudSGn32peQAfsunw+bPJlgPlTIzjOevQGrkk8cNu087LDGiF3aQgBABkknoMUASUV4j4O1O+svHGm+NtQnmSx8fXE1s1tPtQWoXmw+UZ3M0UbDP+2Px9uoAKKKKACiisXxj4jg8I+DdV1652lbG2aRUckCR+iJkdNzFV/GgDZZtqFuuBmuG8M/EafX7rQftWgyafaa/avPYzm6WQlkUMyuoA2jBJByc45AzisL4Y2t74O8TXnhHW7uS6m1awi1pZnO8G6IEd4nmfxHeEcADgN+fZ6Z4G03SYfDkVtPdMvh2F4bTzHU7w6bDvwoycemOaAOkooooAKKKKACiiigAooooAKKKKACiiigAooooAKKKKACiiigAooooAw/G//JPvEP8A2C7n/wBFNVf4c/8AJLPCn/YGs/8A0QlWPG//ACT7xD/2C7n/ANFNVf4c/wDJLPCn/YGs/wD0QlAHSUUUUAFefp/ycpN/2KUf/pY9egV5+n/Jyk3/AGKUf/pY9AHoFFFFABRRRQAUUUUAFFFFABRRRQAUUUUAFFFFABRRRQAUUUUAFFFFABRRRQAUUUUAFFFFABRRRQAVhz/8lAsP+wXc/wDo2CtysOf/AJKBYf8AYLuf/RsFAG5RRRQAUUUUAFFFFABRRRQAUUUUAFFFFAGJ4L/5EnSP+vVP5Vt1ieC/+RJ0j/r1T+VbdABRRRQAUUUUAFQXl5BYWrXF0+yNcDgElieAABySTwAOSaLy8gsLV7i6kEca4GcZJJOAoHUkkgADkkgCqVnaT3l0mo6omyRc/ZrUkEW4Pc4ODIR1I4HQdywAWdnPd3S6jqqbZFz9ntSQRbgjqccGQjqegHA7ltSiqer6imlaXNduu9lwscYODLIxCog92Yqo9zQBQY/2t4oEYObXSfmfHR7h14H/AAFDn6up7Vt1R0ewbTdLjgml864JMk8uMeZIx3McdhknA7DA7VeoAwvGH/IDg/7Cen/+lkNbtYXjD/kBwf8AYT0//wBLIa3aACiiigAooooAKKKKACub8T+DrfxZq+iy6tJFPpemSyzy6ZPbLLHdSNGURm3dNgZzjByWHpXSUUAchH8O9J0zxhpev+Gbez0M2kU0F3bWVkiLexSAYVtuMFWVWBwfSr3gd/EE3haK48Wn/iYTyySiMxqjQxM5MaMFAG4LjPfPWuhooA46y+Gmhvqmsal4msdO8QX2p3zXInvdPjZoItqpHCu7dwqoBnjJycVoeDvCg8H2N9p9td+bYTX0t1Z24i2CzSQ7jCuDgqGLEYA+9+NdDRQAVx1l8NNDbVNY1LxNY6d4gvtTvmuRPe6fGzQRbVSOFd2eFVAM8ZOTiuxooA89PhjXfB2gjSPBd5lL3XhNAv2ZfL061dvMlj5yNgw+3ABy4HXmup8XaFP4m8I6joltqB05r+EwPcrEJCqMcOApI6ruXOeM57Vs0UAcPrnwl8L6hoD2eiaVp2g6ghje11OzsIxNbyRurqwYAE8qM8gkE81267gi7yC2OSBgE/SlooAxvF+hT+JvCOo6Ja6gdOa/hMD3IiEhWNiA4Ckjqu5c54zntWBrnwm8L6hoL2eh6Vp2g6ghjktdTs7CMTW8kbq6sGABPKgHkEgnmu4ooARdwQbyC2OSBgE/SsfxfoU/ibwjqOiWuoHTmv4fIe5EQkKxsQHAUkdV3LnPGc9q2aKAOH134TeGNQ0F7TQ9K07QdQRo5LTU7OwjE1vJG6urAgAnlcHkZBPNaumv4hm8eaqbyTZoNvaww28ZiVfNuCN0kin720AqvJIzn0NdHRQBmX9jqlxr2lXVjq32SwtjL9tsvs6v9s3LhPnPKbTzx16VSTSPEYj8QB/Eqs18W/spvsKD+zcoQO/73DEH5vT3roKKAOUePxXD4i8LWUd8Lizt7WZ9cuzbqi3ThFWPaMHaxcs2FIAAPsKteLvCcfi+HTbO+uAunW18l3dWhi3reBASsTZONm7axBBztxx1roaKAONu/hnokWuaLq/hiy07QL3S7vznks9PRftMLIySQtt29Q3DHO0jgVo+Ln1/ZpEHhdvLmm1OJbuUxqyx2wDNLnIOMhQoxzlhiuhooAp6vb3t3ot5b6TeiwvZYWSC6MQk8lyOG2ng4PY1mtpXiD7R4fZPEY8uxQrqiGyT/iZNsADdf3XzAthf72O1b1FAGXptjqttrGqXGo6uL2zuZEaytRbLH9jULhhvHL5PPPStSiigAooooAKKKKACiiigAooooAKKKKACiiigAooooAKKKKAMPxv/AMk+8Q/9gu5/9FNVf4c/8ks8Kf8AYGs//RCVY8b/APJPvEP/AGC7n/0U1V/hz/ySzwp/2BrP/wBEJQB0lFFFABXn6f8AJyk3/YpR/wDpY9egV5+n/Jyk3/YpR/8ApY9AHoFFFFABRRRQAUUUUAFFFFABRRRQAUUUUAFFFFABRRRQAUUUUAFFFFABRRRQAUUUUAFFFFABRRRQAVhz/wDJQLD/ALBdz/6NgrcrDn/5KBYf9gu5/wDRsFAG5RRRQAUUUUAFFFFABRRRQAUUUUAFFFFAGJ4L/wCRJ0j/AK9U/lW3WJ4L/wCRJ0j/AK9U/lW3QAUUUUAFVr+/h06282bczMdscSDLyueiqO5P+JOACaL+/h0+382bcxZtkcaDLyMeiqO5/wDrnoKrWFjM1x/aGp7Wu2GEjU5S3X+6vqT3bv8AQAUANtNMklvE1HVm8y7XPlQq5MVuD/dXoWwSC5GeSBgHFaMsscETSzOscajLO5wAPc0+vLfib4okuvG3hn4fablpdWuo7jUGjkCslsjbio/3gjE+y45zQB6lWIxOq+KQiuPsukfM4H8dw68A+m2Ns47+Yp42839W1AaXpc10V8x1AWKPdjzJGO1Ez7sQPxpuj2DabpcUEsglmJaSaQDG+RiWdsdgWJ49KAL1FFFAGF4w/wCQHB/2E9P/APSyGt2sLxh/yA4P+wnp/wD6WQ1u0AFFFFABRRRQAUUUUAFFFFABRRRQAUUUUAFFFFABVHSdUi1e1lngUhI7iWDnuY3KE/mpq9XL/Dt45PCJki5V9QvW/H7VLQB1FFFFABRRRQAUUUUAFFFFABRRRQAUUUUAFFMimimDGGRZArFW2tnBHUH3p9ABRRRQAUUUUAFFFFABRRRQAUUUUAFFFFABRRRQAUUUUAFFFFABRRRQBh+N/wDkn3iH/sF3P/opqr/Dn/klnhT/ALA1n/6ISrHjf/kn3iH/ALBdz/6Kaq/w5/5JZ4U/7A1n/wCiEoA6SiiigArz9P8Ak5Sb/sUo/wD0sevQK8/T/k5Sb/sUo/8A0segD0CiiigAooooAKKKKACiiigAooooAKKKKACiiigAooooAKKKKACiiigAooooAKKKKACiiigAooooAKw5/wDkoFh/2C7n/wBGwVuVhz/8lAsP+wXc/wDo2CgDcooooAKKKKACiiigAooooAKKKKACiiigDE8F/wDIk6R/16p/KtusTwX/AMiTpH/Xqn8q26ACq1/fw6dbiWbczM2yKJOXlc9FUdycfhgk4AJov7+HTrbzZtzMx2RxIMvK56Ko7nj9CTgAmq1hYzNcHUNTKteMpVI1OUt0P8K+p6bm7kdgAAAFhYzNcf2hqZVrtgQkanKW6n+FfU+rd/YYFaVFFAGT4p8Q2vhTwrqOuX5HkWMDSkFsbz0VQfVmIA9zXgH7P0F545+KfiDx7rQ3SRArHxlVkkzhVz2VBj15FZX7TPxC/tfXovCGmTE2mmP5l5txiScjhc/7IJGOOSc9BXq/wm8Pt8PPg3aF4GOq6kRcGGRMM08uBHHxyABtzk8fMTjnAB3AH9seIiTzaaU428cPcFTn6hVYdO7HuMVt1T0rT10zTIrUO0jqC0krdZHJyzn3LEn0544q5QAUUUUAYXjD/kBwf9hPT/8A0shrdrC8Yf8AIDg/7Cen/wDpZDW7QAUUUUAFFFFABRRRQAUUUUAFFFFABRRRQAUUUUAFcZ8LyyeHdTt2/wCXfW7+MD0H2hm/9mrs64n4asdviqM8bPEd5j8Sp/rQB21FFFABRRRQAUUUUAFFFFABRRRQAV5/8S/Euu2ehaxa+F4vsstnYvcXOqXKlY4RtJVI/wC/I3twuR1JAr0CqotmuUnj1EQXELyho4/LyFUYIznOTuGc8dvTNAGJ8PPDz+F/AOlaZcZN0sIkumY5Zpn+eQk9zuY10tVrnULW0YJPMqyMMrGPmdvoo5P4CoPtt7cf8ediUU/8tbptg+oUZY/Q7aCHUinY0K5X4heI9Q8O+HYRoEcM2taldxWOnRTgmMyueS2OyoHY/SuhtYblCzXd0JmboqRhFX6Dk/mTXnfinQPEvi/4pW76Nqcvh+18NWu6C+l0/wA5bi4uAQ4QOQjhYwAWGdpcj6BSd0b+g/EDT9Q8IeHNX1ItbSa1Ilnt2HbHdnIaM/3fnRlGe+B1Nbra9YL4nTQPNY6i9o175YU4WIOE3E9BljgDvg+leXaZ4F12Cw8X+CtTupb03m3WdL1lbTyI1umbcR8uVRllRG2g9GJwM103wzi1bVP7U8W+JtOn0zUtVaKBLKfcGt4IF2gYIGN0hlf3DA0DNzXfHGgeGr9LPWLqeGd4xKqx2c0o2kkZyiEdQeM5q/omvaf4i0/7bpEsktvvKbpIHiOR1+VwD39Kz9e8K3Ot6glzB4p1zSFWMJ5GnyQrGxBJ3HfGxzzjrjgcVf0TS5NE0w29xqt/qzBi/wBovijS4/u/IqjAx6Z5oA5LTNcn0H4vSeENQ1qfUodS077fafbCnmQSh2DRAqi5VlBYA5I8tq63T9f0/U9V1PTbWUm80qRI7uJlIKb0DofcFTwfY+leZy6BrM3he58eDS7seJm1ePWIrBVCT/ZYsxC1IxnJtjJ8uMlnPGeKt/EG115b+113wZY3ksviPTv7Guk8p0a13ndDcumMp5e6UMWxjcBxQB6FoWuWPiTRodV0mRpbOcsIpCpXeFYqSAe2QcHuOa0ap6Rpltoui2Wl2K7LaygSCIHqFVQBn34q5QAUUUUAFFFFABRRRQAUUUUAFFFFAGH43/5J94h/7Bdz/wCimqv8Of8AklnhT/sDWf8A6ISrHjf/AJJ94h/7Bdz/AOimqv8ADn/klnhT/sDWf/ohKAOkooooAK8/T/k5Sb/sUo//AEsevQK8/T/k5Sb/ALFKP/0segD0CiiigAooooAKKKKACiiigAooooAKKKKACiiigAooooAKKKKACiiigAooooAKKKKACiiigAooooAKw5/+SgWH/YLuf/RsFblYc/8AyUCw/wCwXc/+jYKANyiiigAooooAKKKKACiiigAooooAKKKKAMTwX/yJOkf9eqfyrSvr6HT7fzZtzFiEjjQZaRj0VR3J/wDrngVh+Gr+HT/AGkSzbmZraNI4kGXlcjhVHcn9OScAE1p2FhM1x/aGqbWvGBCRqcpbof4V9T6t39hgUAFhYzNcf2hqe1rtl2pGpytup/hX1Pq3f2AArSoooAK434qeOYfAPgK91Myqt9IphsUIyXmYcceg5Y+wrW8X+L9J8EeHZ9Z124EUEfCIOXmfsiDuT/iTwK+JviL8RdX+I3iJtQ1NvKtoyVtLNWykCf1Y9z3+mBQBf+FXhi4+InxXs4b+UyR+cb+/lddxdVbcwOeMsxA/4FnnpX2XGBqviZnGTaaSNigcK1ww+Y++xDj0zI3dePJfgP4VPgn4ZzeJbq3U6xrhVbSNwSxQnEKcdAzHcfRcE428e06Vp40zTIbXzDK6gtLKwwZZCcu59yxJ/GgC5RRRQAUUUUAYXjD/AJAcH/YT0/8A9LIa3awvGH/IDg/7Cen/APpZDW7QAUUUUAFFFFABRRRQAUUUUAFFFFABRRRQAUUUUAFcX8OD/wAjSrD5l8RXeT6/dI/TFdpXGfDoFv8AhKJT/wAtPEN3+hVf6UAdnRRRQAUUUUAFFFFABRRRQAUUVXv7ea70+eC2uns5ZEKpcRqGaMn+IAgjP1FAGFMupax4ivGty9ta6ZGYrYyKVWe5dfmk91RWCjsWZ/7oq3punzyWaRX8txEIQE8mI+WnA6hlJY/i34VsRp5capuZ9oA3MeT7mm3FxDaW0lxdSpDDEpeSSRgqoo5JJPQUGcqalJSYy2s7a0UrawRxA8nYuMn1PqanrN0DX9P8TaNFqujTNPZTFhHKUKb9rFSQCAcZB5rSoLSSVkFFFFAwooooAKKKKACiiigAooooAKKKKACiiigAooooAKKKKACiiigDD8b/APJPvEP/AGC7n/0U1V/hz/ySzwp/2BrP/wBEJVjxv/yT7xD/ANgu5/8ARTVX+HP/ACSzwp/2BrP/ANEJQB0lFFFABXn6f8nKTf8AYpR/+lj16BXn6f8AJyk3/YpR/wDpY9AHoFFFFABRRRQAUUUUAFFFFABRRRQAUUUUAFFFFABRRRQAUUUUAFFFFABRRRQAUUUUAFFFFABRRRQAVy2tS6nF46006NZ2l3KdNug63V20CgebByCsb5PtgfWuprDn/wCSgWH/AGC7n/0bBQAz7Z4w/wCgFof/AIOpv/kWj7Z4w/6AWh/+Dqb/AORa36KAMD7Z4w/6AWh/+Dqb/wCRaPtnjD/oBaH/AODqb/5FrfooAwPtnjD/AKAWh/8Ag6m/+RaPtnjD/oBaH/4Opv8A5FrfooAwPtnjD/oBaH/4Opv/AJFo+2eMP+gFof8A4Opv/kWt+igDA+2eMP8AoBaH/wCDqb/5Fo+2eMP+gFof/g6m/wDkWt+igDA+2eMP+gFof/g6m/8AkWornVPFVpay3Nzo2hRwwoZJHbW5gFUDJJ/0X0rpKxdVP9pava6OnMSbbu8I7Irfu09tzjP0Rh7gA5LwOvipvDel6gdI0m4LWiC287VZojDGQPl2fZjtY8bjkknjoAB1H2zxh/0AtE/8HU3/AMi07wa6p4H0guwUfZYxknHUVu0AYH2zxh/0AtE/8HU3/wAi1ieLfHWseCfD02s+INL0OC2i4VV1mUvK56Ii/ZeWP+JOACa3vF/i/SPBHh2fWNduPKgj4RF5eZ+yIO5P/wBc8V8z6M2q/tBfEiTVPFMjWfhXR0aaaMSFYreIDOwNjG9sAsxwcAnjAFAHn3xF+Iur/EfxE2oao3lW0RK2lmrZS3Q9vdjxlu/sAAI/hx4NvPHPjW00qyt450U+dcCWYxJ5S8sC4ViM8LkAnJrJ8TXdjf8AirU7rR7dLbT5bqQ2sKLgJFuO0Y7cYr6a+A3hVvBXw1m8S3Nsr6vrZVbSNvvbCcRJnsGY7j7YJ6cAHd20nia81iNbXQtDS00XMMcK6tKIxKUHIP2X+BG24Ax856kcbf2zxh/0AtD/APB1N/8AItaek6eNM0uG13+Y6gtLKRgySE5dz7liT+NXKAMD7Z4w/wCgFof/AIOpv/kWj7Z4w/6AWh/+Dqb/AORa36KAMD7Z4w/6AWh/+Dqb/wCRaPtnjD/oBaH/AODqb/5FrfooA4rxHc+JZNOtV1HSdKgtjqlh5kkGqSSuo+1xdFNuoPP+0K7WsLxh/wAgOH/sJ6f/AOlkNbtABRRRQAUUUUAFFFFABRRRQAUUUUAFFFFABRRRQAVxnw1OdP1/jAHiC+xnr/rc/wBa7OuO+HfEfiVR0HiG8/8AQgaAOxooooAKKKKACiiigAooooAyvEesnRdJMtvGs17PItvZwM2PNmc4UfQfeJ7KrHtWjbpJFaxRzzGeRECvKVALkDlsDgZ68VQm0WO58SW2r3EzSNaQNFbwFV2xs5+eQHG7cQAvXAGeOa06AI55GitpJI4mmdELLGpALkDoCeOfevmo6v4t+NvxKg8O6g8dl4YtpDNeW9jLuRo4yNytIMeYSxCZHy5yQDjNereKNZvPGHiKbwL4YmeGKNA2uapE3/HrE3/LBD/z1cf98j1PTq9C8KaJ4az/AGJp8doTBHbkpnmOPO0f+PMfckk0AadtbQWVrFbWkSQwQoEjjjXCooGAAOwAqWiigAooooAKKKKACiiigAooooAKKKKACiiigAooooAKKKKACiiigAooooAw/G//ACT7xD/2C7n/ANFNVf4c/wDJLPCn/YGs/wD0QlWPG/8AyT7xD/2C7n/0U1V/hz/ySzwp/wBgaz/9EJQB0lFFFABXn6f8nKTf9ilH/wClj16BXn6f8nKTf9ilH/6WPQB6BRRRQAUUUUAFFFFABRRRQAUUUUAFFFFABRRRQAUUUUAFFFFABRRRQAUUUUAFFFFABRRRQAUUUUAFYc//ACUCw/7Bdz/6NgrcrDn/AOSgWH/YLuf/AEbBQBuUUUUAFFFFABRRRQAUUUUAFFFFAEV1cw2VpNdXUixQwoZJHY4CqBkk/hWfoFtKtpJfXiMl3fv58iMMGMYwif8AAVAB98nviodWb+0tYtNHjYeWmLu8xyQit+7T23uDyeojce4yfih4+tfh54LudUlKPeyAxWUDH/WykccZ5UdT7D3FAGN4N1/+3tQ0fw/ps3+j6JYx3WqOvIaRlxDDkHt8zkH+6vXmuu8X+L9J8EeHZ9Y124EUEfCIOXmfsijuT/8AXPArzH4ZXOk/C/4KN4u8UyRxXOsub+VowPMuC+TFGozyccgcAbmJxgmvnT4i/EXV/iN4jbUdTYxW0ZK2lkrZS3T+rHjLd/YAAAFjxt431/4s+MoTKrESSiDT9PjbKxBjgD3Y8Zb+QAr2X4gtbfBb4EWvhDS5Y/7Z1oMlzPHwzgj98+fTBEYz2PtWH+zH4EivdSu/GWrQ5t7D91ZGRflMuMs4z/dHGf8Aa9q82+LfjdvHvxEvdTidzYxH7PZK3aJehx23HLfjQAnwo8CP8QfHtrpTEpZRA3F5IBnbEpHH1YkL+Oe1faNtBFe68qQRqlhoqiKFFXC+cVxwO2xCAP8AfI7V558HPCS/Dr4Urqc0CvrWsrHKVyeS5xBFk9PvgnjgseuK9T0jTxpelw2u/wA11BaWUjBlkY5dz7liT+NAF2iiigAooooAKKKKAMLxh/yA4f8AsJ6f/wClkNbtYXjD/kBw/wDYT0//ANLIa3aACiiigAooooAKKKKACiiigAooooAKKKKACiiigArjPh6wW98XQAj934gnOB23JG39a7OuL8FKIfGfjmEcf8TSKXGP71tF/hQB2lFFFABRRRQAUUUUAFZOutd3NqNP0sss1y/lS3CH/j1jxlm9m28L7kHoDWhc3kFn5X2mQJ50qxRjBJZz0AA/H6AE06K3hhkleGJI3mffKyqAXbAGT6nAA+gFADkRY41RBhVAA+lcx4u1y9WaLw54YdP7ev0LLIw3LZQ5w07/AMlH8TewOLfi/wAVQeE9FF08D3l5cSLb2VjEfnupm+6g9PUnsATVXw9pf/CMaVf634ovLc6pe/6Tql2DtijCj5Y0J5EaDgZ5PJPJNAGh4X8L6d4S0VNO0tDgsZJ55DmS4lP3pHbuxP8AhWxXL+AfG0Pj7Q7nWLK0a3slvJLe2Z3y0yJj94Rj5cknjnpXUUAFFRW11BeW6z2c8c8L52yROGVsHBwRx1FS0AFFFFABRRRQAUUUUAFFFFABRRRQAUUUUAFFFFABRRRQAUUUUAFFFFAGH43/AOSfeIf+wXc/+imqv8Of+SWeFP8AsDWf/ohKseN/+SfeIf8AsF3P/opqr/Dn/klnhT/sDWf/AKISgDpKKKKACvP0/wCTlJv+xSj/APSx69Arz9P+TlJv+xSj/wDSx6APQKKKKACiiigAooooAKKKKACiiigAooooAKKKKACiiigAooooAKKKKACiiigAooooAKKKKACikZgqlmIAAySe1QWd/Z6jbrPp91DdQuoZZIZA6kHocigCxWHP/wAlAsP+wXc/+jYK3Kw5/wDkoFh/2C7n/wBGwUAblFFFABRRRQAUUUUAFFFFABUV1dQ2VnNdXUixQQI0kkjnARQMkk+gFS1i6t/xM9XtNIUAwptu7zn+BW/dpj/acZ9MRsO9AD9Dhkt9Pm1LUwIbm9Y3M6sceSuMKhP+ygAJ6E7jxnFfJHxN+IVp8Q/ilC2oXDReGtLlZIhHhmkjU5dl45Z9oAzwOPevYP2kPiN/wjvhkeF9LmUajq0Z+0YzmO2OQfxYgj6Bq8K+F3w6XxdNfaxrnnW/hvR4XuL24QY8wqu7ylPqRycZwPqKAOf8V+MtS8VyWkd5J5dhp0It7GzTiOCMDHA/vHAyf5AADL0jS7rW9ZtNL06My3V5MsMSAdWY4FVpmR55GhTy4yxKpnO0Z4Ge9eo/A6TSvD2pat4516VVt9BtsW8ZYAzXMoYIgHUkqr9jjr2oA9F+Mmt2nww+E2mfDnQm/wBKu7cC4lHURZy7H3ds/hu9q86+APw/bxn49jvrxc6XozJcT5H+sfJMafmMn2UjvXF6zqms/EXx1NePG91qWqXAWKGMZIzwqDHYDA/DNfZPhPwzF8MfhtaaLprJLqUrBAzjPn3UnU4GCVXk8dEQk9CaAN+Fv7Z8Q/aFIay0tnjjOMiS4I2uwP8AsKSn1Zxxt526q6bYppmmwWcbtIIkAMj43SHuxxxknJPuatUAFFFFABRRRQAUUUUAYXjD/kBw/wDYT0//ANLIa3awvGH/ACA4f+wnp/8A6WQ1u0AFFFFABRRRQAUUUUAFFFFABRRRQAUUUUAFFFFABXF+Hw0Hxb8YQ87JrewuBz3KSIf/AEAV2lcXopP/AAuXxSM5H9nWHHpzNQB2lFFFABRRRQAUUVmXWqyJ4hs9KtIlld0ae6Yk/uYgCFP+8z4AHorntQBBFYnVdeh1W8jnhTT2mitbaUAAvkoZ+PVchf8AZZj/ABcXNZ1iy0DRrrVNVmEFpaxl5HPp6D1JPAHcmrrMFUsxCqBkknpXBW0bfEfxDDqUwI8LaXPvsoyONRuF484+san7v9489MUAJ4N0HUdb15vHPi+Ew3kqGPStOfkadbt3P/TVh949gcewn+LMEGoeDU0hoRcXuqXcdrYws5CmZs4dgPvKihpCDkfIM13Fclpek32r+NZvEeuwNbRWIktNItHwSikgSTtjPzPtAA7KPVjQBreGPDGm+EdDj0rRYfJtkO4jPViBk/jisf4o+Jm8K/D3ULu3uIre+uQLOyeWZYgs8p2K25uBtyXOeMIa6+sPXPCtr4h1rRr3UZGkg0qSWZbJlDRTSOmwM4PUqC2PdqAOC+D95ouha9rfgbQNZt9W021SLUdNnhvFuT5bqEmUlflXEq7tv/TXPevWa5258Faa/ifSNdsFXT7nTPOXbbRqiXEcigMjgDnBCsPQiuioAKKKKACiiigAooooAKKKKACiiigAooooAKKKKACiiigAooooAKKKKAMPxv8A8k+8Q/8AYLuf/RTVX+HP/JLPCn/YGs//AEQlWPG//JPvEP8A2C7n/wBFNVf4c/8AJLPCn/YGs/8A0QlAHSUUUUAFefp/ycpN/wBilH/6WPXoFefp/wAnKTf9ilH/AOlj0AegUUUUAFFFFABRRRQAUUUUAFFFFABRRRQAUUUUAFFFFABRRRQAUUUUAFFFFABRRXj/AMSfjlDoV83hvwNbf254jZ2iZIkZ0t2x6AfOw/ujpg59KAPT9c8Q6R4a0432v6jb6fbA7fMnkCgn0HqeDwOa8W1v9pb7dqB0z4beGrvW7tgwSWaJsMRn5liTLMuBnkqfUDFV9A+Amt+ML4a98Xtaup7iUlhp8UoJTJ6FuQox/Cg9ORjFe26D4Y0TwxYpaaBpdtYQqoXEMYDMB/ebqx9ySaAPCpLL9oHxrFdyT3Vv4btWRh5BYQlhn7q7Q8gPuSOO9cf8OfgT4/1CddRkvrjwnCCrJKzutw5z1EakEYGfvEdfrj66ooAyvDejT6DocFhdave6vLGoDXV8waRz+AH65PqSeagn/wCSgWH/AGC7n/0bBW5WHP8A8lAsP+wXc/8Ao2CgDcooooAKKKKACiiigAooooAiurmGztJrm6kEcMKGSR26KoGSfyrnH1WDwr4Q1PxT4gR4mZGvbmMYLqMYSIc43ABV64LEnjNXdW/4mmrWujrzCuLq8x/cU/Ih/wB5xn3CMO9fPn7T3xAa61K38G6Xc/6PbgTagEPDyHlEP+6OcepHcUAeQapqOt/E/wCIbTurXOpatdBIYl6RgnCoPRVHr2GSepr2v4yy2Pwx+Duk/D3RbhRd3mHvHjG1pUHLuw/23wOvRSOQKZ+zd4Mi0fTL/wCIniHZBaxwOlnJIPuIufNl9um0f8C/Hxv4k+MpvHfjzUNakY/Z3fy7VCMbIV4UY9ccn3JoA5Wl3NsKbjtJyVzxmkrrPht4Fu/iD40tdHtgy2+fMvJwOIYh945wcE9B7kUAew/syfDgvNJ421e3wiZi0wNkEnkPJj0/hH4+le+WrHVfEc10GDWmnbreDaOHmP8ArWz324CDHQ+YDk/dLhIvDPhe20/RYkR40SzsISOC2MLkDqAAWPspNaGm2EemabDZwlmWJcF2+87dSx9yck/WgC1RRRQAUUUUAFFFFABRRRQBheMP+QHD/wBhPT//AEshrdrC8Yf8gOH/ALCen/8ApZDW7QAUUUUAFFFFABRRRQAUUUUAFFFFABRRRQAUUUUAFcbpQ2fGbxEDjMmk2TD3AecV2VcTEzRfHe4Qn5bjw9GwHqUuGB/9DoA7aiiigAoooJwOaAGTO8cEjxxmV1UlYwQC5x0yeOajs/tBs4WvliF0Y184RZ2hscgZ5xnNZ/h/Vpdbhur9QosGmKWRA5ljXgyZ9Gbdj/ZAPesDxp4kv5dRi8IeEGB129TdPc9V023Jw0zf7XZV7nn6gEOt3U3jzXZ/C+kyumiWbbdbvomx5rdfsaN6kffI6D5eCcV3EEEVrbR29tGsUMSBI40GFRQMAAdgBVLQNDsvDehWuk6ZHst7ZNoJ+856l2PdmOST3JNaNABRRRQAUUUUAFFFFABRRRQAUUUUAFFFFABRRRQAUUUUAFFFFABRRRQAUUUUAFFFFABRRRQBh+N/+SfeIf8AsF3P/opqr/Dn/klnhT/sDWf/AKISrHjf/kn3iH/sF3P/AKKaq/w5/wCSWeFP+wNZ/wDohKAOkooooAK8/T/k5Sb/ALFKP/0sevQK8/T/AJOUm/7FKP8A9LHoA9AooooAKKKKACiiigAooooAKKKKACiiigAooooAKKKKACiiigAooooAKKK80+N3xGPgPwb5Wlzbdc1I+TZKq7mQcbpMY7A4HuR6GgDnfip8U9Tvdc/4V98Mg11rtyxhurqE/wDHr/eVW6BgM7m6KPf7vV/C74SaT8O9LSV0jvddlXNzqDLlgT1RM8hf1PU+gpfBL4bDwb4c/tjVvOl8RawgmvZJyS0QJ3CPnnPOWzyW+gr0+gAooooAKKKKACsOf/koFh/2C7n/ANGwVuVhz/8AJQLD/sF3P/o2CgDcooooAKKKKACiiigAqK5uYbO1lubmRY4YULyOx4VQMk1LWLq4/tPVbXR1wYVxdXo/6ZqfkT/gTj8VRx3oA57xD4qg8BeAdR8Va0u2+vDvjgb7xkYYhh/AAZ/4Ea+ONA0jVPiH4+t7FZGmvtWuy007c7dx3PIfoMmvSv2lfHX9v+Mo/DlhOHsdHyJdnRrg/e577RhfY7qT4HSaV4K8Oa98SNfTeLLFhp6DaWkmYZYKM5BwVGfQt70Add+0H4usvCXg7T/hx4b2xBoEFwI25igX7qH3YjJ5zgc/er5nrR1/XL7xL4gvdZ1WTzbu9maWQ84BPRRnooGAB2AArOoAVVLuFUEsxwAO5r7Y+CXw1X4feDVe+iA1rUQst4e8f92LqR8uTkjqSfQV49+zb8NP7Z1k+MNYgJsdPfbYq3SWcdW69E9xgkj0NfTWt38lhprG12teTsILVGGd0rdOPQcsfZSe1AFa1P8Aa3iSa6+9a6bm3h9GmP8ArG99ownsd4+m1VXTbCPTNNhs4SzLEuC7/ec9Sx9yck+5q1QAUUUUAFFFFABRRRQAUUUUAYXjD/kBw/8AYT0//wBLIa3awvGH/IDh/wCwnp//AKWQ1u0AFFFFABRRRQAUUUUAFFFFAFa6u4dMsbi71C6jit4gXaWUhFjX3Pp71z/gnxdJ4kjvrTUoYbbVdOm8ueKF90bocmOVD3Vh39Qa1PEegQ+JdGl026u7y1hlBDtZzeWxBGME45HPSuc8HfDLw58N47i+0gahcziBkaSedpXMYO7YqLgdemBn86AO4oqjo+s6dr+mx3+j3cd1bScB0PQjqpHUEdweRV6gAooooAK4zUUFt8adDuCf+PvR7u3/ABSSFx+hNdnXG+K08v4j+B7nJB+0Xdv9Q1uzf+06AOyooooAKq3sFvqVpdabLKw82EpKIpNrqjgjII5GcHB9qtZrz3x/43074b2c406Fr/xJrk260sQS7zSbVjViB0QBVAHcjA5JNAGn4v8AFsPhW1tNE0C1S7169UQ6bpsWAFAGN74+7GvUn2x9LXgnwjH4T0iT7TO19q16/wBo1K/f71xKev0UdAOw/Gsb4d+DpvDdldeJPGNytz4m1JfO1C7lYbbdMZESnoqqBzjjj0Arm9T8Y638VdYl8OfDl5rDQonMepeI9pAYDrHAe5I79eew5IBznib9pq8i1qTSPCnhh5boT+TG16W3SHoB5S4IOccE59QD09t8KLrS+FrE+KZUl1Z49915aBVRmOdgA4wudue+K53Q/g94R8P61pmp6fZN5+mRMsAkYMDIx+aZzjLSHpknA7AYFd1QAUUUUAFFFFABRRRQAUUUUAFFFFABRRRQAUUUUAFFFFABRRRQAUUUUAFFFFABRRRQAUUUUAYfjf8A5J94h/7Bdz/6Kaq/w5/5JZ4U/wCwNZ/+iEqx43/5J94h/wCwXc/+imqv8Of+SWeFP+wNZ/8AohKAOkooooAK8/T/AJOUm/7FKP8A9LHr0CvP0/5OUm/7FKP/ANLHoA9AooooAKKKKACiiigAooooAKKKKACiiigAooooAKKKKACiiigAooooAK+crWFvit+1HdSXkLy6N4XJQRyH5A0bYHQc7pMtg9QvoMV9G14d+zh4dv8ARn8WT6tpdxZTS3yxo9xCULqu4kDPUZI/OgD3GiiigAooooAKKKKACsOf/koFh/2C7n/0bBW5WHP/AMlAsP8AsF3P/o2CgDcooooAKKKKACiiigCK5uYrO0lublxHDChkkc/wqBkmuE8VeKB4C+HOq+KtRQR6pefPFDIcsJGGIYuuPkXGQOMhz3JPS6uP7U1S10cLvgUi6vecDYp/dofXc4zjoVRgeDg/Mf7S3jv+3/GUfhuwl3WOjZE208PcH73/AHyML9d1AHjF1czXt3NdXUjSzzOZJJGOSzE5JP41JNqV7cadb2E93NJZ2rM0EDOSkZY5YqOgzjmq1FABXWfDfwLefEHxla6RbK6224SXk4BxFEPvHODgnoM9yK5mztLjUL6CzsommuLiRYookGS7McAD3JNfcXwj+HMHw58HJZttk1K6xNfTAdXxwg9lyQPXk96ANj4fWcOn/DvQ7W1QJFFZxqoA68dT7nqT3NWbbOq+JJbokG003MEA/vTkfvH/AOAjCD3MgNZujX8lh8NtKNoEa8nt44LVH6NKwwM98Dljj+FWPaui0ywj0zTYLOElliXBdurt1Zj7kkk+5NAFqiiigAooooAKKKKACiiigAooooAwvGH/ACA4f+wnp/8A6WQ1u1heMP8AkBw/9hPT/wD0shrdoAKKKKACiiigAooooAKKKKACiiigCtb6dZWdxPcWlrDBLcNumeNApkPq2Op9zVguocKWAYjIGeTS1SvtHsdSurS5u4N89m++CVWKtGT1wQQcHHI6HvQBdooJx14ooAK4/wAdFYdZ8G3R6prqxg+m+3mX+orsK4/4jgDTdDlIyYtfsCPbMwX/ANmoA7CiisjxL4o0nwlodzq2uXa29tbrlucsxPRVHcnHAoA47xb8Q7Dw7PqGtSss6aerWFhbhsfabo4aU5/uoAgLdv3g68HG8DeHU0kXXxP+KN5GNXu13wNdjYthAQdqqh+6xB+7yQDjqWzymlW2n3F1aeO/HdnJtmfb4X8K20e52TdlW8vuScNk8Z+Y9QK9V0rwdda7fW3iD4gbLm/jO+10tG3Wun+mB/y0k55c9+mABQBz1xpPiP4vXEcmrGfQPBQbctjyl1qSg5Bk/uIcZA64/Aj1DT9Ps9KsIrLTbaK1tYV2xwwoFVB7AVYooA4P4q/EJ/AehwPYQLc6jcyoI0cEpHEJEV5HwRgfOqj3YehrvByBXBeK9PtfE3xI0LRZLSC4gtIn1DUy8YbKLlYImJ6hpGZ9p6+Xmu9oA8/+KKXXiE6R4H0y8msp9cmeW5uoFy1vbQDezZyCCX8pQfc1r/DjxBceIvAtjcanldVtd1lqUblSyXMJ2SbgvAJK7sejCqWo/DPSvEnjTUNb8XW1rq8LwQ22n20sZ/0VE3F8nPJZnJz2AAq34R8EQ+DNa1n+xnjg0TUWimg06NNotZVTZIV9Q4VD9RQB1dFFFABRRRQAUUUUAFFFFABRRRQAUUUUAFFFFABRRRQAUUUUAFFFFABRRRQAUUUUAYfjf/kn3iH/ALBdz/6Kaq/w5/5JZ4U/7A1n/wCiEqx43/5J94h/7Bdz/wCimqv8Of8AklnhT/sDWf8A6ISgDpKKKKACvP0/5OUm/wCxSj/9LHr0CvP0/wCTlJv+xSj/APSx6APQKKKKACiiigAooooAKKKKACiiigAooooAK5i88e6TaeN9K8LKtzNfak8yK6QkRRmKPewLnAJxgYXJGRnGRnp6878Yafq938WPBur2Oi3lzYaGb37VNG0Yz50Cqm0FwTyCD0xQB6ISB1OKTcPUfnXMXWiaTrXjm8/tjS7O/wDK0228v7VbpLszJPnG4HGcD8qt/wDCD+E/+hX0b/wXxf8AxNAG5uHqPzo3D1H51h/8IP4T/wChX0b/AMF8X/xNH/CD+E/+hX0b/wAF8X/xNAG5uHqPzo3D1H51h/8ACD+E/wDoV9G/8F8X/wATR/wg/hP/AKFfRv8AwXxf/E0Abm4eo/OjcPUfnWH/AMIP4T/6FfRv/BfF/wDE0f8ACD+E/wDoV9G/8F8X/wATQBubh6j86Nw9R+dYf/CD+E/+hX0b/wAF8X/xNH/CD+E/+hX0b/wXxf8AxNAG5uHqPzo3D1H51h/8IP4T/wChX0b/AMF8X/xNH/CD+E/+hX0b/wAF8X/xNAG5uHqPzpc56Vhf8IP4T/6FfRv/AAXxf/E0zwXbw2nh+W3tYY4IYtRvUjijUKqKLqXAAHAFAHQVh3H/ACUCw/7Bd1/6NgrcrmdW0621Lx3p0d4jsq6bdMAsjJz5sHdSKAOmorH/AOEU0j/nhN/4Fy//ABVH/CKaR/zwm/8AAuX/AOKoA2KKx/8AhFNI/wCeE3/gXL/8VR/wimkf88Jv/AuX/wCKoA2KiurmKztJbm5fZDChd2xnAAyTWZ/wimkf88Jv/AuX/wCKrH1LwzpV9q9tpMMM3lgfaL3N1KQYxwqH5v4m7eiMD1wQCv4g8Rr4J+Her+LNUjZb2dPNWIsNwdvlhi7gbQVzjIzuPOTn4YuLia7upbm5kaWaZzJJI5yXYnJJPqTXu/7TGsWljqlj4W0eR0Ecf2i+Tz3fLH/VqdxPQZbHuD6V4JQAUUV6/wDAf4THxvrX9t63CDoVhIN0UiHF3J/cHbaOrfgMc0Aeh/s7fCR9Jt18Y+JLVkvZlIsLWaMZijOP3pzyGPIHTA553cfQNYy+EtGVQq28qqBgAXUoA/8AHqy7vQNPvLttP0qOZGQ4uboXUpEA67Vy2C5HboAcnsCAVvAgOqadpt0wBttMtFggP96Zl/eN/wABGEB6gmQV21cV4K8JaMPBOk7baVd1srNtuZRljyTw3Ukkk9ySa3f+EU0j/nhN/wCBcv8A8VQBsUVj/wDCKaR/zwm/8C5f/iqP+EU0j/nhN/4Fy/8AxVAGxRWP/wAIppH/ADwm/wDAuX/4qj/hFNI/54Tf+Bcv/wAVQBsUVj/8IppH/PCb/wAC5f8A4qj/AIRTSP8AnhN/4Fy//FUAbFFY/wDwimkf88Jv/AuX/wCKo/4RTSP+eE3/AIFy/wDxVAGxRWP/AMIppH/PCb/wLl/+Ko/4RTSP+eE3/gXL/wDFUAReMP8AkBw/9hPT/wD0shrdrj/Evh3TbPTLW4t4pVkTU7AqWuZGH/H3D2LEV2FABRRRQAUUUUAFFFFABRRRQAUUUUAFFFFAEV1awXtrJbXcaywyqVdGHDCnqqxRhV+VEGBk9AKdR1oARWDKGUgg9CD1rkvicQngn7QcA2+o2MoYj7uLuLn8s10Wm6TY6RHLHp0At45pDKyKx2hj1wCcL9BgVyvxblik+FXiAK6u0ESMyhuUIdGGfTsaAOl17W7Lw5oN3q2pyrFbWsZdiTjceyj1JOAB3Jr5Nivta8d+J4tV122k1m9uLpptN8PQtlZDkASSnokKgBcnBbHYbmrb8ba/4j+OnxFPhfwht/sTTZjidSfLI+6Z3PQj723vg8cmvefh78NtG+Hmk/Z9NU3F7Kqi6vpR+8mI7f7Kjso/XrQBV8BeBr3Rri41/wAX3keqeJb0BZJ0X93aRjpDEOy+uMZruaKgub21shEby5igE0gij81wu9z0UZ6k46UAT1l+IdYl0XSTcWun3GpXcjrDbWluvMsjdAW6IvcueAAfodSigDnvCHh6bRLGe61WZLrWtSk+0ahcqOGfGFjX/YRcKo9s9Sa6GiigAooooAKKKKACiiigAooooAKKKKACiiigAooooAKKKKACiiigAooooAKKKKACiiigAooooAw/G/8AyT7xD/2C7n/0U1V/hz/ySzwp/wBgaz/9EJVjxv8A8k+8Q/8AYLuf/RTVX+HP/JLPCn/YGs//AEQlAHSUUUUAFefp/wAnKTf9ilH/AOlj16BXn6f8nKTf9ilH/wClj0AegUUUUAFFFFABRRRQAUUUUAFFFFABRRRQAUUUUAY1v/yPWo/9g21/9G3FbNY1v/yPWo/9g21/9G3FbNABRWL4v8Vad4L8L3et6xKEgt1+Ve8rn7qDGeSePbqeAa87+BfxUu/iG2vQ628SX0VwLiCBOAkDALtUdwpXk+re9AHr1FFFABRRRQAUUUUAFFeDWX7QEFv8btS0TUrmA+GpZxbW92TxBIqhS2R1RmGD2H3sgZz7zQAVh+Ev+QPc/wDYTvv/AEqlrcrD8Jf8ge5/7Cd9/wClUtAG5WHP/wAlAsP+wXc/+jYK3Kw5/wDkoFh/2C7n/wBGwUAblFFFABRRRQBFc3MVnaS3Ny4SGFC7sewAyTWZokbW+nz6pqYENxeE3E+9v9UgHyIT0G1AM44zuPfJbqw/tPU7bR1XdAMXN7zgeWD8ie+5x06FUYHqAcL4x622gfCLX7uKRY5ntvs8RL7DukIT5T1yAxI+lAHxp498Rt4s8e6vrTElLq5YxAnpGPlQdT/CB7Vz1Fdf8Ofhzq/xH8RLp+mL5VrFhry8Zcpbpn9WPZe/sASAC58KvhdqHxL8QGGJjbaXalTe3ePuA9FUd2ODjsOp9/t3StKs9E0m203TIEt7S1jEcUaDAUCs7wh4Q0jwR4dg0fQrfyoIxl3bl5n7u57k/wD1hxU93eT310+naVIY2Xi5uwARbgj7q54Mh6gHIUct1UMAF5dz3t0+naW+xkwLm6AyIARnaueDIR2/hBBPUBr9paQ2NqlvapsjToM5JPUkk8kk8knkmizs4LC1S3tIxHEmcDOSSTkkk8kkkkk8kkk1NQBh+C/+RI0j/r1T+VblYfgv/kSNI/69U/lW5QAUUUUAFFFFABRRRQAUUUUAFFFFAGH4v/5AcH/YTsP/AEshrcrD8X/8gOD/ALCdh/6WQ1uUAFFFFABRRRQAUUUUAFZGv6TqeqpCul6/c6NsJLtbwRSGT0z5inAHPT1rXooA4v8A4QvxG+BP8QtYIB/5Z2tshP4+XR/wgeqjBXx94j3A9Sbcj8vKrtKKAOObwRrGMr4+18N6lbYj8vKoTwb4gXhviBrTD/r2tc/n5VdjRQBx7eCdYZif+E+18E+i23/xqmf8INrPf4geIT6fLbcf+Qq7OigDjv8AhCdZA+Tx9r4bsSlsR+XlV5P8TPAl9qGieKNbh8WapfXGk26W80knlxxXIB3SRFY1Gdqkcnucdq+ia4/xzpdppnwh8TWljCI4Rpl3JtyTlmRmLEnkksSSTQB4v8Ofg9qul3V1pep+KNZ8M6xIRJGmnnEF3EBkMrjhyCTlTgj8a7uX4MeJd263+KviJGxjLsW5/wC+xXq9m6zWNvKvIeNWB9iKrQy6n/bdzFcW0H9neWrW88ch37v4ldSPxBBPHXHcA8ni+FHxLsH3af8AFe7k2nKrcwMw/EFmFcv8U/B3xRPgiRvEPiSw1q0t545IooLTbcGUsETZtTOfm9e5r6PooA8P+FEPxg0Lw6umalollJbId1vLqt9skjU/wfIHPXnkcV3pn+JbNxZeF4wfW6uGx/44M12dFAHGeZ8S1Xm28LyHvie4TP8A46aU3nxJH/MG8Mt9NSnH/tGuyooA4xdT+IqKBJ4a0KRv4jHq8ig/QGGlGs/EDv4R0nr/ANBo9P8AvzXZUUAcd/b3juNcyeCbKX2h1tc/+PRD+dNHi7xYhIuPh3f/AFh1K1cfq4rs6KAOO/4TTXF+/wCANdz32y2x/wDatNHjrVx9/wAAeIgP9n7Of/atdnRQBxr/ABCniXM3gnxUvrtso3x/3zIajPxMiX73hHxaB6/2O5/rXbUUAcZ/ws/SUH+kaR4jg9RJolxx+SmgfFXw0c7l1hQO7aLd/wDxuuzooA4wfFbww4HknVZs9BHo90f/AGnTf+FueEVwJbnUIj3EmlXS4+v7uu1ooA4tfi94FPXxBEmDg+ZDImPzWpovit4DmYBPFelqc4xJcBP54rrdqnqo/KontLaUYlt4nB/vIDQBR0bxPofiJp10HVrTUfs+PNNrMJAmemSPoa1KgtrK1slYWdtDbhjlhFGFyffFT0AFFFFABRRRQAUUUUAFFFFABRRRQBh+N/8Akn3iH/sF3P8A6Kaq/wAOf+SWeFP+wNZ/+iEqx43/AOSfeIf+wXc/+imqv8Of+SWeFP8AsDWf/ohKAOkooooAK8/T/k5Sb/sUo/8A0sevQK8/T/k5Sb/sUo//AEsegD0CiiigAooooAKKKKACiiigAooooAKKKKACiiigDGt/+R61H/sG2v8A6NuK2axrf/ketR/7Btr/AOjbiret6pFomgX+qT7fLs7eSdgzBQQqk4yemcYoA+Uf2k/HZ8Q+N18P2E7nT9Gykig4WS4P3jjvtGF56HdjrzzfwN8THwz8WtKkeQpbXrGzn+bA2vwCeQMBtp57A1wV7dzX9/cXl05kmuJWlkc9WZjkn8zUNAH6Kf29pH/QVsv/AAIT/Gj+3tI/6Ctl/wCBCf418ZeDfgb4u8b+Gm1zS1tILRt3kC5mKtcFSQdoAOORjLYrgdR0+60nU7nT9QhMF1aytDNG3VXU4I/OgD9C/wC3tI/6Ctl/4EJ/jR/b2kf9BWy/8CE/xr866KAP0U/t7SP+grZf+BCf41z3jzx1pnhzwHq+qW2o2klzDbN5CJOpLSH5V4DAnkjpzivkX4efCPxH8SY7ufRfs9vaWpCPc3bMqM/B2LgEk4OTxxx6iub8S+G9T8JeILnRtctzBd2zYYZyGHZlPcEcg0AZju0kjSSMWdiWZmOSSe9fZn7Pvjv/AIS/4eR2V9cNLqmjkW85c/M8f/LN89+Btz1ypz1yfjGvXv2adf8A7I+LCWMrhYdVtnt+XCgOvzqeep+UqB/tUAfYtYfhL/kD3P8A2E77/wBKpa3Kw/CX/IHuf+wnff8ApVLQBuVhz/8AJQLD/sF3P/o2CtysOf8A5KBYf9gu5/8ARsFAG5RRRQAVFdXMVnaS3Ny+yGFDJIxGdqgZJqWsXVf+Jnq1to67jEuLq8wcAoD8iE/7TjOOhVGB4OCASeH7WZbWTUL6No73UH86VHbLRL0ji7gbVwCBxuLHksSeX+NfhbUPF/ws1DTtHTzbxGSeOEdZdjZKj3xnH0xXfUUAfHXgT9nbxV4kvopfENvJoWmcM7zgec4z91UzkEjPLYx719X+GvC+jeENGj0vw9Yx2dqh3FU5LtgAsxPLMcDk1rVlXl3PeXb6dpb7HTH2m6AyIAf4V7GQjnHQA5PUBgAu7ue9un0/S32MvFzdAAiAH+Fc8GQjoOg6nsDftLSGxtUt7VNkaZwMkkknJJJ5JJJJJ5JOTRZ2kFjapb2qbI17ZySepJJ5JJ5JPJNTUAFFFFAGH4L/AORI0j/r1T+VblYfgv8A5EjSP+vVP5VuUAFFFFABRRRQAUUUUAFFFFABRRRQBh+L/wDkBwf9hOw/9LIa3Kw/F/8AyA4P+wnYf+lkNblABRRRQAUUUUAFFFFABRRRQAUUUUAFFFFABTJ5o7a3knmbZHGpd2PYAZJp9VNP1K11WCWWxk86KOZ4C4Hyl0Yq4HrhgR9QaAMrwg19fafLrWqGSOXU386G2cnFvB0iXb2Yr8zd8sR2FM+Igz8MvEo9dKuf/RTV0dc94/Xf8N/Ei+ulXP8A6KagDS0Ji/h3TWPVrWInjH8Aq/WX4YkM3hLSJGzl7GFjn3jFalAGXNa6uviWG7tb6JtMeLy7iylj5VhuIkjcdzkAqeMDIweupRWbrtpqd3YL/YmoCwvIpBIjPEJI5cA/u3HXac9QQRjigDSopqbvLXzMb8fNt6Zp1ABRRRQAUUUUAFFFFABRRRQAUUUUAFFFFABRRRQAUUUUAFFFFABRRRQAUUUUAFFFFABRRRQAUUUUAYfjf/kn3iH/ALBdz/6Kaq/w5/5JZ4U/7A1n/wCiEqx43/5J94h/7Bdz/wCimqv8Of8AklnhT/sDWf8A6ISgDpKKKKACvP0/5OUm/wCxSj/9LHr0CvP0/wCTlJv+xSj/APSx6APQKKKKACiiigAooooAKKKKACiiigAooooAKKKKAMa3/wCR61H/ALBtr/6NuKy/ip/ySXxR/wBgyf8A9ANalv8A8j1qP/YNtf8A0bcVR+JNrLe/C/xJb24DSSabOFBOP4DQB8B0UUUAfod4Y0uHRPCelaZbBfKtLSKIFUC7sKAWwOhJ5/Gvkv8AaU0iHS/jFPPAR/xMbOG6dQgUK3MZ6dc+Xuz6sa+hPhX8R9F8Q/DXT7q81S3gu7C1WK+W5uVDoUG3exJzhgu7J9a+V/i/4ti8Z/FDVdUs5XkslcW9qWckeXGNuV9FYhmx/tHuaAOJooooA+3/AIDWcFn8FdB+zpt89JJpOfvMZGyf0FeQftY2NvF4m8P30aYuLi1ljkbP3lRgV4/4G1dx+zj4803Ufh7H4evLyKHUdJZh5UjBS8LNlWHrgsVPcYGeoryP9orxvZ+LvH0NrpFylzY6TCYRKnKtKzZcg9xwo9ODjrQB5HXbfBv/AJLJ4Z/6/V/ka4mu9+CNnNe/Gjw6luoYx3BlbJxhVRmJ/IUAfc1YfhL/AJA9z/2E77/0qlrcrD8Jf8ge5/7Cd9/6VS0AblYc/wDyUCw/7Bdz/wCjYK3Kw5/+SgWH/YLuf/RsFAG5RRRQBFdXMVnaTXNy4jhhQySMf4VAyTWdoFtMtrJf3qlbu/fzpFY5Ma9Ej9BtXAIHGdx5ySY9WP8AaWrWujpzEuLq89Nin5EP+8w6dCEYHrg7VABRRWXqV3NPP/Zmlvtum2maYDIt4yeT/vkZCjnnkjANACXl5Pe3T6dpT7HTi5ugARbgjO1c8GQg5AOQo5PZWv2dnBYWq29qmyNcnkkkknJYk8kkkkk8kkk0WlpDY2qW9qmyNOnOSSTkkk8kk5JJ5JJJqagAooooAKKKKAMPwX/yJGkf9eqfyrcrD8F/8iRpH/Xqn8q3KACiiigAooooAKKKKACiiigAooooAw/F/wDyA4P+wnYf+lkNblYfi/8A5AcH/YTsP/SyGtygAooooAKKKKACiiigAooooAKKKKACiisXxT4ki8MaZBdSxiRri6ito1Z9gyx5YnsFUMx/3aAF8Uxavc6DJaeH8R3d0ywG4L7fs0bHDyj1ZVzgDvitDTtPttK0y2sLGMRW9tGsUaDsoGBSabqEOq6XbX9qHENzGsqeYpVsEZGQehq1QAVh+NkMngDxAgBJbTLkADv+6atyszxM/l+E9XfGdtjMcHv+7NAEXhB/N8EaG5OS2nW5z/2zWtisHwKCPh34cB5P9lW3/opa3qACiiigAqnpi6klu66w9rJKJG2SWysoZO2VJOD2PJHGeM4FyigAorltYv8A/hBNN1XXtSv77UNN3rILQoskkLu4XbG3HyZYcN09ccVNoOueINV1ErqXhd9JsPLLJPPexySM2RgeWmccZOc0AdHRRRQAUUUUAFFFFABRRRQAUUUUAFFFFABRRRQAUUUUAFFFFABRRRQAUUUUAFFFFABRRRQBh+N/+SfeIf8AsF3P/opqr/Dn/klnhT/sDWf/AKISrHjf/kn3iH/sF3P/AKKaq/w5/wCSWeFP+wNZ/wDohKAOkooooAK8/T/k5Sb/ALFKP/0sevQK8/T/AJOUm/7FKP8A9LHoA9AooooAKKKKACiiigAooooAKKKKACiiigAooooAxrf/AJHrUf8AsG2v/o24rYdFkjZHAZWGCCM5FY9v/wAj1qP/AGDbX/0bcVs0Afn5478Mz+D/ABzquiXCsPstwwiLHJaM/MjZwOqkGufr6w/aQ+Glx4k0iDxTosDTX+mxGO5hjTLSwZzu6/wHccYOQx9K+T6ACiiigAooooAKKKKACvoX9lTwtNLrWq+KJo8W8EP2KBjj5nYhnxx2AXn/AGu9eFaDoWo+JtcttI0W1e6vLp9scaD8yewAHJJ4AFfefgfwna+CPBmn6BZEOLWP95KF2+bIeXcjnqSeM8DA7UAdBWH4S/5A9z/2E77/ANKpa3Kw/CX/ACB7n/sJ33/pVLQBuVhz/wDJQLD/ALBdz/6NgrcrDn/5KBYf9gu5/wDRsFAG5UVzcRWdrLc3DhIoULux7KBkmpaxNXP9p6ta6MuTEALq99PLB+RD/vuOnQqjg9cEAl8P20q2st/exmO81B/PkRjkxrjCR+21QAQON24981rUVm319M9x/Z+mYN0y5klIytsp6MfU+i9/pQAX99M9x/Z2l7TdlQZJSMrbKf4m9Sey9/oKs2NjDp9v5UG45JZ3c5aRj1Zj3J/zxS2NjDp9v5UG45Yu7uctIx6sx7k/54qxQAUUUUAFFFFABRRRQBh+C/8AkSNI/wCvVP5VuVh+C/8AkSNI/wCvVP5VuUAFFFFABRRRQAUUUUAFFFFABRRRQBh+L/8AkBwf9hOw/wDSyGtysPxf/wAgOD/sJ2H/AKWQ1uUAFFFFABRRRQAUUUUAFFFFABRRRQAVx/xD8Cf8LAs9N0641B7Owt7v7RcrEP3kwCsoVW/h+8cnmuwooAq6Zplpo+mw2GnxeVbwLtRckn1JJPJJPJJ5Jq1RRQAVjeMm2+Bdebdtxptwd3p+6bmtmoby0gv7GezvIxLb3EbRSxno6sMEfiDQBleCv+RB8P5/6Blt/wCilrbqK2tobO0itrWNYoIUWOONRwigYAH0AqWgAooooAKKKKAIbyzt9QsZrO9hSe3nQxyxOMq6kYIIribLwNruhxRy6N4klkms8w2tvdBmgltgxKRSjJO5dxAkXBxjIOK7yigBsZcxqZAFfA3BTkA/WnUUUAFFFFABRRRQAUUUUAFFFFABRRRQAUUUUAFFFFABRRRQAUUUUAFFFFABRRRQAUUUUAYfjf8A5J94h/7Bdz/6Kaq/w5/5JZ4U/wCwNZ/+iEqx43/5J94h/wCwXc/+imqv8Of+SWeFP+wNZ/8AohKAOkooooAK8/T/AJOUm/7FKP8A9LHr0CvP0/5OUm/7FKP/ANLHoA9AooooAKKKKACiiigAooooAKKKKACiiigAooooAxrf/ketR/7Btr/6NuK2axrf/ketR/7Btr/6NuK2aAEZVdSrgMrDBBGQRXzF8Y/2fbm0urnxD4DtfNs2BkuNMiUl4mzyYlA5XnO3qO2RwPp6igD83WVkcq4KspwQRgg0lfbnjz4H+E/Hdw17PDJpupN967s8KXP+2p4b68H3rw3xB+y/4x06R20O4stXhB+UCTyZDyezfL0wfvd6APFaK7q5+CnxEtrh4W8LXjlDgtEVdT9CDg1Z0/4EfEbUd2zw5LAFIBNzNHF178tz+FAHnlanh3w3q3ivWYtL0Gylu7qUj5UXIQZxuY9FUZ6nivdvC/7Kdy8gl8Ya3HEg/wCXfThuY9f42GB27Gve/CfgrQPBOliw8OafHaxnl3+9JIcdWY8np9KAOP8AhB8HbL4cad9rvjFea/cLia5UZWFf7keRnHqepr06iigArD8Jf8ge5/7Cd9/6VS1uVh+Ev+QPc/8AYTvv/SqWgDcrDn/5KBYf9gu5/wDRsFblYc//ACUCw/7Bdz/6NgoA17m5hs7WW5upFihhQySO3RVAySfwrO8P28wtJdQvVdLvUH8+SOTrCuAEix22qACBxuLHvUerH+09WtdHQ/u1xd3mP+ean5EP+84z7hGHerF9fTPcf2fpmDdMAZJWGVt1P8R9W9F79elABfX0z3P9naZtN2RmSUjK2yn+I+rHsvf6A1ZsbCHT7byYATklnkc5aRj1Zj3JosbGHT7byYNxySzyOctIx6sx7k/54qzQAUUUUAFFFFABRRRQAUUUUAYfgv8A5EjSP+vVP5VuVh+C/wDkSNI/69U/lW5QAUUUUAFFFFABRRRQAUUUUAFFFFAGH4v/AOQHB/2E7D/0shrcrD8X/wDIDg/7Cdh/6WQ1uUAFFFFABRRRQAUUUUAFFFcmnjuN5xZ/2bONR/tw6O1ruAIwpl87JH3PIHmdOfu9aAOsorE1jxp4Z8PXq2mu6/p2nXLIJFiurlY2KkkBsE9Mg/lRH4x0G58N6hr2nanb6hp2nxySXE1nIJQuxN7Dg9duDj3FAG3RXFN471Sz0ea/1fwld2waOBrKOK5jlNxJNII0hY8bH3OmeqgEnJxisrxD8RdZtbWbSYdGaw8RteWtrHEsiXKFZxIVkRiUBP7mRfmwAQCcjqAelUV5povjvU7KMaJqFve6n4pl1J7UWV20EKxgQLMW8yJdvl7CGzgtl8Y9NPV/HOuaUui7/CLCTVrgWYim1BEaK4/eHacKwK7YiwbPIYcA8UAdxRXnjfFdIfGA0G50uFZhfw6e6R6jG1wHkRG3iDAZo18zBYdlY9qbo3xh0zWfEFrYQQ23kXtxNb2zpqMT3G6MOd0luPmjVhG2Dz1XIGaAPRaK83Hxo0SfT9On08QX011o9zqlxbW96jvZmGFZPKkAyQx3FeQOVPFSXHxj0T+z5bnTPs+pGDQ5NXnjtb1HMOwxjyWxna37zqf7p4oA9EorjZfiboct1pceizw6ql/LPE0lvMP3DRQNNhhjOSEx265rH8GeOW1PxXp9hJeXt8NX0saiqyxxrHY5CyiEsqgySBJ489MKIzgliaAPSqK881n4swaN40vNAk06KU2lza27EX8a3EpnCEGOAjc4HmDOD2Jpsfxi0l/FUelmO3EEmqHSkcahEbjztxQMbYfMIy42hs55Bxg5oA9Forg/CvxNHjaxhm8N6SLmQWjT3aNdhVtXJIjhLbTl22kkY+UcnqoMVr8StQn0pLqXwyUmudSbS7GBL9WM9wjyK4J2gIqiJ23c5A6UAeg0Vwb/ABIu1uLfTR4blOtSak+myWX2tAsbi388OJMYZCmDnAI5+UkYOppHjQal4Y1nU59PktbrRZbiC8szIGxJEu4hXx8wKlSDgdelAHUUVxVh8TNO1JvDcdrazNca47JJCTg2RVHLCT33IVA/iwSOBUem/EV9X1mbStOsLC4vfIkuIIYtXilIWOREZZtgbymxICANwOCMjFAHc0Vw1n4/1S60zTLr/hG136teNZ2kUd+GyyxzOzOSg2qPJPTJwcgEjBsw/EGCKTydasjp0sFxcW97umDpAYoVm3BgPnUo6kcA84xmgDsKK5Xw344XxDNp8R0yeye9S/YxzuN8RtbhISrAdyXz14xjmq1n8TNHeDQZtWkg0mLWtL/tCOS7uVVUP7v93k4BP7zOf9k0AdnRWZoutJrKX7LCYRZ3stoctncUON3tmuI8AfEC+8R+ML+11CWF9P1CF73RRGgUrBHM0TK5zksR5Ugz2kPYUAelUUUUAFFFFABRRRQAUUUUAFFFFABRRRQAUUUUAFFFFAGH43/5J94h/wCwXc/+imqv8Of+SWeFP+wNZ/8AohKseN/+SfeIf+wXc/8Aopqr/Dn/AJJZ4U/7A1n/AOiEoA6SiiigArz9P+TlJv8AsUo//Sx69Arz9P8Ak5Sb/sUo/wD0segD0CiiigAooooAKKKKACiiigAooooAKKKKACiivO9R+LNtZJrepQWSXGhaDfR2N/eCciQSMVVike07lVnUE5GfmxnAyAdXb/8AI9aj/wBg21/9G3FbNczNqcVh4qmvngvLi1u9Pt1hms7SS4VirzE8xqccOp565q1/wlll/wA+Wsf+Ci5/+N0AblFYf/CWWX/PlrH/AIKLn/43R/wlll/z5ax/4KLn/wCN0AblFYf/AAlll/z5ax/4KLn/AON0f8JZZf8APlrH/gouf/jdAG5RWH/wlll/z5ax/wCCi5/+N0f8JZZf8+Wsf+Ci5/8AjdAG5RWH/wAJZZf8+Wsf+Ci5/wDjdH/CWWX/AD5ax/4KLn/43QBuUVh/8JZZf8+Wsf8Agouf/jdH/CWWX/PlrH/gouf/AI3QBuVh+Ev+QPc/9hO+/wDSqWj/AISyy/58tY/8FFz/APG6PCIf+w5Hkilh82+u5VSaMo4V7iRlJU4IyCDg+tAG5XPahcRWnja1uLhwkUOkXbuxPCqJICTXQ1wXjyPUD4o0U2tpcSWTwTJd3ENrJOIsSQuoKoCTkp9DtIPXNAGrps12yyi3UDVdRb7RcM65WyjIwit6sFwAvc7jwM1v2FjDp9t5MGSSS8kjnLSOerMe5P8AnisOx17TNPthDBY60cnc8j6RclpGPVmPl8k1Z/4S2y/58tZ/8FFz/wDG6ANyisP/AIS2y/58tZ/8FFz/APG6P+Etsv8Any1n/wAFFz/8boA3KKw/+Etsv+fLWf8AwUXP/wAbo/4S2y/58tZ/8FFz/wDG6ANyisP/AIS2y/58tZ/8FFz/APG6P+Etsv8Any1n/wAFFz/8boA3KKw/+Etsv+fLWf8AwUXP/wAbo/4S2y/58tZ/8FFz/wDG6ANyisP/AIS2y/58tZ/8FFz/APG6P+Etsv8Any1n/wAFFz/8boAPBf8AyJGkf9eqfyrcrj/DPiCHTvC+nWd5p+sJPBbqkijSbg4IHqExWp/wltl/z5ax/wCCi5/+N0AblFYf/CW2X/PlrH/gouf/AI3R/wAJbZf8+Wsf+Ci5/wDjdAG5RWH/AMJbZf8APlrH/gouf/jdH/CW2X/PlrH/AIKLn/43QBuUVh/8JbZf8+Wsf+Ci5/8AjdH/AAltl/z5ax/4KLn/AON0AblFYf8Awltl/wA+Wsf+Ci5/+N0f8JbZf8+Wsf8Agouf/jdAG5RWH/wltl/z5ax/4KLn/wCN0f8ACW2X/PlrH/gouf8A43QAeL/+QHB/2E7D/wBLIa3K5LXNaj1eytrOysNVMrahZv8AvNMnjUKlzG7EsyAABVJ5PautoAKKKKACiiigAooooAK54eCtJHxBPjELJ/aRsvsZT5fLxnPmYxnzMfJuz93jFdDWZp2uRahqmoac1tcWl3YMpeOcL+8jfdslQqxBRijgZwQVIIFAGkUVuqg/UVBe2FtqOnXNheQrLa3UTQzRngOjDDDj1BxViigDjo/htYNpVxYahrOt6jFLDHDC1xe4a0WNw8Zj2BRvVlU72DMdoySOKX/hW+myWd4L7UtUvdQu5oZzqk06i4ieHPlGPaoRdu5sALg7mznJrrllRlLK6so6kHgVQ1fXtO0PTlvtQnIhd1jjEMbSvK56KiICzseeAD0PpQBz/wDwrXTfsyuNS1Mast6b8a15qG784p5ZOSmzaYwE2bNu0DjPNaH/AAhlk1hodtNe6hcHRbwX0U89x5kk0u2RSZGYHIPmscDGOAMAYrT03VrfU9NW9jjubaJiRtvbd7dxg45SQBh+I5q40saHDOqn0JoA4+6+Gun3mv3Go3Gq6qYLm+j1CbThLGLd5owgVjhN+B5SHG/qKtaX4FtdH1LzrLVtWSxR5Xh0v7QBbQtJncQAoZhksQrMygngDAx0wdWYqGUkdQD0oEiFmAdcp94Z+79aAOQufhlot1pWk2Dz3qxaVpM+kwsroGeKaJImZjt5cKgIIwM54PSpNS+HGj6pp62k894ka6M+jZjdATCxjJblT8/7peenJ4rrN6gZLDGM9e1GRnGRnGcUAcVbfC3SYdUi1S51LVL7UUleV7u5ljLy7rdoArBUC4VGOMAc8nNXPD3w60PwwNEGk/aIxottPbwhnB87zjGXeQ4yWzGMYwBkjGMAdQssbx+Yrqyf3gePzpVZXUMhDKRkEHINAHF6t8MNN1nX9Q1K61XVkh1OSGS80+KWNYJjEqqoP7veBhBnDir9p4ItbHXGvrPVdWgtWunvDpkdwFtjM+SzYC78FiWKb9mTnbXSCWNt211O04bB6H0pS6jOWA2jJ56UAct4c+HuleFW0xtIuLyNtPtWtGLOh+1xFiyib5fm2sxKkbSMkZwSC+XwFpkmgf2WtxexeXqEupW93HKqzW9xJI8hZDtxwZGABBG04Oa6VZEdVZHVg33SDnNDSxooLOqgnAJPU+lAHA3/AMMma70iTTtXvVlh1OXUL/Upbgfa5Xa3aJWUhNnH7sbNoTapGDyD0Gl+DdP0nwzf6LDNdTLqJme8u5nDTzySjDyMcAbsYAwMDA4rf3KM5I4GTz0o3rz8w+Xrz0oAwI/BWjQyWUsFv5M9rNFM00aqHuGjhaFPMOPmwjn0/pUGg+BbPw/e2U8Opahcrp9pJZWcFw8flwQMYzsAVFJx5SgMxLepNdL5iCQIWXeRkLnkj6U7IzjPPpQByF94G3Wfh2x0u+uLaDSdQlu2nEoEw3QzqCvylSQ8y8MNpUEEHoXx/DrSPMspr2e9v57W/fUZJbmRSbqdlADSBVAwoVNqqFA2LxxXVNIiKWd1VV6knAFDSxqcM6g+5oA5iTwJClxb3Gma3qmmXEEt7IJbYW7FvtUwmkUiWJxgOoxgAgDkmsu0+Fscei2Wm3XiHU2isrObTUMKwoZrJ2XEMhMZOQqIu9NrHBORmu78xNwXeu45wM8nFLuHqOuOvegDDj8JWUHh/VdHtbi6t4NTaZpJI3XzIvNGDsJXAwOmQfxqha/DPwrpuoaTf6NpVvpV3pUhaOeygjjeYGNoykp25cENk98gHNdXuHHI56c9aNw2g5GD0OaAForM8ReItL8KaDcazrtz9msbfb5kmwtjcwUcKCTyR0rQhmjuII5oHWSKRQ6OpyGBGQRQA+iiigAooooAKKKKACiiigAooooAKKKKACiiigDD8b/8k+8Q/wDYLuf/AEU1V/hz/wAks8Kf9gaz/wDRCVY8b/8AJPvEP/YLuf8A0U1V/hz/AMks8Kf9gaz/APRCUAdJRRRQAV5+n/Jyk3/YpR/+lj16BXCG3kj/AGiBcsMR3HhUxofUx3eW/wDRq/nQB3dFFFABRRRQAUUUUAFFFFABRRRQAUUUUAFfNWpaJd6b8PPiL4PmAOuanr8cthaKfnuo3lidXQd12qxJ/h2nOMV9K0m1SwYgZHQ46UAUdBsH0rw5punTMryWlpFAzL0JVApI/Kr9FFABRRRQAUUUUAFFFFABRRRQAUUUUAVtQs2v7GS2W6uLTzBgzWzBZFHfBIOPr19MVwPwOLt4HvvMkkkb+2b0F5HLMf3vcnkn3NehXFvFd27wTrvjcYZckZH4VQ0fw3o/h8SDRbCKyEhJdYgQGJOScdMk96ANSiiigAooooAKKKKACiiigAooooAKKKKACiiigAooooAKKKKACiiigAooooAKKKKACiiigAooooAKKKKACiiigAooooAK4Ox07WrbxjD4ouLadjqN3PY3NqDn7NZ8C3kI3c4aLcR2+1yehrvKKAMDV9H8Q3uoGbS/FDabblQBbiwjlwe53NzzVLxFoviK4+Ges6Xa6u17rVxaSpBdeUsBYkcKMcKT03ds5rrKKAPH9Q8MC90GZfDXgS60azW7sJNR09vKjOqQRSMZYliD7MgEEsSPM+7k4FVJPBd5PcSajH4WuYfDcWtR3Ufh1fLjkMX2RopXWMNtAMjg+XkbgrcfNg+10UAeL23hO9tlsJ9X8KXWo+G49QvpYNAby5ms45FiEBaJm2EArOQoJ2ecPQ413+HWmahceC57jwZaQpBJIt9BdFbt4Yfs0oijkkfJcKxjAGSFIAHABr1GigDwnTvBOuwfEh9Qj0KSKT/hJ7m8+2i1hTNs5cbjceZ5hGGz5e3BwBVbS/h9r0emzwyaXexatDpN/BeXC28EaX8skLKA0wcvPuchwWAxjnHSvf6KAPHL/wAF+LH0AwXMh1Fz4NvLCKJIEiME7i32xE7juJ2NzwPl96k8T+DfF13rWtTSTNrKz6RaQh4o1tfPRLsyS2ww3Vo9wySAd+K9fooA8Q1Xwdq1/banL4a8NzaLoUt3p8kmitHEpuxEZPPcQBvLwQ0Pykjf5Rz2z2/w+0WfSPC+rINOubVLq7kmgspo4rXAMSL8iRMwiVmUnGc5JbAzXcUUAeBDwRrMsOvLoPhmfSLe60+2hjt3t4YfLlS6R8fK588hNxMrYJ299xrd13wz4shvvFEs9rF4hj1CPS4mka1VRJDHLKZQsIcB2QMp2sQGzg56H2CigDyTwp4H15Lb7bapDol1p+uzXlhb3lmvktBLaJEw8qGTEeWLtgNwc5HNYVx4H8QC00k65pEmp2sVvfRNbQ2UNyIp5LyRxJ5UsgC70ZcMCSuMEjOa94ooA8Wn8DeLv7L8RQWdxPEJ/C1rZbLiOOeS9lSKdWiL7sKw3AFuQS2e1Vtf8CeKdXufG9ulm8em3dvazwKsgD388drHGkY54RHVmbOMsqDkbq9yooA8YvPBesTfEO8ubvT7yW4l1qK7tNVgtoD5VupQhfPZxIiqAymML8wzgHdmuz8YaFreoeMtB1Tw+yxT6ZZ3jI8zlYXkeS2Aikxk7XRZcEA7SA3YA9pRQB4+3hDVtJtrqyuNL/ti1n157ye5mtEuXlZrOIGYQs4XDS+b1yE7ADBFvT/AAu9E8GDXPDdpNdWepTLei4t4naO18u6EaN1BQF4sKCQPlx0r1WigDxwaN9vvtZi07w5JJqv/AAkqva6wqRlbWNJYmb5ydyBVD/IBhtxxnc2LkfhTxDeXtlNfWkkVtpfime5tbdZVIkjkvJZWumwf7kiqqnkfOcHcMepQW0Ft5n2aGOLzXMknloF3uerHHUn1qWgDyezuL7R7rwhDqeiajbR2OqzxTXLIhjzcGWOIgh8kFpU7cVX0DTPGX/CM6Tol3Y3Rs7M6Y8guooY2hkhvbdmWMoxLoI1kJLDPyrgnJFewUUAcN490PW/E2uaJp+mwWh06zaS/upL9GeGWQDZFEQrAn77v6ZRau/DWx1jR/BNvoviGMi50qR7OObOVuIUP7qRe4GzaMHnKmusooAKKKKACiiigAooooAKKKKACiiigAooooAKKKKAMPxv/AMk+8Q/9gu5/9FNVf4c/8ks8Kf8AYGs//RCVN47cRfDrxI7cKulXRJ9hE1L4Gs5dP+Hnh2yuVKTW+l20UinsyxKCPzFAG7RRRQAVw3xFD6LeaF40iRnj0O4aO+Vcn/Q5wElbA67CI3+imu5pk0MVzbyQXEayxSqUdHGVZSMEEdxigBY5EmiWSJ1dHUMrKchgehBp1ec213d/ClvsOppcXng3JNpforSyaUP+eMwGSYh/DJztHytxg139lfWmpWcV3p1zDdW0y7o5oHDo49QRwaAJ6KKKACiiigAooooAKKKKACiiigAooooAKKKKACiiigAooooAKKKKACiiigAooooAKKKKACiiigAooooAKKKKACiiigAooooAKKKKACiiigAooooAKKKKACiiigAooooAKKKKACiiigAooooAKKKKACiiigAooooAKKKKACiiigAooooAKKKKACiiigAooooAKKKKACiiigAooooAKKKKACiiigAooooAKKKKACiiigAooooAKKKKACiiigAooooAKKKKACiiigAooooAKKK5fxL470/QbpdLsY31jX5h/o+kWZDSseMNIekScjLtgY6ZoAzfiXJ/bMGneCLRibnX5wtzsYgw2UZDTuSOmQBGM9S+K7oAKoAGAOAK5bwj4Xu9OubvXvEk8d34i1IKLiSMHy7aMcrbxZ5CLnr1Y5J9upoAKKKKACiiigAIBBBGQeorjb34XaBJczXWiSX/AIbu5yDLNol21sHIOfmjGY269SpNdlRQBysfhHW4owieP9fKjpvgsWP5m3yad/wiuu/9D/rn/gLYf/I1dRRQBy//AAiuu/8AQ/a5/wCAth/8jUf8Irrv/Q/65/4C2H/yNXUUUAcv/wAIrrv/AEP2uf8AgLYf/I1H/CK67/0P+uf+Ath/8jV1FFAHL/8ACK67/wBD9rn/AIC2H/yNR/wiuu/9D/rn/gLYf/I1dRRQBy//AAiuu/8AQ/a5/wCAth/8jUf8Irrv/Q/65/4C2H/yNXUUUAcv/wAIrrv/AEP2uf8AgLYf/I1H/CK67/0P+uf+Ath/8jV1FFAHL/8ACK67/wBD9rn/AIC2H/yNR/wiuu/9D/rn/gLYf/I1dRRQBy//AAiuu/8AQ/a5/wCAth/8jUf8Irrv/Q/65/4C2H/yNXUUUAcv/wAIrrv/AEP2uf8AgLYf/I1H/CK67/0P+uf+Ath/8jV1FFAHL/8ACK67/wBD9rn/AIC2H/yNR/wiuu/9D/rn/gLYf/I1dRRQBy//AAiuu/8AQ/a5/wCAth/8jUf8Irrv/Q/65/4C2H/yNXUUUAcv/wAIrrv/AEP2uf8AgLYf/I1H/CK67/0P+uf+Ath/8jV1FFAHL/8ACK67/wBD9rn/AIC2H/yNR/wiuu/9D/rn/gLYf/I1dRRQBy//AAiuu/8AQ/a5/wCAth/8jUf8Irrv/Q/65/4C2H/yNXUUUAcv/wAIrrv/AEP2uf8AgLYf/I1H/CK67/0P+uf+Ath/8jV1FFAHL/8ACK67/wBD9rn/AIC2H/yNR/wiuu/9D/rn/gLYf/I1dRRQBy//AAiuu/8AQ/a5/wCAth/8jUf8Irrv/Q/65/4C2H/yNXUUUAcv/wAIrrv/AEP2uf8AgLYf/I1H/CK67/0P+uf+Ath/8jV1FFAHL/8ACK67/wBD9rn/AIC2H/yNR/wiuu/9D/rn/gLYf/I1dRRQBy//AAiuu/8AQ/65/wCAth/8jUf8Irrv/Q/65/4C2H/yNXUUUAcv/wAIrrv/AEP+uf8AgLYf/I1H/CK67/0P+uf+Ath/8jV1FFAHL/8ACK67/wBD/rn/AIC2H/yNR/wiuu/9D9rn/gLYf/I1dRRQBy//AAiuu/8AQ/65/wCAth/8jUf8Irrv/Q/a5/4C2H/yNXUUUAcv/wAIrrv/AEP+uf8AgLYf/I1H/CK67/0P2uf+Ath/8jV1FFAHL/8ACK67/wBD/rn/AIC2H/yNR/wiuu/9D9rn/gLYf/I1dRRQBy//AAiuu/8AQ/65/wCAth/8jUf8Irrv/Q/a5/4C2H/yNXUUUAcv/wAIrrv/AEP+uf8AgLYf/I1H/CK67/0P2uf+Ath/8jV1FFAHL/8ACK67/wBD/rn/AIC2H/yNR/wiuu/9D9rn/gLYf/I1dRRQBy//AAiuu/8AQ/65/wCAth/8jUf8Irrv/Q/a5/4C2H/yNXUUUAcv/wAIrrv/AEP+uf8AgLYf/I1H/CK67/0P2uf+Ath/8jV1FFAHL/8ACK67/wBD/rn/AIC2H/yNR/wiuu/9D9rn/gLYf/I1dRRQBy//AAiuu/8AQ/65/wCAth/8jUf8Irrv/Q/a5/4C2H/yNXUUUAcv/wAIrrv/AEP+uf8AgLYf/I1H/CK67/0P2uf+Ath/8jV1FFAHL/8ACK67/wBD/rn/AIC2H/yNR/wiuu/9D9rn/gLYf/I1dRRQBy//AAiuu/8AQ/65/wCAth/8jUf8Irrv/Q/a5/4C2H/yNXUUUAcv/wAIrrv/AEP+uf8AgLYf/I1H/CK67/0P2uf+Ath/8jV1FFAHL/8ACK67/wBD/rn/AIC2H/yNR/wiuu/9D9rn/gLYf/I1dRRQBy//AAiuu/8AQ/65/wCAth/8jUf8Irrv/Q/a5/4C2H/yNXUUUAcv/wAIrrv/AEP+uf8AgLYf/I1H/CK67/0P2uf+Ath/8jV1FFAHL/8ACK67/wBD/rn/AIC2H/yNR/wiuu/9D9rn/gLYf/I1dRRQBy//AAiuu/8AQ/65/wCAth/8jUf8Irrv/Q/a5/4C2H/yNXUUUAcv/wAIrrv/AEP+uf8AgLYf/I1H/CK67/0P2uf+Ath/8jV1FFAHL/8ACK67/wBD/rn/AIC2H/yNR/wiuu/9D/rn/gLYf/I1dRRQBy//AAiuu/8AQ/65/wCAth/8jUf8Irrv/Q/65/4C2H/yNXUUUAcv/wAIrrv/AEP+uf8AgLYf/I1H/CK67/0P+uf+Ath/8jV1FFAHL/8ACK67/wBD9rn/AIC2H/yNR/wiuu/9D/rn/gLYf/I1dRRQBy//AAiuu/8AQ/a5/wCAth/8jUf8Irrv/Q/65/4C2H/yNXUUUAcv/wAIrrv/AEP2uf8AgLYf/I1H/CK67/0P+uf+Ath/8jV1FFAHL/8ACK67/wBD9rn/AIC2H/yNR/wiuu/9D/rn/gLYf/I1dRRQBy//AAiuu/8AQ/a5/wCAth/8jUf8Irrv/Q/65/4C2H/yNXUUUAcv/wAIrrv/AEP2uf8AgLYf/I1H/CK67/0P+uf+Ath/8jV1FFAHGXHw+uNQuEfV/G3ii7iX71vHdRWqSD0byI0Yj8a3PD3hTQvClmbbw9pkFjG2PMaNcvKR3dzlnPuxJrXooAKKKKACiiigD//Z)\n"
   ]
  },
  {
   "cell_type": "code",
   "execution_count": 5,
   "metadata": {},
   "outputs": [
    {
     "data": {
      "text/plain": [
       "(-5.0, 5.0)"
      ]
     },
     "execution_count": 5,
     "metadata": {},
     "output_type": "execute_result"
    },
    {
     "data": {
      "image/png": "[encoded data removed]",
      "text/plain": [
       "<Figure size 432x288 with 1 Axes>"
      ]
     },
     "metadata": {
      "needs_background": "light"
     },
     "output_type": "display_data"
    }
   ],
   "source": [
    "# предположим есть некоторый объект А\n",
    "A = [\n",
    "    [0,0],\n",
    "    [0,1],\n",
    "    [1,1],\n",
    "    [1,0],\n",
    "    [0,0]\n",
    "]\n",
    "A = np.array(A)\n",
    "x = A[:,0]\n",
    "y = A[:,1]\n",
    "\n",
    "plt.plot(x,y)\n",
    "plt.ylim([-5,5])\n",
    "plt.xlim([-5,5])"
   ]
  },
  {
   "cell_type": "code",
   "execution_count": 6,
   "metadata": {},
   "outputs": [
    {
     "data": {
      "text/plain": [
       "(-5.0, 5.0)"
      ]
     },
     "execution_count": 6,
     "metadata": {},
     "output_type": "execute_result"
    },
    {
     "data": {
      "image/png": "[encoded data removed]",
      "text/plain": [
       "<Figure size 432x288 with 1 Axes>"
      ]
     },
     "metadata": {
      "needs_background": "light"
     },
     "output_type": "display_data"
    }
   ],
   "source": [
    "# исходный объект\n",
    "A = [[0,0], [0,1], [1,1], [1,0], [0,0]]\n",
    "A = np.array(A)\n",
    "\n",
    "# Применим к объекту некоторый линейный оператор B (диагональная матрица)\n",
    "B = np.array([[2,0],[0,1]])\n",
    "\n",
    "# для перемножения необходимо транспонировать исходную матрицу А, \n",
    "# чтобы она совпадала по размерности с матрицей В\n",
    "res = B@A.T\n",
    "\n",
    "# полученный результат транспонируем обратно, чтобы можно было ег графически отобразить\n",
    "res = res.T\n",
    "\n",
    "# визуализируем\n",
    "A = np.array(res)\n",
    "x = A[:,0]\n",
    "y = A[:,1]\n",
    "\n",
    "plt.plot(x,y)\n",
    "plt.ylim([-5,5])\n",
    "plt.xlim([-5,5])"
   ]
  },
  {
   "cell_type": "markdown",
   "metadata": {},
   "source": [
    "Исходный объект трансформировался (растянулся по оси x) согласно значений по главной диагонали матрицы (2 и 1)"
   ]
  },
  {
   "cell_type": "code",
   "execution_count": 7,
   "metadata": {},
   "outputs": [
    {
     "data": {
      "text/plain": [
       "(-5.0, 5.0)"
      ]
     },
     "execution_count": 7,
     "metadata": {},
     "output_type": "execute_result"
    },
    {
     "data": {
      "image/png": "[encoded data removed]",
      "text/plain": [
       "<Figure size 432x288 with 1 Axes>"
      ]
     },
     "metadata": {
      "needs_background": "light"
     },
     "output_type": "display_data"
    }
   ],
   "source": [
    "# исходный объект\n",
    "A = [[0,0], [0,1], [1,1], [1,0], [0,0]]\n",
    "A = np.array(A)\n",
    "\n",
    "\n",
    "# Применим к объекту некоторый линейный оператор B (матрица общего вида)\n",
    "B = np.array([[-1,-1],[1,3]])\n",
    "\n",
    "# для перемножения необходимо транспонировать исходную матрицу А, \n",
    "# чтобы она совпадала по размерности с матрицей В\n",
    "res = B@A.T\n",
    "\n",
    "# полученный результат транспонируем обратно, чтобы можно было ег графически отобразить\n",
    "res = res.T\n",
    "\n",
    "# визуализируем\n",
    "A = np.array(res)\n",
    "x = A[:,0]\n",
    "y = A[:,1]\n",
    "\n",
    "plt.plot(x,y)\n",
    "plt.ylim([-5,5])\n",
    "plt.xlim([-5,5])"
   ]
  },
  {
   "cell_type": "markdown",
   "metadata": {},
   "source": [
    "Исходный объект  растянулся и повернулся относительно начала координат.\n",
    "Таким образом, можно использовать любую матрицу в качестве линейного оператора."
   ]
  },
  {
   "cell_type": "markdown",
   "metadata": {},
   "source": [
    "### Матричные разложения\n",
    "\n",
    "Если у матрицы большие размерности, то удобно представить её в виде комбинации простых матриц (разложить матрицу). Аналогия: разложение числа на множители.\n"
   ]
  },
  {
   "cell_type": "markdown",
   "metadata": {},
   "source": [
    "**Спектральное разложение** или разложение на основе собственных векторов - представление квадратной матрицы А (только для симметричных матриц) в виде произведения трех матриц:\n",
    "A=S∗D∗ST \\\n",
    "S - матрица, столбцы которой являются собственными векторами матрицы А \\\n",
    "D - диагональная матрица с соответсвующими собственными значениями матрицы А на главной диагонали."
   ]
  },
  {
   "cell_type": "markdown",
   "metadata": {},
   "source": [
    "**Сингулярное разложение** представляет линейное преобразование в виде композиции: вращения, растяжения по осям, вращения\n",
    "\n",
    "Существуют точные и приближенные методы. На практике чаще используются приближенные методы."
   ]
  },
  {
   "cell_type": "markdown",
   "metadata": {},
   "source": [
    "## Функции"
   ]
  },
  {
   "cell_type": "markdown",
   "metadata": {},
   "source": [
    "Функция — отображение элементов множества x на множество элементов f(x), причём для каждого x определено единственное значение f(x) \\\n",
    "D(x) — область определения функции, множество всех значений аргумента,  которые принимает функция \\\n",
    "E(f) — область значений функции, множество, состоящее из всех значений \\\n",
    "Функции используются внутри аналитических моделей, чтобы настроить модель для работы."
   ]
  },
  {
   "attachments": {
    "x%20lim.jpg": {
     "image/jpeg": "[encoded data removed]"
    }
   },
   "cell_type": "markdown",
   "metadata": {},
   "source": [
    "#### Непрерывность и предел функции\n",
    "Функция f(x) является непрерывной в точке x=a, если\n",
    "$$\\lim_{x \\to a} f(x) = f(\\lim_{x \\to a} x) = f(a)$$\n",
    "![x%20lim.jpg](attachment:x%20lim.jpg)"
   ]
  },
  {
   "cell_type": "markdown",
   "metadata": {},
   "source": [
    "### Производная функции\n",
    "Производная - это мгновенная скорость изменения значения функции в заданной точке\n",
    "$$f'(x) = \\lim_{\\Delta x \\to 0} \\frac{f(x+\\Delta x)-f(x)}{\\Delta x}$$\n",
    "\n",
    "На практике используются приближенные методы вычисления производных из-за сложности самих функций."
   ]
  },
  {
   "cell_type": "code",
   "execution_count": 36,
   "metadata": {},
   "outputs": [],
   "source": [
    "import sympy as sym "
   ]
  },
  {
   "cell_type": "code",
   "execution_count": 37,
   "metadata": {},
   "outputs": [],
   "source": [
    "# определим аналитические параметры\n",
    "x = sym.Symbol('x')"
   ]
  },
  {
   "cell_type": "code",
   "execution_count": 38,
   "metadata": {},
   "outputs": [
    {
     "data": {
      "text/latex": [
       "$\\displaystyle 3 x \\left(x^{2} + x\\right)^{3}$"
      ],
      "text/plain": [
       "3*x*(x**2 + x)**3"
      ]
     },
     "execution_count": 38,
     "metadata": {},
     "output_type": "execute_result"
    }
   ],
   "source": [
    "# пример функции\n",
    "3*x*(x**2+x)**3"
   ]
  },
  {
   "cell_type": "code",
   "execution_count": 40,
   "metadata": {},
   "outputs": [
    {
     "data": {
      "text/latex": [
       "$\\displaystyle 3 x \\left(6 x + 3\\right) \\left(x^{2} + x\\right)^{2} + 3 \\left(x^{2} + x\\right)^{3}$"
      ],
      "text/plain": [
       "3*x*(6*x + 3)*(x**2 + x)**2 + 3*(x**2 + x)**3"
      ]
     },
     "execution_count": 40,
     "metadata": {},
     "output_type": "execute_result"
    }
   ],
   "source": [
    "# продиффиринцируем эту функцию по x\n",
    "res = sym.diff(3*x*(x**2+x)**3)\n",
    "res"
   ]
  },
  {
   "cell_type": "code",
   "execution_count": 41,
   "metadata": {},
   "outputs": [
    {
     "data": {
      "text/latex": [
       "$\\displaystyle 132$"
      ],
      "text/plain": [
       "132"
      ]
     },
     "execution_count": 41,
     "metadata": {},
     "output_type": "execute_result"
    }
   ],
   "source": [
    "# значение производной в точке x = 1\n",
    "res.subs(x, 1)"
   ]
  },
  {
   "cell_type": "markdown",
   "metadata": {},
   "source": [
    "# Линейные уравнения\n",
    "\n",
    "Где применяется:\n",
    "- задачи оптимизации\n",
    "- задачи линейной регрессии\n",
    "- аппроксимация функций\n",
    "- интерполяция пропущенных значений и многое другое"
   ]
  },
  {
   "cell_type": "code",
   "execution_count": null,
   "metadata": {},
   "outputs": [],
   "source": [
    "# решение системы уравнений\n",
    "# 4x + 2y + z = 4\n",
    "# x + 3y = 12\n",
    "# 5y + 4z = -3"
   ]
  },
  {
   "cell_type": "code",
   "execution_count": 42,
   "metadata": {},
   "outputs": [
    {
     "name": "stdout",
     "output_type": "stream",
     "text": [
      "x = 0.06666666666666643, y = 3.977777777777778, z = -4.222222222222222\n"
     ]
    }
   ],
   "source": [
    "from numpy import linalg\n",
    "a = np.array( [ [4, 2, 1], [1, 3, 0], [0, 5, 4] ] )\n",
    "b = np.array([4, 12, 3])\n",
    "c = linalg.solve(a, b)\n",
    "print(f'x = {c[0]}, y = {c[1]}, z = {c[2]}' )"
   ]
  },
  {
   "cell_type": "code",
   "execution_count": null,
   "metadata": {},
   "outputs": [],
   "source": [
    "https://pyprog.pro/linear_algebra_functions/linalg_functions.html"
   ]
  }
 ],
 "metadata": {
  "kernelspec": {
   "display_name": "Python 3",
   "language": "python",
   "name": "python3"
  },
  "language_info": {
   "codemirror_mode": {
    "name": "ipython",
    "version": 3
   },
   "file_extension": ".py",
   "mimetype": "text/x-python",
   "name": "python",
   "nbconvert_exporter": "python",
   "pygments_lexer": "ipython3",
   "version": "3.8.5"
  }
 },
 "nbformat": 4,
 "nbformat_minor": 4
}
