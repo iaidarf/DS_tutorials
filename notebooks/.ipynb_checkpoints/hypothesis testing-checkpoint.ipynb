{
 "cells": [
  {
   "cell_type": "code",
   "execution_count": 1,
   "metadata": {
    "executionInfo": {
     "elapsed": 621,
     "status": "ok",
     "timestamp": 1665140534862,
     "user": {
      "displayName": "Айдар И",
      "userId": "17862391114143174856"
     },
     "user_tz": -300
    },
    "id": "Lo1ntkTJ1_GH",
    "scrolled": true
   },
   "outputs": [],
   "source": [
    "import numpy as np  \n",
    "import pandas as pd  # для работы с таблицами\n",
    "from scipy import stats # При работе со статистикой\n",
    "import matplotlib.pyplot as plt  # Библиотека для визуализации результатов \n",
    "import seaborn as sns # Более продвинутая библиотека для визуализации"
   ]
  },
  {
   "cell_type": "code",
   "execution_count": null,
   "metadata": {
    "id": "hF8VEs3P1_GR"
   },
   "outputs": [],
   "source": [
    "#Вспомогательная функция для подсчета доверительного интервала\n",
    "# https://stackoverflow.com/questions/15033511/compute-a-confidence-interval-from-sample-data\n",
    "\n",
    "def mean_confidence_interval(data, confidence=0.95): #Сложный пример реализации. Проще смотри в лекци. \n",
    "    n = len(data)\n",
    "    m, se = np.mean(data), stats.sem(data)\n",
    "    h = se * stats.t.ppf((1 + confidence)/2, n)  #  функция ppf из scipy возвращает нам перцентиль\n",
    "    return m-h, m, m+h "
   ]
  },
  {
   "cell_type": "markdown",
   "metadata": {},
   "source": [
    "**Статистическая гипотеза** - это предположение о каких-либо характеристиках случайной величины.\\\n",
    "Для проверки статистических гипотез зачастую применяются **статистические тесты**.\\\n",
    "В обобщенном виде алгоритм проверки статистической гипотезы выглядит таким образом:\n",
    "* Формулировка основной (H0) и альтернативной (H1) гипотез\n",
    "* Выбор уровня значимости\n",
    "* Выбор статистического критерия\n",
    "* Определения правила принятия решения\n",
    "* Итоговое принятие решения на основе исходной выборки данных\\\n",
    "Данные шаги являются унифицированными и схему можно использовать почти во всех случаях."
   ]
  },
  {
   "cell_type": "markdown",
   "metadata": {
    "executionInfo": {
     "elapsed": 4,
     "status": "ok",
     "timestamp": 1665140623480,
     "user": {
      "displayName": "Айдар И",
      "userId": "17862391114143174856"
     },
     "user_tz": -300
    },
    "id": "5enpGI7mG6YQ"
   },
   "source": [
    "# Статистическая проверка гипотез для несвязанных выборок"
   ]
  },
  {
   "cell_type": "markdown",
   "metadata": {},
   "source": [
    "Большинство тестов работает с нормально распределенными данными, поэтому первым делом нужно проверить данные на нормальность."
   ]
  },
  {
   "cell_type": "markdown",
   "metadata": {
    "id": "lQyPXe2CGVPJ"
   },
   "source": [
    "## Критерий Шапиро-Уилка\n",
    "Проверка на принадлежность выборки нормальной генеральной совокупности\\\n",
    "H0: распределение выборки нормально\\\n",
    "H1: распределение выборки не нормально"
   ]
  },
  {
   "cell_type": "code",
   "execution_count": 39,
   "metadata": {
    "colab": {
     "base_uri": "https://localhost:8080/"
    },
    "executionInfo": {
     "elapsed": 264,
     "status": "ok",
     "timestamp": 1665141027895,
     "user": {
      "displayName": "Айдар И",
      "userId": "17862391114143174856"
     },
     "user_tz": -300
    },
    "id": "RN_HeRPaGTty",
    "outputId": "67dcf631-eb95-462b-8fac-8e081e2c1031"
   },
   "outputs": [
    {
     "name": "stdout",
     "output_type": "stream",
     "text": [
      "Statistics=0.990, p=0.655\n",
      "Normal distribution (fail to reject H0)\n"
     ]
    }
   ],
   "source": [
    "# Генерируем случайное множество с нормальным распределением, где среднее = loc, а стандартное отклонение = scale\n",
    "np.random.seed(42)\n",
    "data = stats.norm.rvs(scale = 30, loc = 250, size = 100)\n",
    "\n",
    "stat, p = stats.shapiro(data)\n",
    "print('Statistics=%.3f, p=%.3f' % (stat, p))\n",
    "alpha = 0.05\n",
    "if p > alpha:\n",
    "    print('Normal distribution (fail to reject H0)')\n",
    "else:\n",
    "    print('Not Normal distribution (reject H0)')"
   ]
  },
  {
   "cell_type": "markdown",
   "metadata": {},
   "source": [
    "**p_value > 0.05, значит не можем отклонить нулевую гипотезу, значит распределение нормальное**"
   ]
  },
  {
   "cell_type": "markdown",
   "metadata": {
    "id": "3IoS57Ot1_G5"
   },
   "source": [
    "## t-критерий Стьюдента \n",
    "Тест на равенство средних. \\\n",
    "Критерий Стьюдента имеет несколько разновидностей"
   ]
  },
  {
   "cell_type": "markdown",
   "metadata": {},
   "source": [
    "### 1. Одновыборочный (выборка + ГС)\n",
    "Тест покажет нам, отличаются ли средние значения выборки и генеральной совокупности (сравниваем с генеральной!).\\\n",
    "H0:  μ =  μ0 \\\n",
    "H1:  μ !=  μ0"
   ]
  },
  {
   "cell_type": "code",
   "execution_count": null,
   "metadata": {},
   "outputs": [],
   "source": []
  },
  {
   "cell_type": "code",
   "execution_count": null,
   "metadata": {},
   "outputs": [],
   "source": []
  },
  {
   "cell_type": "code",
   "execution_count": null,
   "metadata": {},
   "outputs": [],
   "source": []
  },
  {
   "cell_type": "code",
   "execution_count": null,
   "metadata": {},
   "outputs": [],
   "source": []
  },
  {
   "cell_type": "markdown",
   "metadata": {},
   "source": [
    "### 2. Двухвыборочный (независимые выборки)\n",
    "H0:  μ1 =  μ2 \\\n",
    "H1:  μ1 !=  μ2"
   ]
  },
  {
   "cell_type": "code",
   "execution_count": 38,
   "metadata": {
    "colab": {
     "base_uri": "https://localhost:8080/"
    },
    "executionInfo": {
     "elapsed": 266,
     "status": "ok",
     "timestamp": 1665141033297,
     "user": {
      "displayName": "Айдар И",
      "userId": "17862391114143174856"
     },
     "user_tz": -300
    },
    "id": "xDEaK4G8IQIo",
    "outputId": "8a72b9cc-8edb-44c1-fafa-6e0cb94e7750"
   },
   "outputs": [
    {
     "name": "stdout",
     "output_type": "stream",
     "text": [
      "Statistics=2.465, p=0.014\n",
      "Different distribution (reject H0)\n"
     ]
    }
   ],
   "source": [
    "# Генерируем случайное множество с нормальным распределением, где среднее = loc, а стандартное отклонение = scale\n",
    "np.random.seed(42)\n",
    "A = stats.norm.rvs(loc=50, scale=10, size=1100)  \n",
    "B = stats.norm.rvs(loc=49, scale=10, size=1500) \n",
    "\n",
    "stat, p = stats.ttest_ind(A, B) #Критерий Стьюдента (t-test)\n",
    "print('Statistics=%.3f, p=%.3f' % (stat, p))\n",
    "\n",
    "alpha = 0.05\n",
    "if p > alpha:\n",
    "\tprint('Same distribution (fail to reject H0)')\n",
    "else:\n",
    "\tprint('Different distribution (reject H0)')"
   ]
  },
  {
   "cell_type": "markdown",
   "metadata": {},
   "source": [
    "**p_value меньше уровня значимости: 0.014 < 0.05, значит отклоняем нулевую гипотезу о равенстве средних, значит различие между выборками статистически значимо**"
   ]
  },
  {
   "cell_type": "markdown",
   "metadata": {
    "id": "WETRAeut1_G8"
   },
   "source": [
    "Можно посмотреть и убедиться в этом визуально:"
   ]
  },
  {
   "cell_type": "code",
   "execution_count": 33,
   "metadata": {
    "id": "tU6TNULW1_G8",
    "outputId": "0aa2d114-8efc-45f2-b6d5-4e0fb6668c02"
   },
   "outputs": [
    {
     "data": {
      "image/png": "[encoded data removed]",
      "text/plain": [
       "<Figure size 432x288 with 1 Axes>"
      ]
     },
     "metadata": {
      "needs_background": "light"
     },
     "output_type": "display_data"
    }
   ],
   "source": [
    "plt.hist(B, bins=25); \n",
    "plt.hist(A, bins=25); "
   ]
  },
  {
   "cell_type": "code",
   "execution_count": 34,
   "metadata": {
    "colab": {
     "base_uri": "https://localhost:8080/",
     "height": 265
    },
    "executionInfo": {
     "elapsed": 372,
     "status": "ok",
     "timestamp": 1665053672889,
     "user": {
      "displayName": "Айдар И",
      "userId": "17862391114143174856"
     },
     "user_tz": -300
    },
    "id": "PWpTT7WK1_G8",
    "outputId": "28fc107e-b476-4a31-f0cd-fa54a68b0744"
   },
   "outputs": [
    {
     "data": {
      "image/png": "[encoded data removed]",
      "text/plain": [
       "<Figure size 432x288 with 1 Axes>"
      ]
     },
     "metadata": {
      "needs_background": "light"
     },
     "output_type": "display_data"
    }
   ],
   "source": [
    "plt.boxplot(A);\n",
    "plt.boxplot(B);"
   ]
  },
  {
   "cell_type": "markdown",
   "metadata": {
    "id": "biyr19TN1_HG"
   },
   "source": [
    "### 3. Двухвыборочный (зависимые выборки)\n",
    "H0:  μ1 =  μ2 \\\n",
    "H1:  μ1 !=  μ2 \\\n",
    "По другому называется t-критерий парной выборки. Представляет собой статистическую процедуру, используемую для определения того, равна ли нулю средняя разница между двумя наборами наблюдений. Каждый субъект или объект измеряется дважды, в результате чего получаются пары наблюдений. "
   ]
  },
  {
   "cell_type": "markdown",
   "metadata": {},
   "source": [
    "Предположим, нас интересует оценка эффективности программы обучения компании. Один из подходов, который можно рассмотреть - это измерение производительности выборки сотрудников до и после завершения программы и анализ различий с использованием парного выборочного t-критерия. \\\n",
    "H0: Уровень производительности сотрудников не изменился."
   ]
  },
  {
   "cell_type": "code",
   "execution_count": 26,
   "metadata": {
    "id": "8Rk7cS6Y1_HI",
    "outputId": "b1aff031-a261-464e-a5c6-9a691fa43078"
   },
   "outputs": [
    {
     "data": {
      "text/html": [
       "<div>\n",
       "<style scoped>\n",
       "    .dataframe tbody tr th:only-of-type {\n",
       "        vertical-align: middle;\n",
       "    }\n",
       "\n",
       "    .dataframe tbody tr th {\n",
       "        vertical-align: top;\n",
       "    }\n",
       "\n",
       "    .dataframe thead th {\n",
       "        text-align: right;\n",
       "    }\n",
       "</style>\n",
       "<table border=\"1\" class=\"dataframe\">\n",
       "  <thead>\n",
       "    <tr style=\"text-align: right;\">\n",
       "      <th></th>\n",
       "      <th>before</th>\n",
       "      <th>after</th>\n",
       "      <th>change</th>\n",
       "    </tr>\n",
       "  </thead>\n",
       "  <tbody>\n",
       "    <tr>\n",
       "      <th>count</th>\n",
       "      <td>100.000000</td>\n",
       "      <td>100.000000</td>\n",
       "      <td>100.000000</td>\n",
       "    </tr>\n",
       "    <tr>\n",
       "      <th>mean</th>\n",
       "      <td>246.884604</td>\n",
       "      <td>246.723127</td>\n",
       "      <td>-0.161477</td>\n",
       "    </tr>\n",
       "    <tr>\n",
       "      <th>std</th>\n",
       "      <td>27.245053</td>\n",
       "      <td>27.010808</td>\n",
       "      <td>4.768345</td>\n",
       "    </tr>\n",
       "    <tr>\n",
       "      <th>min</th>\n",
       "      <td>171.407647</td>\n",
       "      <td>172.518101</td>\n",
       "      <td>-9.866856</td>\n",
       "    </tr>\n",
       "    <tr>\n",
       "      <th>25%</th>\n",
       "      <td>231.972830</td>\n",
       "      <td>229.732678</td>\n",
       "      <td>-4.301303</td>\n",
       "    </tr>\n",
       "    <tr>\n",
       "      <th>50%</th>\n",
       "      <td>246.191311</td>\n",
       "      <td>247.144815</td>\n",
       "      <td>0.147536</td>\n",
       "    </tr>\n",
       "    <tr>\n",
       "      <th>75%</th>\n",
       "      <td>262.178562</td>\n",
       "      <td>261.714136</td>\n",
       "      <td>2.417852</td>\n",
       "    </tr>\n",
       "    <tr>\n",
       "      <th>max</th>\n",
       "      <td>305.568346</td>\n",
       "      <td>306.534314</td>\n",
       "      <td>13.327846</td>\n",
       "    </tr>\n",
       "  </tbody>\n",
       "</table>\n",
       "</div>"
      ],
      "text/plain": [
       "           before       after      change\n",
       "count  100.000000  100.000000  100.000000\n",
       "mean   246.884604  246.723127   -0.161477\n",
       "std     27.245053   27.010808    4.768345\n",
       "min    171.407647  172.518101   -9.866856\n",
       "25%    231.972830  229.732678   -4.301303\n",
       "50%    246.191311  247.144815    0.147536\n",
       "75%    262.178562  261.714136    2.417852\n",
       "max    305.568346  306.534314   13.327846"
      ]
     },
     "execution_count": 26,
     "metadata": {},
     "output_type": "execute_result"
    }
   ],
   "source": [
    "np.random.seed(42)\n",
    "before = stats.norm.rvs(scale = 30, loc = 250, size = 100)\n",
    "after = before + stats.norm.rvs(scale = 5, loc = -.273, size = 100)\n",
    "df = pd.DataFrame( {\"before\":before,\n",
    "                    \"after\":after,\n",
    "                    \"change\":after-before})\n",
    "df.describe()"
   ]
  },
  {
   "cell_type": "code",
   "execution_count": 40,
   "metadata": {
    "id": "zc-PauZ21_HJ",
    "outputId": "4cf95546-d821-4670-d994-dc6ca301b9f2"
   },
   "outputs": [
    {
     "name": "stdout",
     "output_type": "stream",
     "text": [
      "Statistics=0.339, p=0.736\n",
      "Same distribution (fail to reject H0)\n"
     ]
    }
   ],
   "source": [
    "stat, p = stats.ttest_rel(a=before, b=after)\n",
    "print('Statistics=%.3f, p=%.3f' % (stat, p))\n",
    "\n",
    "alpha = 0.05\n",
    "if p > alpha:\n",
    "    print('Same distribution (fail to reject H0)')\n",
    "else:\n",
    "    print('Different distribution (reject H0)')"
   ]
  },
  {
   "cell_type": "markdown",
   "metadata": {
    "id": "Jf1u_Diy1_HL"
   },
   "source": [
    "**p_value > 0.05. Нулевую гипотезку не можем отклонить, производительность сотрудников не изменилась.**"
   ]
  },
  {
   "cell_type": "code",
   "execution_count": null,
   "metadata": {
    "id": "EsPI8NgF1_HR"
   },
   "outputs": [],
   "source": [
    " "
   ]
  },
  {
   "cell_type": "markdown",
   "metadata": {
    "id": "A9rXzCJV1_HT"
   },
   "source": [
    "# Точный критерий Фишера  и  Критерий пирсона ($\\chi^{2}$)"
   ]
  },
  {
   "cell_type": "markdown",
   "metadata": {
    "id": "uh5k85Li1_HT"
   },
   "source": [
    "<div class=\"alert alert-info\">\n",
    "<b>Вспомним: </b>\n",
    "    \n",
    "Критерий Стьюдента позволяет работать с численными переменными, но не позволяет работать с категориальными. Для этого существует критерий Фишера (или Хи-квадрат). Одна из его задач сказать, насколько случайно распределены значения между группами. Позволяет проверить гипотезу, есть ли значимый перевес между группами. Смотри пример в лекции.\n",
    "    \n",
    "</div>"
   ]
  },
  {
   "cell_type": "markdown",
   "metadata": {
    "id": "f8lRegXm1_HU"
   },
   "source": [
    "<div class=\"alert alert-info\">\n",
    "<b>Пример: </b>\n",
    "    \n",
    "Например, вы хотите проверить нет ли дискриминации \n",
    "по половому признаку в сфере Data Science.\n",
    "Вы узнали, что в какой-то компании после серии собеседований \n",
    "107 мужчин взяли на работу, а отказали 93-м мужчинам. \n",
    "А среди женщин 74 взяли, а отказали 45-и.\n",
    "Относится ли руководство компании \n",
    "предвзято к мужчинам или к женщинам?\n",
    "    \n",
    "</div>"
   ]
  },
  {
   "cell_type": "code",
   "execution_count": null,
   "metadata": {
    "id": "0EM2tdrR1_HU",
    "outputId": "2793bc8d-42ab-4468-8f77-def5c271c51d"
   },
   "outputs": [
    {
     "name": "stdout",
     "output_type": "stream",
     "text": [
      "[[107, 93], [74, 45]]\n"
     ]
    },
    {
     "data": {
      "text/plain": [
       "(0.6996512641673932, 0.1607594221528123)"
      ]
     },
     "execution_count": 26,
     "metadata": {},
     "output_type": "execute_result"
    }
   ],
   "source": [
    "import scipy as spy\n",
    "\n",
    "x = [[107,93],[74,45]]\n",
    "print(x)\n",
    "oddsratio, pvalue = spy.stats.fisher_exact(x) # Точный тест Фишера\n",
    "\n",
    "oddsratio, pvalue"
   ]
  },
  {
   "cell_type": "markdown",
   "metadata": {
    "id": "nrzn7A501_HV"
   },
   "source": [
    "# Критерий Пирсона (он же $\\chi^{2}$ )"
   ]
  },
  {
   "cell_type": "markdown",
   "metadata": {
    "id": "6LpcGAsR1_HW"
   },
   "source": [
    "**Пример использования Хи-квадрат теста**"
   ]
  },
  {
   "cell_type": "markdown",
   "metadata": {
    "id": "EFVLe-7R1_HX"
   },
   "source": [
    "<div class=\"alert alert-info\">\n",
    "<b>Пример: </b>\n",
    "    \n",
    "Например, вы хотите проверить правда ли эксперт по Data Science таковым является. Вы составили список вопросов, спросили эксперта и случайных прохожих. Количество правильный вопросов по каждому разделу вы записали в таблицу (таблица смежности)\n",
    "\n",
    "Выясните, исходя из полученных данных, действительно ли перед вами носитель экспертности или пока что еще не очень опытный начинаюший?\n",
    "    \n",
    "</div>"
   ]
  },
  {
   "cell_type": "code",
   "execution_count": null,
   "metadata": {
    "id": "MSv8cDOh1_HY",
    "outputId": "aabc377e-920f-4806-f4dd-b3482dc04038"
   },
   "outputs": [
    {
     "name": "stdout",
     "output_type": "stream",
     "text": [
      "Реальная таблица\n",
      "                    Machine Learning  Data Science  Analytics\n",
      "Эксперт                           22            99         59\n",
      "Случайный прохожий                10            12         31\n"
     ]
    }
   ],
   "source": [
    "import scipy as spy\n",
    "from scipy import stats\n",
    "\n",
    "# Сгенерируем случайную матрицу/табличку 2х2\n",
    "contingency_table = pd.DataFrame(\n",
    "    [  \n",
    "[22, 99, 59],\n",
    "[10, 12, 31]\n",
    "    ],\n",
    "    columns = ['Machine Learning', 'Data Science', 'Analytics'],\n",
    "    index = ['Эксперт', 'Случайный прохожий'])\n",
    "\n",
    "print('Реальная таблица')\n",
    "print(contingency_table)\n"
   ]
  },
  {
   "cell_type": "markdown",
   "metadata": {
    "id": "KXNSNIwg1_HY"
   },
   "source": [
    "**В качестве проверки мы можем сравнить p-значение и уровень значимости. Если значение p <уровня значимости, мы отклоняем нулевую гипотезу.**"
   ]
  },
  {
   "cell_type": "code",
   "execution_count": null,
   "metadata": {
    "id": "FYr4hmEp1_HY",
    "outputId": "2bb8d078-505f-48e6-ab24-94dfdbef6bf4"
   },
   "outputs": [
    {
     "name": "stdout",
     "output_type": "stream",
     "text": [
      "p-value=0.000173, significance=0.05\n",
      "\n",
      "0.00017303774198262266\n",
      "На 0.05 уровене значимости, мы отвергаем нулевые гипотезы и принимаем H1.\n",
      "            Они не независимы.\n",
      "Это правда эксперт!\n"
     ]
    }
   ],
   "source": [
    "chi, pval, dof, exp = stats.chi2_contingency(contingency_table.values) #Критерий Пирсона (хи квадрат)\n",
    "significance = 0.05\n",
    "print('p-value=%.6f, significance=%.2f\\n' % (pval, significance))\n",
    "\n",
    "print(pval)\n",
    "if pval < significance:\n",
    "    print(\"\"\"На %.2f уровене значимости, мы отвергаем нулевые гипотезы и принимаем H1.\n",
    "            Они не независимы.\"\"\" % (significance))\n",
    "    print('Это правда эксперт!')\n",
    "else:\n",
    "    print(\"\"\"На %.2f уровене значимости, мы принимаем нулевые гипотезы.  \n",
    "            Они независимы.\"\"\" % (significance))\n",
    "    \n",
    "    \n",
    "# Возвращает:\n",
    "# chi2 : Посчитанную статистику теста.\n",
    "# p :  p-value теста\n",
    "# dof : Степени свободы\n",
    "# expected : Ожидаемые частоты, основанные на предельных суммах таблицы."
   ]
  },
  {
   "cell_type": "code",
   "execution_count": null,
   "metadata": {
    "id": "Fq1Wpt-W1_HZ"
   },
   "outputs": [],
   "source": []
  },
  {
   "cell_type": "markdown",
   "metadata": {
    "id": "GKhz-lDQ1_Ha"
   },
   "source": [
    "# Рынок жилья в New York City  или Трюк с распределением"
   ]
  },
  {
   "cell_type": "markdown",
   "metadata": {
    "id": "5B2SVJTI1_Hb"
   },
   "source": [
    "New York City Airbnb Open Data\n",
    "Airbnb listings and metrics in NYC, NY, USA (2019)"
   ]
  },
  {
   "cell_type": "markdown",
   "metadata": {
    "id": "YrNCNWhH1_Hj"
   },
   "source": [
    "<p style=\"align: center;\"><img align=center src=\"https://upload.wikimedia.org/wikipedia/commons/5/5a/New_York_City_District_Map.png\n",
    "\"  width=400></p>\n"
   ]
  },
  {
   "cell_type": "markdown",
   "metadata": {
    "id": "epC_kB8_1_Hk"
   },
   "source": [
    "<div class=\"alert alert-info\">\n",
    "<b>Предостирежение: </b>\n",
    "    \n",
    "Для построения доверительного интервала с помощью метода, показанного выше, важно, чтобы распределение исследуемой выборки имело нормально распределение\n",
    "</div>"
   ]
  },
  {
   "cell_type": "code",
   "execution_count": null,
   "metadata": {
    "id": "FXa5KyBs1_Hl",
    "outputId": "025acd93-b058-41bb-fff9-5198c34e55f2"
   },
   "outputs": [
    {
     "data": {
      "text/html": [
       "<div>\n",
       "<style scoped>\n",
       "    .dataframe tbody tr th:only-of-type {\n",
       "        vertical-align: middle;\n",
       "    }\n",
       "\n",
       "    .dataframe tbody tr th {\n",
       "        vertical-align: top;\n",
       "    }\n",
       "\n",
       "    .dataframe thead th {\n",
       "        text-align: right;\n",
       "    }\n",
       "</style>\n",
       "<table border=\"1\" class=\"dataframe\">\n",
       "  <thead>\n",
       "    <tr style=\"text-align: right;\">\n",
       "      <th></th>\n",
       "      <th>id</th>\n",
       "      <th>name</th>\n",
       "      <th>host_id</th>\n",
       "      <th>host_name</th>\n",
       "      <th>neighbourhood_group</th>\n",
       "      <th>neighbourhood</th>\n",
       "      <th>latitude</th>\n",
       "      <th>longitude</th>\n",
       "      <th>room_type</th>\n",
       "      <th>price</th>\n",
       "      <th>minimum_nights</th>\n",
       "      <th>number_of_reviews</th>\n",
       "      <th>last_review</th>\n",
       "      <th>reviews_per_month</th>\n",
       "      <th>calculated_host_listings_count</th>\n",
       "      <th>availability_365</th>\n",
       "    </tr>\n",
       "  </thead>\n",
       "  <tbody>\n",
       "    <tr>\n",
       "      <th>0</th>\n",
       "      <td>2539</td>\n",
       "      <td>Clean &amp; quiet apt home by the park</td>\n",
       "      <td>2787</td>\n",
       "      <td>John</td>\n",
       "      <td>Brooklyn</td>\n",
       "      <td>Kensington</td>\n",
       "      <td>40.64749</td>\n",
       "      <td>-73.97237</td>\n",
       "      <td>Private room</td>\n",
       "      <td>149</td>\n",
       "      <td>1</td>\n",
       "      <td>9</td>\n",
       "      <td>2018-10-19</td>\n",
       "      <td>0.21</td>\n",
       "      <td>6</td>\n",
       "      <td>365</td>\n",
       "    </tr>\n",
       "    <tr>\n",
       "      <th>1</th>\n",
       "      <td>2595</td>\n",
       "      <td>Skylit Midtown Castle</td>\n",
       "      <td>2845</td>\n",
       "      <td>Jennifer</td>\n",
       "      <td>Manhattan</td>\n",
       "      <td>Midtown</td>\n",
       "      <td>40.75362</td>\n",
       "      <td>-73.98377</td>\n",
       "      <td>Entire home/apt</td>\n",
       "      <td>225</td>\n",
       "      <td>1</td>\n",
       "      <td>45</td>\n",
       "      <td>2019-05-21</td>\n",
       "      <td>0.38</td>\n",
       "      <td>2</td>\n",
       "      <td>355</td>\n",
       "    </tr>\n",
       "    <tr>\n",
       "      <th>3</th>\n",
       "      <td>3831</td>\n",
       "      <td>Cozy Entire Floor of Brownstone</td>\n",
       "      <td>4869</td>\n",
       "      <td>LisaRoxanne</td>\n",
       "      <td>Brooklyn</td>\n",
       "      <td>Clinton Hill</td>\n",
       "      <td>40.68514</td>\n",
       "      <td>-73.95976</td>\n",
       "      <td>Entire home/apt</td>\n",
       "      <td>89</td>\n",
       "      <td>1</td>\n",
       "      <td>270</td>\n",
       "      <td>2019-07-05</td>\n",
       "      <td>4.64</td>\n",
       "      <td>1</td>\n",
       "      <td>194</td>\n",
       "    </tr>\n",
       "  </tbody>\n",
       "</table>\n",
       "</div>"
      ],
      "text/plain": [
       "     id                                name  host_id    host_name  \\\n",
       "0  2539  Clean & quiet apt home by the park     2787         John   \n",
       "1  2595               Skylit Midtown Castle     2845     Jennifer   \n",
       "3  3831     Cozy Entire Floor of Brownstone     4869  LisaRoxanne   \n",
       "\n",
       "  neighbourhood_group neighbourhood  latitude  longitude        room_type  \\\n",
       "0            Brooklyn    Kensington  40.64749  -73.97237     Private room   \n",
       "1           Manhattan       Midtown  40.75362  -73.98377  Entire home/apt   \n",
       "3            Brooklyn  Clinton Hill  40.68514  -73.95976  Entire home/apt   \n",
       "\n",
       "   price  minimum_nights  number_of_reviews last_review  reviews_per_month  \\\n",
       "0    149               1                  9  2018-10-19               0.21   \n",
       "1    225               1                 45  2019-05-21               0.38   \n",
       "3     89               1                270  2019-07-05               4.64   \n",
       "\n",
       "   calculated_host_listings_count  availability_365  \n",
       "0                               6               365  \n",
       "1                               2               355  \n",
       "3                               1               194  "
      ]
     },
     "execution_count": 29,
     "metadata": {},
     "output_type": "execute_result"
    }
   ],
   "source": [
    "url  = 'https://raw.githubusercontent.com/a-milenkin/datasets_for_t-tests/main/AB_NYC_2019.csv'\n",
    "df = pd.read_csv(url, error_bad_lines=False)\n",
    "#df = pd.read_csv('AB_NYC_2019.csv')\n",
    "df.dropna(how='any',inplace=True)\n",
    "df.head(3)"
   ]
  },
  {
   "cell_type": "code",
   "execution_count": null,
   "metadata": {
    "id": "_rV6paEW1_Hl",
    "outputId": "fa0b1858-7f01-4c9f-ebf2-065a8c690e65"
   },
   "outputs": [
    {
     "data": {
      "text/plain": [
       "<AxesSubplot:>"
      ]
     },
     "execution_count": 30,
     "metadata": {},
     "output_type": "execute_result"
    },
    {
     "data": {
      "image/png": "[encoded data removed]",
      "text/plain": [
       "<Figure size 432x288 with 1 Axes>"
      ]
     },
     "metadata": {
      "needs_background": "light"
     },
     "output_type": "display_data"
    }
   ],
   "source": [
    "df[df.price<500].price.hist(bins=30)"
   ]
  },
  {
   "cell_type": "code",
   "execution_count": null,
   "metadata": {
    "id": "yhZaOTMp1_Hm",
    "outputId": "38af9f83-139f-4443-ec5c-41c7655d2609"
   },
   "outputs": [
    {
     "name": "stdout",
     "output_type": "stream",
     "text": [
      "Можно ли использовать тут наш подход?\n"
     ]
    }
   ],
   "source": [
    "print('Можно ли использовать тут наш подход?')"
   ]
  },
  {
   "cell_type": "markdown",
   "metadata": {
    "id": "SmuR8K1N1_Hm"
   },
   "source": [
    "# Теперь сделаем распределение нормальным"
   ]
  },
  {
   "cell_type": "code",
   "execution_count": null,
   "metadata": {
    "id": "xyndv8vD1_Hn",
    "outputId": "8b0603f9-c46f-42a3-d7df-5ebe44f4c108"
   },
   "outputs": [
    {
     "data": {
      "text/plain": [
       "<AxesSubplot:>"
      ]
     },
     "execution_count": 32,
     "metadata": {},
     "output_type": "execute_result"
    },
    {
     "data": {
      "image/png": "[encoded data removed]",
      "text/plain": [
       "<Figure size 432x288 with 1 Axes>"
      ]
     },
     "metadata": {
      "needs_background": "light"
     },
     "output_type": "display_data"
    }
   ],
   "source": [
    "np.log2(abs(df[df.price<500].price)+1).hist(bins=30)"
   ]
  },
  {
   "cell_type": "code",
   "execution_count": null,
   "metadata": {
    "id": "W1BWme1w1_Hn"
   },
   "outputs": [],
   "source": [
    "# df.neighbourhood_group.hist()"
   ]
  },
  {
   "cell_type": "code",
   "execution_count": null,
   "metadata": {
    "id": "O2WQES3N1_Ho",
    "outputId": "079a433a-346e-46df-c1ab-b3e743658300"
   },
   "outputs": [
    {
     "name": "stdout",
     "output_type": "stream",
     "text": [
      "122.56345677697612\n"
     ]
    },
    {
     "data": {
      "text/plain": [
       "(111.68856960410567, 115.49388042203987, 119.29919123997406)"
      ]
     },
     "execution_count": 34,
     "metadata": {},
     "output_type": "execute_result"
    }
   ],
   "source": [
    "print(df[df.price<400].price.mean())\n",
    "\n",
    "data = df[(df.neighbourhood_group == 'Brooklyn') | (df.neighbourhood_group=='Staten Island') | (df.neighbourhood_group=='Queens')].price\n",
    "\n",
    "mean_confidence_interval(data, confidence=0.999) # Возможно вам понадобиться эта функция."
   ]
  },
  {
   "cell_type": "markdown",
   "metadata": {
    "id": "JloQeLKI1_Ho"
   },
   "source": [
    "# Задания для самостоятельного решения\n"
   ]
  },
  {
   "cell_type": "markdown",
   "metadata": {
    "id": "gMuSCO7f1_Hp"
   },
   "source": [
    "<div class=\"alert alert-info\">\n",
    "<b>Задание № 0</b>\n",
    "\n",
    "Найдите минимально необходимый объем выборки для построения интервальной оценки среднего.\n",
    "\n",
    "- желаемая точность $\\Delta$ = 3;\n",
    "- дисперсия $\\sigma^2$  = 225;\n",
    "- уровень доверия $\\beta$ = 0.95.\n",
    "    \n",
    "Ответ округлите до целого\n",
    "</div>"
   ]
  },
  {
   "cell_type": "code",
   "execution_count": null,
   "metadata": {
    "colab": {
     "base_uri": "https://localhost:8080/"
    },
    "executionInfo": {
     "elapsed": 10,
     "status": "ok",
     "timestamp": 1665127737057,
     "user": {
      "displayName": "Айдар И",
      "userId": "17862391114143174856"
     },
     "user_tz": -300
    },
    "id": "WXsxDxaA1_Hp",
    "outputId": "405b8c54-dc1e-42c1-82db-4093b1d2adeb"
   },
   "outputs": [
    {
     "data": {
      "text/plain": [
       "96"
      ]
     },
     "execution_count": 1,
     "metadata": {},
     "output_type": "execute_result"
    }
   ],
   "source": [
    "### Ваши код/вычисления...\n",
    "n = int((1.96*(225**0.5)/3)**2)\n",
    "n #Запишите в эту переменную ваш высчитанный ответ!\n",
    "# n = 96 Запишите в эту переменную ваш высчитанный ответ!"
   ]
  },
  {
   "cell_type": "code",
   "execution_count": null,
   "metadata": {
    "id": "LdgW9uIu1_Hq"
   },
   "outputs": [],
   "source": [
    " "
   ]
  },
  {
   "cell_type": "markdown",
   "metadata": {
    "id": "OeWRdtyX1_Hq"
   },
   "source": [
    "<div class=\"alert alert-info\">\n",
    "<b>Задание № 1</b>\n",
    "\n",
    "Постройте `98% доверительный интервал` для среднего значения, если известно, что\n",
    "\n",
    "- объем выборки n = 25;\n",
    "- среднее значение по выборке $\\overline x$ = 130;\n",
    "- Из достоверных источников известно стандартное отклонение $\\sigma = 15$.\n",
    "    \n",
    "В ответ укажите длину полученного доверительного интервала (разницу между правым и левым концом), окруленную до целого\n",
    "</div>"
   ]
  },
  {
   "cell_type": "code",
   "execution_count": 37,
   "metadata": {
    "colab": {
     "base_uri": "https://localhost:8080/"
    },
    "executionInfo": {
     "elapsed": 456,
     "status": "ok",
     "timestamp": 1665070634703,
     "user": {
      "displayName": "Айдар И",
      "userId": "17862391114143174856"
     },
     "user_tz": -300
    },
    "id": "zPdapr1z1_Hq",
    "outputId": "8a7f0602-3262-44dd-91bc-d8ec8eff9507"
   },
   "outputs": [
    {
     "data": {
      "text/plain": [
       "260.0"
      ]
     },
     "execution_count": 37,
     "metadata": {},
     "output_type": "execute_result"
    }
   ],
   "source": [
    "### Ваши код/вычесления...\n",
    "n = 25\n",
    "x = 130\n",
    "sd = 15\n",
    "z = 2.326\n",
    "left = x -  z * sd/n*0.5\n",
    "right = x + z * sd/n*0.5\n",
    "L = left + right\n",
    "L\n",
    "# L = 260  #Запишите в эту переменную ваш высчитанный ответ!\n"
   ]
  },
  {
   "cell_type": "code",
   "execution_count": null,
   "metadata": {
    "id": "mPQE3eAp1_Hr"
   },
   "outputs": [],
   "source": [
    " "
   ]
  },
  {
   "cell_type": "markdown",
   "metadata": {
    "id": "szy5h8YM1_Hr"
   },
   "source": [
    "### 2. Вам даны две выборки роста мужчин и женщин. Докажите, используя t-Тест Стьдента, что различия между выборками незначительно, если уровень значимости равен 0.001"
   ]
  },
  {
   "cell_type": "markdown",
   "metadata": {
    "id": "LggJpaP11_Hs"
   },
   "source": [
    "<div class=\"alert alert-info\">\n",
    "<b>Задание № 2</b>\n",
    "\n",
    "Даны две выборки роста мужчин и женщин. \n",
    "- Докажите, используя `t-Тест Стьдента`, что различие между выборками незначительно, если уровень значимости равен $\\alpha$ `= 0.001`.\n",
    "- Покажите различия визуально\n",
    "</div>"
   ]
  },
  {
   "cell_type": "code",
   "execution_count": null,
   "metadata": {
    "colab": {
     "base_uri": "https://localhost:8080/"
    },
    "executionInfo": {
     "elapsed": 275,
     "status": "ok",
     "timestamp": 1665127925953,
     "user": {
      "displayName": "Айдар И",
      "userId": "17862391114143174856"
     },
     "user_tz": -300
    },
    "id": "Z3pvn9kR1_Hs",
    "outputId": "69c020f1-6ef5-4457-a70f-4263861798e0"
   },
   "outputs": [
    {
     "name": "stdout",
     "output_type": "stream",
     "text": [
      "p_value меньше уровня значимости: 0.00024875321033580573 < 0.001, значит различие между выборками незначительно\n"
     ]
    }
   ],
   "source": [
    "import scipy.stats as stats\n",
    "np.random.seed(42) #фиксация случайности\n",
    "\n",
    "mens  = stats.norm.rvs(loc=171, scale=100, size=150000)  # Выборка мужчин со средним ростом 171\n",
    "womens = stats.norm.rvs(loc=170, scale=100, size=150000)  # Выборка женщин со средним ростом 170\n",
    "#В двух строчках выше генерируется две выбороки, где loc это среднее значение, а scale это дисперсия\n",
    "\n",
    "### Ваш код...\n",
    "a = 0.001\n",
    "t, p_value = stats.ttest_ind(mens, womens) #Критерий Стьюдента (t-test)\n",
    "if p_value < a:\n",
    "  print(f'p_value меньше уровня значимости: {p_value} < {a}, значит различие между выборками незначительно')\n",
    "else:\n",
    "  print(f'p_value не меньше уровня значимости: {p_value} > {a}, значит различие между выборками статистически значимо')"
   ]
  },
  {
   "cell_type": "code",
   "execution_count": null,
   "metadata": {
    "colab": {
     "base_uri": "https://localhost:8080/",
     "height": 500
    },
    "executionInfo": {
     "elapsed": 1456,
     "status": "ok",
     "timestamp": 1665127937625,
     "user": {
      "displayName": "Айдар И",
      "userId": "17862391114143174856"
     },
     "user_tz": -300
    },
    "id": "PSbD4NlJ9i9f",
    "outputId": "44b33f0b-2098-46b1-c2a3-6cafa0fc574f"
   },
   "outputs": [
    {
     "data": {
      "text/plain": [
       "<matplotlib.axes._subplots.AxesSubplot at 0x7f49b0ff4810>"
      ]
     },
     "execution_count": 4,
     "metadata": {},
     "output_type": "execute_result"
    },
    {
     "data": {
      "image/png": "[encoded data removed]",
      "text/plain": [
       "<Figure size 1296x576 with 1 Axes>"
      ]
     },
     "metadata": {
      "needs_background": "light"
     },
     "output_type": "display_data"
    }
   ],
   "source": [
    "plt.figure(figsize=(18,8))\n",
    "sns.histplot(data = mens, color = 'b', alpha=0.15)\n",
    "sns.histplot(data = womens, color = 'r', alpha=0.15)\n",
    "\n",
    "# визуально - выборки практически идентичны "
   ]
  },
  {
   "cell_type": "code",
   "execution_count": null,
   "metadata": {
    "colab": {
     "base_uri": "https://localhost:8080/",
     "height": 265
    },
    "executionInfo": {
     "elapsed": 297,
     "status": "ok",
     "timestamp": 1665127943985,
     "user": {
      "displayName": "Айдар И",
      "userId": "17862391114143174856"
     },
     "user_tz": -300
    },
    "id": "g3x-jI2I-481",
    "outputId": "37ea25fa-5022-4bf5-c567-801ec6f8b581"
   },
   "outputs": [
    {
     "data": {
      "image/png": "[encoded data removed]",
      "text/plain": [
       "<Figure size 432x288 with 1 Axes>"
      ]
     },
     "metadata": {
      "needs_background": "light"
     },
     "output_type": "display_data"
    }
   ],
   "source": [
    "plt.boxplot(mens);\n",
    "plt.boxplot(womens);"
   ]
  },
  {
   "cell_type": "markdown",
   "metadata": {
    "id": "tcXMc60X1_Ht"
   },
   "source": [
    "### 3. Определите объем необходимой выборки для исследования среднего чека за кофе в случайном городе, если известно, что в этом городе стандартное отклонение = 150, уровень доверия = 95%. Погрешность 50 рублей. "
   ]
  },
  {
   "cell_type": "markdown",
   "metadata": {
    "id": "2ZEtO5N91_Ht"
   },
   "source": [
    "<div class=\"alert alert-info\">\n",
    "<b>Задание № 3</b>\n",
    "\n",
    "Определите объем необходимой выборки для исследования среднего чека за кофе в случайном городе если известно, что в этом городе:\n",
    "\n",
    "- стандартное отклонение $\\sigma = 150$;\n",
    "- уровень доверия $\\beta$  = 95%;\n",
    "- Погрешность $\\Delta = 50$ рублей.\n",
    "</div>"
   ]
  },
  {
   "cell_type": "code",
   "execution_count": null,
   "metadata": {
    "colab": {
     "base_uri": "https://localhost:8080/"
    },
    "executionInfo": {
     "elapsed": 444,
     "status": "ok",
     "timestamp": 1665070889756,
     "user": {
      "displayName": "Айдар И",
      "userId": "17862391114143174856"
     },
     "user_tz": -300
    },
    "id": "HPma9Upt1_Hu",
    "outputId": "c84fc0fa-4012-420f-c57f-3e2e762fa5f5"
   },
   "outputs": [
    {
     "data": {
      "text/plain": [
       "34"
      ]
     },
     "execution_count": 18,
     "metadata": {},
     "output_type": "execute_result"
    }
   ],
   "source": [
    "### Ваш код...\n",
    "sd = 150\n",
    "b = 0.95\n",
    "d = 50\n",
    "z = 1.96 \n",
    "n = int(((sd*z)/d)**2)\n",
    "n"
   ]
  },
  {
   "cell_type": "markdown",
   "metadata": {
    "id": "uFKBojBO1_Hu"
   },
   "source": [
    "<div class=\"alert alert-info\">\n",
    "<b>Задание № 4</b>\n",
    "\n",
    "Представьте, что вы хотите разоблачить \"волшебника\" который считает, что умеет предсказывать погоду на завтра, отвечая просто: дождь или солнце. Вы пронаблюдали за ответами \"волшебника\" в течении какого-то периода времени и получили некие результаты (см.ниже).\n",
    "\n",
    "Можно ли сказать, что маг действительно умеет предсказывать погоду? Уровень значимости принять за `0.05` ($\\alpha=0.05$).\n",
    "</div>"
   ]
  },
  {
   "cell_type": "code",
   "execution_count": null,
   "metadata": {
    "colab": {
     "base_uri": "https://localhost:8080/",
     "height": 112
    },
    "executionInfo": {
     "elapsed": 265,
     "status": "ok",
     "timestamp": 1665129488519,
     "user": {
      "displayName": "Айдар И",
      "userId": "17862391114143174856"
     },
     "user_tz": -300
    },
    "id": "fMnK1f0v1_Hu",
    "outputId": "5406ca93-6346-45d9-8a50-5d2b70e93baa"
   },
   "outputs": [
    {
     "data": {
      "text/html": [
       "\n",
       "  <div id=\"df-aec000ee-3f82-44c8-8054-da980da1553b\">\n",
       "    <div class=\"colab-df-container\">\n",
       "      <div>\n",
       "<style scoped>\n",
       "    .dataframe tbody tr th:only-of-type {\n",
       "        vertical-align: middle;\n",
       "    }\n",
       "\n",
       "    .dataframe tbody tr th {\n",
       "        vertical-align: top;\n",
       "    }\n",
       "\n",
       "    .dataframe thead th {\n",
       "        text-align: right;\n",
       "    }\n",
       "</style>\n",
       "<table border=\"1\" class=\"dataframe\">\n",
       "  <thead>\n",
       "    <tr style=\"text-align: right;\">\n",
       "      <th></th>\n",
       "      <th>Верные ответы волшебника</th>\n",
       "      <th>Неверные ответы</th>\n",
       "    </tr>\n",
       "  </thead>\n",
       "  <tbody>\n",
       "    <tr>\n",
       "      <th>Дождь</th>\n",
       "      <td>10</td>\n",
       "      <td>15</td>\n",
       "    </tr>\n",
       "    <tr>\n",
       "      <th>Солнце</th>\n",
       "      <td>39</td>\n",
       "      <td>34</td>\n",
       "    </tr>\n",
       "  </tbody>\n",
       "</table>\n",
       "</div>\n",
       "      <button class=\"colab-df-convert\" onclick=\"convertToInteractive('df-aec000ee-3f82-44c8-8054-da980da1553b')\"\n",
       "              title=\"Convert this dataframe to an interactive table.\"\n",
       "              style=\"display:none;\">\n",
       "        \n",
       "  <svg xmlns=\"http://www.w3.org/2000/svg\" height=\"24px\"viewBox=\"0 0 24 24\"\n",
       "       width=\"24px\">\n",
       "    <path d=\"M0 0h24v24H0V0z\" fill=\"none\"/>\n",
       "    <path d=\"M18.56 5.44l.94 2.06.94-2.06 2.06-.94-2.06-.94-.94-2.06-.94 2.06-2.06.94zm-11 1L8.5 8.5l.94-2.06 2.06-.94-2.06-.94L8.5 2.5l-.94 2.06-2.06.94zm10 10l.94 2.06.94-2.06 2.06-.94-2.06-.94-.94-2.06-.94 2.06-2.06.94z\"/><path d=\"M17.41 7.96l-1.37-1.37c-.4-.4-.92-.59-1.43-.59-.52 0-1.04.2-1.43.59L10.3 9.45l-7.72 7.72c-.78.78-.78 2.05 0 2.83L4 21.41c.39.39.9.59 1.41.59.51 0 1.02-.2 1.41-.59l7.78-7.78 2.81-2.81c.8-.78.8-2.07 0-2.86zM5.41 20L4 18.59l7.72-7.72 1.47 1.35L5.41 20z\"/>\n",
       "  </svg>\n",
       "      </button>\n",
       "      \n",
       "  <style>\n",
       "    .colab-df-container {\n",
       "      display:flex;\n",
       "      flex-wrap:wrap;\n",
       "      gap: 12px;\n",
       "    }\n",
       "\n",
       "    .colab-df-convert {\n",
       "      background-color: #E8F0FE;\n",
       "      border: none;\n",
       "      border-radius: 50%;\n",
       "      cursor: pointer;\n",
       "      display: none;\n",
       "      fill: #1967D2;\n",
       "      height: 32px;\n",
       "      padding: 0 0 0 0;\n",
       "      width: 32px;\n",
       "    }\n",
       "\n",
       "    .colab-df-convert:hover {\n",
       "      background-color: #E2EBFA;\n",
       "      box-shadow: 0px 1px 2px rgba(60, 64, 67, 0.3), 0px 1px 3px 1px rgba(60, 64, 67, 0.15);\n",
       "      fill: #174EA6;\n",
       "    }\n",
       "\n",
       "    [theme=dark] .colab-df-convert {\n",
       "      background-color: #3B4455;\n",
       "      fill: #D2E3FC;\n",
       "    }\n",
       "\n",
       "    [theme=dark] .colab-df-convert:hover {\n",
       "      background-color: #434B5C;\n",
       "      box-shadow: 0px 1px 3px 1px rgba(0, 0, 0, 0.15);\n",
       "      filter: drop-shadow(0px 1px 2px rgba(0, 0, 0, 0.3));\n",
       "      fill: #FFFFFF;\n",
       "    }\n",
       "  </style>\n",
       "\n",
       "      <script>\n",
       "        const buttonEl =\n",
       "          document.querySelector('#df-aec000ee-3f82-44c8-8054-da980da1553b button.colab-df-convert');\n",
       "        buttonEl.style.display =\n",
       "          google.colab.kernel.accessAllowed ? 'block' : 'none';\n",
       "\n",
       "        async function convertToInteractive(key) {\n",
       "          const element = document.querySelector('#df-aec000ee-3f82-44c8-8054-da980da1553b');\n",
       "          const dataTable =\n",
       "            await google.colab.kernel.invokeFunction('convertToInteractive',\n",
       "                                                     [key], {});\n",
       "          if (!dataTable) return;\n",
       "\n",
       "          const docLinkHtml = 'Like what you see? Visit the ' +\n",
       "            '<a target=\"_blank\" href=https://colab.research.google.com/notebooks/data_table.ipynb>data table notebook</a>'\n",
       "            + ' to learn more about interactive tables.';\n",
       "          element.innerHTML = '';\n",
       "          dataTable['output_type'] = 'display_data';\n",
       "          await google.colab.output.renderOutput(dataTable, element);\n",
       "          const docLink = document.createElement('div');\n",
       "          docLink.innerHTML = docLinkHtml;\n",
       "          element.appendChild(docLink);\n",
       "        }\n",
       "      </script>\n",
       "    </div>\n",
       "  </div>\n",
       "  "
      ],
      "text/plain": [
       "        Верные ответы волшебника  Неверные ответы\n",
       "Дождь                         10               15\n",
       "Солнце                        39               34"
      ]
     },
     "execution_count": 11,
     "metadata": {},
     "output_type": "execute_result"
    }
   ],
   "source": [
    "observations = pd.DataFrame([[10, 15],[39, 34]],\n",
    "                            index=['Дождь','Солнце'],\n",
    "                            columns=['Верные ответы волшебника','Неверные ответы'])\n",
    "observations"
   ]
  },
  {
   "cell_type": "code",
   "execution_count": null,
   "metadata": {
    "colab": {
     "base_uri": "https://localhost:8080/"
    },
    "executionInfo": {
     "elapsed": 357,
     "status": "ok",
     "timestamp": 1665129489246,
     "user": {
      "displayName": "Айдар И",
      "userId": "17862391114143174856"
     },
     "user_tz": -300
    },
    "id": "c_VOusPe1_Hu",
    "outputId": "529d431b-50fa-4f08-c03c-1c223d9bfa24"
   },
   "outputs": [
    {
     "data": {
      "text/plain": [
       "(0.5811965811965812, 0.35417955365927367)"
      ]
     },
     "execution_count": 12,
     "metadata": {},
     "output_type": "execute_result"
    }
   ],
   "source": [
    "import scipy.stats as stats\n",
    "# Учтите, что у стат. тестов, в том числе и точного теста Фишера под нулевой гипотезой подразумевается случайность/отсутсвие эффекта\n",
    "\n",
    "oddsratio, pvalue = stats.fisher_exact(observations)#Возможно пригодится эта функция.\n",
    "\n",
    "### Ваш код...\n",
    "oddsratio, pvalue\n"
   ]
  },
  {
   "cell_type": "code",
   "execution_count": null,
   "metadata": {
    "id": "g90SbGbvaDUU"
   },
   "outputs": [],
   "source": [
    "# H0: предсказания носят случайный характер, нет взаимосвязи между предсказаниями и реальной погодой.\n",
    "\n",
    "# p < 0,05 => Есть статистическая значимость взаимосвязи => H0 отвергается\n",
    "# p > 0,05 => Нет статистической значимости взаимосвязи => нет основания для отвержения H0 \n",
    "\n",
    "# Значение p=0,354 > 0,05. Нулевую гипотезу не опровеграем.\n"
   ]
  },
  {
   "cell_type": "markdown",
   "metadata": {
    "id": "j7L4dQ2t1_Hv"
   },
   "source": [
    "<div class=\"alert alert-info\">\n",
    "<b>Задание № 5</b> \n",
    "\n",
    "Используя функцию mean_confidence_interval(data, confidence), постройте доверительный интервал с уровнем доверия $\\beta = 90\\%$ для выборки:\n",
    "\n",
    "</div>"
   ]
  },
  {
   "cell_type": "code",
   "execution_count": null,
   "metadata": {
    "colab": {
     "base_uri": "https://localhost:8080/"
    },
    "executionInfo": {
     "elapsed": 914,
     "status": "ok",
     "timestamp": 1665072425697,
     "user": {
      "displayName": "Айдар И",
      "userId": "17862391114143174856"
     },
     "user_tz": -300
    },
    "id": "otDZF-R_1_Hw",
    "outputId": "a9f745a3-0d11-4da4-8440-7d1065d563c7"
   },
   "outputs": [
    {
     "data": {
      "text/plain": [
       "(6.074074746111319, 6.628571428571429, 7.183068111031539)"
      ]
     },
     "execution_count": 49,
     "metadata": {},
     "output_type": "execute_result"
    }
   ],
   "source": [
    "data = [4,5,8,9,6,7,5,6,7,8,5,6,7,0,9,8,4,6,\n",
    "        7,9,8,6,5,7,8,9,6,7,5,8,6,7,9,5,10]\n",
    "\n",
    "### Ваш код...\n",
    "confidence = 0.9\n",
    "l, m, r = mean_confidence_interval(data, confidence)\n",
    "l, m, r"
   ]
  },
  {
   "cell_type": "markdown",
   "metadata": {
    "id": "xE7GAWjo1_H0"
   },
   "source": [
    "<div class=\"alert alert-info\">\n",
    "<b>Задание № 6</b>\n",
    "\n",
    "Принадлежат ли выборки `A` и `B` одному множеству? \n",
    "    \n",
    "- Оцените это с помощью известных вам тестов для проверок статистических гипотез;\n",
    "- Покажите различия визуально.\n",
    "</div>"
   ]
  },
  {
   "cell_type": "code",
   "execution_count": null,
   "metadata": {
    "id": "LFO3W62f1_H0"
   },
   "outputs": [],
   "source": [
    "A = [4,5,8,9,6,7,5,6,7,6,8,5,6,7,8,4,\n",
    "    6,7,9,8,6,5,7,8,6,7,5,6,8,6,7,5,\n",
    "    4,5,8,9,6,7,5,6,7,6,8,5,6,7,8,4,\n",
    "    6,7,9,8,6,5,7,8,6,7,5,6,8,6,7,5,\n",
    "    4,5,8,9,6,7,5,6,7,6,8,5,6,7,8,4,\n",
    "    6,7,9,8,6,5,7,8,6,7,5,6,8,6,7,5,\n",
    "    4,5,8,9,6,7,5,6,7,6,8,5,6,7,8,4]\n",
    "\n",
    "B = [5,6,7,8,4,6,7,2,6,5,7,5,3,5,3,\n",
    "    5,3,5,5,8,7,6,4,5,3,5,4,6,4,5,3,\n",
    "    2,6,4,3,5,4,3,4,5,4,3,4,5,4,3,4,\n",
    "    2,6,4,3,5,4,3,4,5,4,3,4,5,4,3,4,\n",
    "    3,4,4,1,2,4,3,2,4,3,2,1,5,3,4,6,\n",
    "    3,2,4,5,6,4,3,3,5,3,4,4,4,2,5,3]\n",
    " \n",
    "\n",
    "#Ваш код:\n"
   ]
  },
  {
   "cell_type": "code",
   "execution_count": null,
   "metadata": {
    "colab": {
     "base_uri": "https://localhost:8080/"
    },
    "executionInfo": {
     "elapsed": 262,
     "status": "ok",
     "timestamp": 1665136104432,
     "user": {
      "displayName": "Айдар И",
      "userId": "17862391114143174856"
     },
     "user_tz": -300
    },
    "id": "O3H7ZkF3kYkI",
    "outputId": "e00e00b1-9ded-4e78-afed-02d678a10086"
   },
   "outputs": [
    {
     "name": "stdout",
     "output_type": "stream",
     "text": [
      "Statistics=11.865, p=0.000\n",
      "Different distribution (reject H0)\n"
     ]
    }
   ],
   "source": [
    "# t-тест показывает, имеют ли две выборки разные средние значения.\n",
    "# H0: обе выборки имеют равные средние.\n",
    "\n",
    "stat, p = stats.ttest_ind(A, B) #Критерий Стьюдента (t-test)\n",
    "print('Statistics=%.3f, p=%.3f' % (stat, p))\n",
    "\n",
    "alpha = 0.05\n",
    "if p > alpha:\n",
    "\tprint('Same distribution (fail to reject H0)')\n",
    "else:\n",
    "\tprint('Different distribution (reject H0)')"
   ]
  },
  {
   "cell_type": "code",
   "execution_count": null,
   "metadata": {
    "id": "1GMLVqTAi8Hn"
   },
   "outputs": [],
   "source": [
    "# F-тест используется для проверки равенства двух дисперсий \n",
    "# H0: обе выборки имеют одинаковые дисперсии \n",
    "# не нашел готовой библиотечной функции, но на просторах интернета нашел такую функцию:"
   ]
  },
  {
   "cell_type": "code",
   "execution_count": null,
   "metadata": {
    "colab": {
     "base_uri": "https://localhost:8080/"
    },
    "executionInfo": {
     "elapsed": 258,
     "status": "ok",
     "timestamp": 1665136146362,
     "user": {
      "displayName": "Айдар И",
      "userId": "17862391114143174856"
     },
     "user_tz": -300
    },
    "id": "qVWVAJAqnm0F",
    "outputId": "b762fc78-3bfe-4bb0-c75f-10cef1971be5"
   },
   "outputs": [
    {
     "name": "stdout",
     "output_type": "stream",
     "text": [
      "Statistics=0.881, p=0.741\n",
      "Same distribution (fail to reject H0)\n"
     ]
    }
   ],
   "source": [
    "x = np.array(A)\n",
    "y = np.array(B)\n",
    "\n",
    "def f_test(x, y):\n",
    "  \"\"\" F-test \"\"\"\n",
    "  f = np.var(x, ddof=1)/np.var(y, ddof=1) #calculate F test statistic \n",
    "  dfn = x.size-1 #define degrees of freedom numerator \n",
    "  dfd = y.size-1 #define degrees of freedom denominator \n",
    "  p = 1-stats.f.cdf(f, dfn, dfd) #find p-value of F test statistic \n",
    "  return f, p\n",
    "\n",
    "stat, p = f_test(x, y)\n",
    "print('Statistics=%.3f, p=%.3f' % (stat, p))\n",
    "\n",
    "alpha = 0.05\n",
    "if p > alpha:\n",
    "\tprint('Same distribution (fail to reject H0)')\n",
    "else:\n",
    "\tprint('Different distribution (reject H0)')"
   ]
  },
  {
   "cell_type": "code",
   "execution_count": null,
   "metadata": {
    "colab": {
     "base_uri": "https://localhost:8080/",
     "height": 265
    },
    "executionInfo": {
     "elapsed": 307,
     "status": "ok",
     "timestamp": 1665133915299,
     "user": {
      "displayName": "Айдар И",
      "userId": "17862391114143174856"
     },
     "user_tz": -300
    },
    "id": "dQYeu0YItw2G",
    "outputId": "88c0c44d-f34a-4d54-e0d7-a04a193381e3"
   },
   "outputs": [
    {
     "data": {
      "image/png": "[encoded data removed]",
      "text/plain": [
       "<Figure size 432x288 with 1 Axes>"
      ]
     },
     "metadata": {
      "needs_background": "light"
     },
     "output_type": "display_data"
    }
   ],
   "source": [
    "# посмотрим визуально:\n",
    "sns.kdeplot(A);\n",
    "sns.kdeplot(B);"
   ]
  },
  {
   "cell_type": "code",
   "execution_count": null,
   "metadata": {
    "colab": {
     "base_uri": "https://localhost:8080/",
     "height": 265
    },
    "executionInfo": {
     "elapsed": 429,
     "status": "ok",
     "timestamp": 1665133919582,
     "user": {
      "displayName": "Айдар И",
      "userId": "17862391114143174856"
     },
     "user_tz": -300
    },
    "id": "4A6Ig6hStzO3",
    "outputId": "d5972c4b-9554-4435-b41d-91c5142fc14a"
   },
   "outputs": [
    {
     "data": {
      "image/png": "[encoded data removed]",
      "text/plain": [
       "<Figure size 432x288 with 1 Axes>"
      ]
     },
     "metadata": {
      "needs_background": "light"
     },
     "output_type": "display_data"
    }
   ],
   "source": [
    "plt.boxplot(A);\n",
    "plt.boxplot(B);"
   ]
  },
  {
   "cell_type": "code",
   "execution_count": null,
   "metadata": {
    "id": "gNjwBq7q2X0d"
   },
   "outputs": [],
   "source": [
    "# визуально я бы сказал, что выборки из разных множеств"
   ]
  },
  {
   "cell_type": "code",
   "execution_count": null,
   "metadata": {
    "id": "iNOyQW-AxQyJ"
   },
   "outputs": [],
   "source": [
    "# разные критерии дают разный результат\n",
    "# возможно стоит проверить выборки на нормальность?\n",
    "# В основе проверки на “нормальность” лежит проверка гипотез.\n",
    "# Нулевая гипотеза – данные распределены нормально, альтернативная гипотеза – данные не имеют нормального распределения."
   ]
  },
  {
   "cell_type": "code",
   "execution_count": null,
   "metadata": {
    "id": "SudNYWI7xqMS"
   },
   "outputs": [],
   "source": []
  },
  {
   "cell_type": "code",
   "execution_count": null,
   "metadata": {
    "colab": {
     "base_uri": "https://localhost:8080/"
    },
    "executionInfo": {
     "elapsed": 4,
     "status": "ok",
     "timestamp": 1665136336120,
     "user": {
      "displayName": "Айдар И",
      "userId": "17862391114143174856"
     },
     "user_tz": -300
    },
    "id": "nAILX2YowTQD",
    "outputId": "c9dece4e-63a7-4030-b02c-4c7daf34c2d1"
   },
   "outputs": [
    {
     "name": "stdout",
     "output_type": "stream",
     "text": [
      "Statistics=0.936, p=0.000\n",
      "Not Normal distribution (reject H0)\n",
      "Statistics=0.949, p=0.001\n",
      "Not Normal distribution (reject H0)\n"
     ]
    }
   ],
   "source": []
  },
  {
   "cell_type": "code",
   "execution_count": null,
   "metadata": {
    "colab": {
     "base_uri": "https://localhost:8080/"
    },
    "executionInfo": {
     "elapsed": 269,
     "status": "ok",
     "timestamp": 1665136381351,
     "user": {
      "displayName": "Айдар И",
      "userId": "17862391114143174856"
     },
     "user_tz": -300
    },
    "id": "UqMRv7c4x71B",
    "outputId": "4d9e5c52-3031-405b-eb51-47f757074532"
   },
   "outputs": [
    {
     "name": "stdout",
     "output_type": "stream",
     "text": [
      "Statistics=6.579, p=0.037\n",
      "Not Normal distribution (reject H0)\n",
      "Statistics=2.602, p=0.272\n",
      "Normal distribution (fail to reject H0)\n"
     ]
    }
   ],
   "source": [
    "# Еще можно проверить по критерию Пирсона\n",
    "stat, p = stats.normaltest(A) \n",
    "print('Statistics=%.3f, p=%.3f' % (stat, p))\n",
    "alpha = 0.05\n",
    "if p > alpha:\n",
    "\tprint('Normal distribution (fail to reject H0)')\n",
    "else:\n",
    "\tprint('Not Normal distribution (reject H0)')\n",
    "\n",
    "stat, p = stats.normaltest(B) \n",
    "print('Statistics=%.3f, p=%.3f' % (stat, p)) \n",
    "alpha = 0.05\n",
    "if p > alpha:\n",
    "\tprint('Normal distribution (fail to reject H0)')\n",
    "else:\n",
    "\tprint('Not Normal distribution (reject H0)')"
   ]
  },
  {
   "cell_type": "code",
   "execution_count": null,
   "metadata": {
    "id": "Yl7o0XLqyrZQ"
   },
   "outputs": [],
   "source": [
    "# Получается из-за \"ненормальности\" данных \"не сработали\" тесты."
   ]
  },
  {
   "cell_type": "code",
   "execution_count": null,
   "metadata": {
    "colab": {
     "base_uri": "https://localhost:8080/"
    },
    "executionInfo": {
     "elapsed": 311,
     "status": "ok",
     "timestamp": 1665135976738,
     "user": {
      "displayName": "Айдар И",
      "userId": "17862391114143174856"
     },
     "user_tz": -300
    },
    "id": "u2gz8r7QzrRh",
    "outputId": "952a5e67-a698-4654-f973-ae4081bcc237"
   },
   "outputs": [
    {
     "name": "stdout",
     "output_type": "stream",
     "text": [
      "Statistics=0.054, p=0.816\n",
      "Same distribution (fail to reject H0)\n"
     ]
    }
   ],
   "source": [
    "# Есть еще критерий Флигнера-Килина, он работает и с \"не нормальными\" данными\n",
    "# Тест проверяет нулевую гипотезу о том, что все входные выборки взяты из популяций с одинаковыми дисперсиями\n",
    "# H0: дисперсии одинаковы у обоих выборок\n",
    "stat, p = stats.fligner(A, B)\n",
    "print('Statistics=%.3f, p=%.3f' % (stat, p))\n",
    "\n",
    "alpha = 0.05\n",
    "if p > alpha:\n",
    "\tprint('Same distribution (fail to reject H0)')\n",
    "else:\n",
    "\tprint('Different distribution (reject H0)')"
   ]
  },
  {
   "cell_type": "code",
   "execution_count": null,
   "metadata": {
    "colab": {
     "base_uri": "https://localhost:8080/"
    },
    "executionInfo": {
     "elapsed": 256,
     "status": "ok",
     "timestamp": 1665135884376,
     "user": {
      "displayName": "Айдар И",
      "userId": "17862391114143174856"
     },
     "user_tz": -300
    },
    "id": "B7VxaaW_zwYd",
    "outputId": "53ceff0e-08c8-46ce-ea71-b6588f3d0bb2"
   },
   "outputs": [
    {
     "name": "stdout",
     "output_type": "stream",
     "text": [
      "Statistics=9280.500, p=0.000\n",
      "Different distribution (reject H0)\n"
     ]
    }
   ],
   "source": [
    "# Попробуем критерий Манна-Уитни\n",
    "# H0: нет различий между распределениями выборок данных\n",
    "\n",
    "stat, p = stats.mannwhitneyu(A, B)\n",
    "print('Statistics=%.3f, p=%.3f' % (stat, p))\n",
    "\n",
    "alpha = 0.05\n",
    "if p > alpha:\n",
    "\tprint('Same distribution (fail to reject H0)')\n",
    "else:\n",
    "\tprint('Different distribution (reject H0)')"
   ]
  },
  {
   "cell_type": "code",
   "execution_count": null,
   "metadata": {
    "id": "HvKbrc9b1sA_"
   },
   "outputs": [],
   "source": [
    "# И тут показания разошлись :(\n",
    "# Чувствуется, что тут какой-то подвох, тем более что следующее задание без подвоха :)"
   ]
  },
  {
   "cell_type": "markdown",
   "metadata": {
    "id": "UoxtDU5N1_H1"
   },
   "source": [
    "<div class=\"alert alert-info\">\n",
    "<b>Задание № 7 (задание без подвоха)</b>\n",
    "\n",
    "На примере датасета про жилье в New York City, мы сталкивались с примером, когда переменная имеет не совсем нормальное распределение. \n",
    "\n",
    "- Предположим, Вы сформировали две гипотезы:\n",
    "    - нулевая гипотеза - распределение нормальное;\n",
    "    - альтернативная гипотеза - распределение ненормальное.\n",
    "- допустим, вы применили какой-то тест (сейчас неважно какой), который показал уровень значимости  `p-value = 0.03`. Каковы будут ваши выводы? Будем считать что у нас нормальное распределение или все-таки нет?)\n",
    "    \n",
    "</div>"
   ]
  },
  {
   "cell_type": "code",
   "execution_count": null,
   "metadata": {
    "id": "t7c3wL1j1_H1"
   },
   "outputs": [],
   "source": [
    "### Ваши выводы:\n",
    "# Так как за критически значимый уровень принимается p=0.05, то мы отвергаем нулевую гипотезу\n",
    "# и значит распредление ненормально"
   ]
  },
  {
   "cell_type": "markdown",
   "metadata": {
    "id": "IPcEsoLx1_H2"
   },
   "source": [
    "<div class=\"alert alert-info\">\n",
    "<b>Задание № 8</b>\n",
    "    \n",
    "Первая выборка — это пациенты, которых лечили препаратом `А`.  Вторая выборка — пациенты, которых лечили препаратом `B`.\n",
    "\n",
    "Значения в выборках — это некоторая характеристика эффективности лечения (уровень метаболита в крови, температура через три дня после начала лечения, срок выздоровления, число койко-дней, и т.д.) \n",
    "\n",
    "- Требуется выяснить, имеется ли значимое различие эффективности препаратов `А` и `B`, или различия являются чисто случайными и объясняются «естественной» дисперсией выбранной характеристики?  (`уровень значимости принять за 0.05 (5%)`)\n",
    "\n",
    "- При каком минимальном p-value различия были бы уже значимы? \n",
    "    \n",
    "- Если выборки незначительно отличаются, то продемонстрируйте это визуально\n",
    "</div>"
   ]
  },
  {
   "cell_type": "code",
   "execution_count": null,
   "metadata": {
    "id": "h0lolhpY1_H3"
   },
   "outputs": [],
   "source": [
    "np.random.seed(11)\n",
    "A = stats.norm.rvs(scale=15, loc=169, size=300)\n",
    "B = stats.norm.rvs(scale=14, loc=171.4, size=300)\n",
    "\n",
    "### Ваш код:\n",
    "# Подсказка, обратите внимание на Two-sample T-test"
   ]
  },
  {
   "cell_type": "code",
   "execution_count": null,
   "metadata": {
    "colab": {
     "base_uri": "https://localhost:8080/"
    },
    "executionInfo": {
     "elapsed": 11,
     "status": "ok",
     "timestamp": 1665136960394,
     "user": {
      "displayName": "Айдар И",
      "userId": "17862391114143174856"
     },
     "user_tz": -300
    },
    "id": "ijAypfyR1_H3",
    "outputId": "43fe29c7-99b4-477f-8845-34e10d084447"
   },
   "outputs": [
    {
     "data": {
      "text/plain": [
       "Ttest_relResult(statistic=-2.0349336314319992, pvalue=0.042739435733033855)"
      ]
     },
     "execution_count": 71,
     "metadata": {},
     "output_type": "execute_result"
    }
   ],
   "source": [
    "stats.ttest_rel(A, B)"
   ]
  },
  {
   "cell_type": "code",
   "execution_count": null,
   "metadata": {
    "id": "piMxnSIP1_H3"
   },
   "outputs": [],
   "source": [
    "# Нулевая гипотеза: обе группы имеют равные средние (лечение А и В имеют одинаковый эффект)\n",
    "# Значение p близко к критически значимому 0,05, но все еще меньше него. Это говорит о том, что мы отвергаем H0 (лечение А и В имеют разный эффект)\n",
    "# При значении p выше 0,05 оснований для отклонения нулевой гипотезы бы не было.\n",
    "# визуально также заметно, что распределения незначительно, но отличаются."
   ]
  },
  {
   "cell_type": "code",
   "execution_count": null,
   "metadata": {
    "colab": {
     "base_uri": "https://localhost:8080/",
     "height": 265
    },
    "executionInfo": {
     "elapsed": 320,
     "status": "ok",
     "timestamp": 1665138092000,
     "user": {
      "displayName": "Айдар И",
      "userId": "17862391114143174856"
     },
     "user_tz": -300
    },
    "id": "QyzifLVE1_H4",
    "outputId": "d79d7cd7-fc66-4291-fda3-395ddf4c921d"
   },
   "outputs": [
    {
     "data": {
      "image/png": "[encoded data removed]",
      "text/plain": [
       "<Figure size 432x288 with 1 Axes>"
      ]
     },
     "metadata": {
      "needs_background": "light"
     },
     "output_type": "display_data"
    }
   ],
   "source": [
    "sns.kdeplot(A);\n",
    "sns.kdeplot(B);"
   ]
  },
  {
   "cell_type": "code",
   "execution_count": null,
   "metadata": {
    "id": "Hz4VcU-l9n_w"
   },
   "outputs": [],
   "source": []
  }
 ],
 "metadata": {
  "colab": {
   "collapsed_sections": [
    "0IjCMbpd1_G9",
    "nrzn7A501_HV"
   ],
   "provenance": []
  },
  "kernelspec": {
   "display_name": "Python 3",
   "language": "python",
   "name": "python3"
  },
  "language_info": {
   "codemirror_mode": {
    "name": "ipython",
    "version": 3
   },
   "file_extension": ".py",
   "mimetype": "text/x-python",
   "name": "python",
   "nbconvert_exporter": "python",
   "pygments_lexer": "ipython3",
   "version": "3.8.5"
  },
  "toc": {
   "base_numbering": 1,
   "nav_menu": {},
   "number_sections": true,
   "sideBar": true,
   "skip_h1_title": false,
   "title_cell": "Table of Contents",
   "title_sidebar": "Contents",
   "toc_cell": false,
   "toc_position": {},
   "toc_section_display": true,
   "toc_window_display": false
  }
 },
 "nbformat": 4,
 "nbformat_minor": 1
}
